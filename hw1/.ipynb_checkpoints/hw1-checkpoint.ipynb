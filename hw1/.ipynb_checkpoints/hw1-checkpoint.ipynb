{
 "cells": [
  {
   "cell_type": "code",
   "execution_count": null,
   "metadata": {},
   "outputs": [],
   "source": [
    "import pandas as pd\n",
    "import argparse\n",
    "\n",
    "parser = argparse.ArgumentParser()\n",
    "parser.add_argument(\"--input\", type=str, required=True, help=\"Input file name\")\n",
    "parser.add_argument(\"--output\", type=str, required=True, help=\"Output file name\")\n",
    "parser.add_argument(\"--normalize\", type=str, required=False, help=\"Normalization\")\n",
    "args = parser.parse_args()\n",
    "\n",
    "#normalization\n",
    "def normalize(df):\n",
    "    t_max = 50\n",
    "    t_min = 0\n",
    "    h_max = 90\n",
    "    h_min = 20\n",
    "    df['temp'] = (df['temp']-tmin)/(tmax-tmin)\n",
    "    df['hum'] = (df['hum']-hmin)/(hmax-hmin)\n",
    "    \n",
    "    return df\n",
    "\n",
    "if(args.normalize == True):\n",
    "    df = normalize(df)"
   ]
  },
  {
   "cell_type": "code",
   "execution_count": null,
   "metadata": {},
   "outputs": [],
   "source": [
    "import tensorflow as tf\n",
    "import time as time\n",
    "import datetime\n",
    "import os\n",
    "  \n",
    "with tf.io.TFRecordWriter(\"prova\") as writer:\n",
    "    for row in df:\n",
    "        timestamp = row[0] + \",\" + row[1]\n",
    "        ts = datetime.datetime.strptime(timestamp, '%d/%m/%Y,%H:%M:%S' )\n",
    "        posix_ts = int(time.mktime(ts.timetuple()))\n",
    "        #posix_ts_enc = posix_ts.encode(\"utf-8\")\n",
    "        timestamp = tf.train.Feature(int64_list = tf.train.Int64List(value = [posix_ts]))\n",
    "        temperature = tf.train.Feature(int64_list = tf.train.Int64List(value = [row[2]]))\n",
    "        humidity = tf.train.Feature(int64_list = tf.train.Int64List(value = [row[3]]))\n",
    "        #print(timestamp, temperature, humidity)\n",
    "        mapping = {'timestamp': timestamp,\n",
    "                   'temperature': temperature,\n",
    "                   'humidity' : humidity}\n",
    "        example = tf.train.Example(features=tf.train.Features(feature=mapping))\n",
    "        print(\"Value of temperature-humidity-timestamp:\", list(example.features.feature['temperature'].int64_list.value)[0], \"-\",\\\n",
    "                                                          list(example.features.feature['humidity'].int64_list.value)[0], \"-\",\\\n",
    "                                                          list(example.features.feature['timestamp'].int64_list.value)[0])\n",
    "        \n",
    "        writer.write(example.SerializeToString())"
   ]
  }
 ],
 "metadata": {
  "kernelspec": {
   "display_name": "Python 3",
   "language": "python",
   "name": "python3"
  },
  "language_info": {
   "codemirror_mode": {
    "name": "ipython",
    "version": 3
   },
   "file_extension": ".py",
   "mimetype": "text/x-python",
   "name": "python",
   "nbconvert_exporter": "python",
   "pygments_lexer": "ipython3",
   "version": "3.6.9"
  }
 },
 "nbformat": 4,
 "nbformat_minor": 4
}
