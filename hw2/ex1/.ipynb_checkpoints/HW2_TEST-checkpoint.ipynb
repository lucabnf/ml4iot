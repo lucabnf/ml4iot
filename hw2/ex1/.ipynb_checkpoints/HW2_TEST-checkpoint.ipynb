{
 "cells": [
  {
   "cell_type": "code",
   "execution_count": null,
   "metadata": {},
   "outputs": [],
   "source": [
    "import argparse\n",
    "import numpy as np\n",
    "import os\n",
    "import pandas as pd\n",
    "import tensorflow as tf\n",
    "\n",
    "from tensorflow import keras\n",
    "\n",
    "\n",
    "# parser = argparse.ArgumentParser()\n",
    "# parser.add_argument('--model', type=str, required=True, help='model name')\n",
    "# parser.add_argument('--labels', type=int, required=True, help='model output')\n",
    "# args = parser.parse_args()\n",
    "\n",
    "seed = 42\n",
    "tf.random.set_seed(seed)\n",
    "np.random.seed(seed)\n",
    "\n",
    "zip_path = tf.keras.utils.get_file(\n",
    "    origin='https://storage.googleapis.com/tensorflow/tf-keras-datasets/jena_climate_2009_2016.csv.zip',\n",
    "    fname='jena_climate_2009_2016.csv.zip',\n",
    "    extract=True,\n",
    "    cache_dir='.', cache_subdir='data')\n",
    "csv_path, _ = os.path.splitext(zip_path)\n",
    "df = pd.read_csv(csv_path)\n",
    "\n",
    "column_indices = [2, 5]\n",
    "columns = df.columns[column_indices]\n",
    "data = df[columns].values.astype(np.float32)\n",
    "\n",
    "n = len(data)\n",
    "train_data = data[0:int(n*0.7)]\n",
    "val_data = data[int(n*0.7):int(n*0.9)]\n",
    "test_data = data[int(n*0.9):]\n",
    "\n",
    "mean = train_data.mean(axis=0)\n",
    "std = train_data.std(axis=0)\n"
   ]
  },
  {
   "cell_type": "code",
   "execution_count": 2,
   "metadata": {},
   "outputs": [
    {
     "name": "stdout",
     "output_type": "stream",
     "text": [
      "(2,)\n"
     ]
    }
   ],
   "source": [
    "print (mean.shape)"
   ]
  },
  {
   "cell_type": "markdown",
   "metadata": {},
   "source": [
    "# WindowGenerator"
   ]
  },
  {
   "cell_type": "code",
   "execution_count": 3,
   "metadata": {},
   "outputs": [],
   "source": [
    "input_width = 6\n",
    "version = \"b\"                     ####### Remove this later\n",
    "if version == \"a\" :               ####### Remember this is the argparse Arument --version \n",
    "    output_steps = 3\n",
    "if version == \"b\" :\n",
    "    output_steps = 9\n",
    "\n",
    "\n",
    "class WindowGenerator:\n",
    "    def __init__(self, input_width, output_steps, mean, std):\n",
    "        self.input_width = input_width\n",
    "        self.output_steps = output_steps\n",
    "        self.mean = tf.reshape(tf.convert_to_tensor(mean), [1, 1, 2])\n",
    "        self.std = tf.reshape(tf.convert_to_tensor(std), [1, 1, 2])\n",
    "\n",
    "\n",
    "    def split_window(self, features):\n",
    "        inputs = features[:, :self.input_width, :]        # for example if total window size = 9 input =  [:,:6 ,:] --> output [:,-3: , ] outpu_tstep = 3 \n",
    "        labels = features[:, -self.output_steps :, :]\n",
    "\n",
    "        inputs.set_shape([None, self.input_width, 2])\n",
    "        labels.set_shape([None, self.output_steps,2])\n",
    "\n",
    "        return inputs, labels\n",
    "\n",
    "    def normalize(self, features):\n",
    "        features = (features - self.mean) / (self.std + 1.e-6)\n",
    "\n",
    "        return features\n",
    "\n",
    "    def preprocess(self, features):\n",
    "        inputs, labels = self.split_window(features)\n",
    "        inputs = self.normalize(inputs)\n",
    "\n",
    "        return inputs, labels\n",
    "\n",
    "    def make_dataset(self, data, train):\n",
    "        ds = tf.keras.preprocessing.timeseries_dataset_from_array(\n",
    "                data=data,\n",
    "                targets=None,\n",
    "                sequence_length = input_width + self.output_steps,                       #### this change because now the total depends on the output widht\n",
    "                sequence_stride = 1,\n",
    "                batch_size = 32)\n",
    "        ds = ds.map(self.preprocess)\n",
    "        ds = ds.cache()\n",
    "        if train is True:\n",
    "            ds = ds.shuffle(100, reshuffle_each_iteration=True)\n",
    "\n",
    "        return ds"
   ]
  },
  {
   "cell_type": "code",
   "execution_count": 4,
   "metadata": {},
   "outputs": [],
   "source": [
    "# window = np.arange(18)\n",
    "# window = window.reshape(9,2)\n",
    "# print(len(window))\n",
    "# print(window)\n",
    "# print(window[:6].shape)\n",
    "# print(window[-3:].shape)"
   ]
  },
  {
   "cell_type": "code",
   "execution_count": 5,
   "metadata": {},
   "outputs": [],
   "source": [
    "generator = WindowGenerator(input_width, output_steps, mean, std)\n",
    "train_ds = generator.make_dataset(train_data, True)\n",
    "val_ds = generator.make_dataset(val_data, False)\n",
    "test_ds = generator.make_dataset(test_data, False)"
   ]
  },
  {
   "cell_type": "markdown",
   "metadata": {},
   "source": [
    "# checking the shapes "
   ]
  },
  {
   "cell_type": "code",
   "execution_count": 7,
   "metadata": {},
   "outputs": [],
   "source": [
    "it = iter(train_ds)"
   ]
  },
  {
   "cell_type": "code",
   "execution_count": 8,
   "metadata": {},
   "outputs": [
    {
     "name": "stdout",
     "output_type": "stream",
     "text": [
      "(32, 6, 2)\n",
      "(32, 9, 2)\n"
     ]
    }
   ],
   "source": [
    "\n",
    "inp , label = next(it)\n",
    "print(inp.shape)\n",
    "print(label.shape)\n"
   ]
  },
  {
   "cell_type": "markdown",
   "metadata": {},
   "source": [
    "# MultiOutputMAE"
   ]
  },
  {
   "cell_type": "code",
   "execution_count": 9,
   "metadata": {},
   "outputs": [],
   "source": [
    "# # Exercise 1.7\n",
    "class MultiOutputMAE(tf.keras.metrics.Metric):\n",
    "    def __init__(self, name='mean_absolute_error', **kwargs):\n",
    "        super().__init__(name=name, **kwargs)\n",
    "        self.total = self.add_weight('total', initializer='zeros', shape=(2,))\n",
    "        self.count = self.add_weight('count', initializer='zeros')\n",
    "\n",
    "    def update_state(self, y_true, y_pred, sample_weight=None):\n",
    "        error = tf.abs(y_pred- y_true)     \n",
    "        error = tf.reduce_mean(error, axis=[0,1])  # compute the mean for all samples in the batch for each feature (temp , hum) ==> output shape = (2,)\n",
    "        self.total.assign_add(error)\n",
    "        self.count.assign_add(1.)\n",
    "\n",
    "        return\n",
    "\n",
    "    def reset_states(self):\n",
    "        self.count.assign(tf.zeros_like(self.count))\n",
    "        self.total.assign(tf.zeros_like(self.total))\n",
    "\n",
    "    def result(self):\n",
    "        result = tf.math.divide_no_nan(self.total, self.count)\n",
    "\n",
    "        return result"
   ]
  },
  {
   "cell_type": "markdown",
   "metadata": {},
   "source": [
    "# building the models"
   ]
  },
  {
   "cell_type": "code",
   "execution_count": 10,
   "metadata": {},
   "outputs": [],
   "source": [
    "# Exercise 1.3\n",
    "mlp = tf.keras.Sequential([\n",
    "        tf.keras.layers.Flatten(input_shape = (input_width,2) , name='Flatten'),\n",
    "        tf.keras.layers.Dense(128, activation='relu' , name='Dense1'),\n",
    "        tf.keras.layers.Dense(128, activation='relu' , name='Dense2'),\n",
    "        tf.keras.layers.Dense(units = 2*output_steps , name='Output_layes'), \n",
    "        tf.keras.layers.Reshape([output_steps, 2])\n",
    "    ])\n",
    "\n",
    "############################################################################\n",
    "cnn = tf.keras.Sequential([\n",
    "        tf.keras.layers.Conv1D(input_shape = (input_width,2) , filters=64, kernel_size=3, activation='relu'),\n",
    "        tf.keras.layers.Flatten(),\n",
    "        tf.keras.layers.Dense(units=64, activation='relu'),\n",
    "        tf.keras.layers.Dense(units=2*output_steps), \n",
    "        tf.keras.layers.Reshape([output_steps, 2])\n",
    "    ])\n",
    "\n",
    "############################################################################\n",
    "\n",
    "lstm = tf.keras.Sequential([\n",
    "        tf.keras.layers.LSTM(input_shape = (input_width,2) ,units=64),\n",
    "        tf.keras.layers.Flatten(),\n",
    "        tf.keras.layers.Dense(units=2*output_steps),\n",
    "        tf.keras.layers.Reshape([output_steps, 2]), \n",
    "    ])"
   ]
  },
  {
   "cell_type": "code",
   "execution_count": 11,
   "metadata": {},
   "outputs": [],
   "source": [
    "MODELS = {'mlp': mlp, 'cnn': cnn, 'lstm': lstm}\n",
    "mymodel = 'lstm'\n",
    "  #"
   ]
  },
  {
   "cell_type": "code",
   "execution_count": 12,
   "metadata": {},
   "outputs": [],
   "source": [
    "# ! pip install pydot\n",
    "# ! pip install pydotplus\n",
    "# ! pip install graphviz\n",
    "# print(model.summary())"
   ]
  },
  {
   "cell_type": "code",
   "execution_count": 13,
   "metadata": {},
   "outputs": [
    {
     "data": {
      "image/png": "[encoded data removed]",
      "text/plain": [
       "<IPython.core.display.Image object>"
      ]
     },
     "execution_count": 13,
     "metadata": {},
     "output_type": "execute_result"
    }
   ],
   "source": [
    "import pydot\n",
    "tf.keras.utils.plot_model(model, to_file=f'{mymodel}.png',show_layer_names=True , show_shapes = True)"
   ]
  },
  {
   "cell_type": "markdown",
   "metadata": {},
   "source": [
    "# Define losses & Optimizer & metrics"
   ]
  },
  {
   "cell_type": "code",
   "execution_count": 35,
   "metadata": {},
   "outputs": [],
   "source": [
    "def get_model(model):\n",
    "    model = MODELS[mymodel]\n",
    "    loss =   tf.keras.losses.MeanSquaredError()                       #tf.keras.losses.MeanSquaredError()\n",
    "    optimizer = tf.keras.optimizers.Adam()\n",
    "    metrics = [MultiOutputMAE()]\n",
    "\n",
    "    # Training and optimizing\n",
    "\n",
    "    model.compile(loss = loss, optimizer = optimizer, metrics = metrics)\n",
    "    \n",
    "    return model"
   ]
  },
  {
   "cell_type": "code",
   "execution_count": 49,
   "metadata": {},
   "outputs": [],
   "source": [
    "class TEMP_HUM_VAL(tf.keras.callbacks.Callback):\n",
    "    def on_epoch_end(self, epoch, logs):\n",
    "        hum = logs[\"val_mean_absolute_error\"][1]\n",
    "        temp = logs[\"val_mean_absolute_error\"][0]\n",
    "        print(f\"\\n Hum MAE = {hum} , Temp MAE = {temp} \")\n",
    "        # return temp , hum\n",
    "            \n"
   ]
  },
  {
   "cell_type": "code",
   "execution_count": 50,
   "metadata": {},
   "outputs": [
    {
     "name": "stdout",
     "output_type": "stream",
     "text": [
      "Epoch 1/2\n",
      "9195/9200 [============================>.] - ETA: 0s - loss: 6.2245 - mean_absolute_error: 1.3413\n",
      " Hum MAE = 2.1311137676239014 , Temp MAE = 0.6020656824111938 \n",
      "9200/9200 [==============================] - 18s 2ms/step - loss: 6.2237 - mean_absolute_error: 1.3413 - val_loss: 6.2131 - val_mean_absolute_error: 1.3666\n",
      "Epoch 2/2\n",
      "9186/9200 [============================>.] - ETA: 0s - loss: 6.1971 - mean_absolute_error: 1.3376\n",
      " Hum MAE = 2.2985217571258545 , Temp MAE = 0.6088789701461792 \n",
      "9200/9200 [==============================] - 18s 2ms/step - loss: 6.2064 - mean_absolute_error: 1.3384 - val_loss: 6.7111 - val_mean_absolute_error: 1.4537\n",
      "Model: \"sequential_2\"\n",
      "_________________________________________________________________\n",
      "Layer (type)                 Output Shape              Param #   \n",
      "=================================================================\n",
      "lstm (LSTM)                  (None, 64)                17152     \n",
      "_________________________________________________________________\n",
      "flatten_1 (Flatten)          (None, 64)                0         \n",
      "_________________________________________________________________\n",
      "dense_2 (Dense)              (None, 18)                1170      \n",
      "_________________________________________________________________\n",
      "reshape_2 (Reshape)          (None, 9, 2)              0         \n",
      "=================================================================\n",
      "Total params: 18,322\n",
      "Trainable params: 18,322\n",
      "Non-trainable params: 0\n",
      "_________________________________________________________________\n",
      "None\n"
     ]
    }
   ],
   "source": [
    "mycallback = TEMP_HUM_VAL()\n",
    "model = get_model(mymodel)\n",
    "# tb_run = 0\n",
    "# tb_callback = keras.callbacks.TensorBoard(log_dir='./tb_log/run_{}'.format(tb_run), histogram_freq=1)\n",
    "\n",
    "# history = model.fit(inp_train,target_train,  epochs=5,validation_data=val_ds ,batch_size=len(batch_train), callbacks=[tb_callback , model_checkpoint_callback] , verbose=2)\n",
    "history = model.fit(train_ds, epochs=20,   validation_data=val_ds,callbacks=[mycallback])\n",
    "# tb_run += 1\n",
    "\n",
    "print(model.summary())"
   ]
  },
  {
   "cell_type": "code",
   "execution_count": 46,
   "metadata": {},
   "outputs": [
    {
     "name": "stdout",
     "output_type": "stream",
     "text": [
      "dict_keys(['loss', 'mean_absolute_error', 'val_loss', 'val_mean_absolute_error'])\n"
     ]
    }
   ],
   "source": [
    "x = history.history\n",
    "print(x.keys())"
   ]
  },
  {
   "cell_type": "code",
   "execution_count": 44,
   "metadata": {},
   "outputs": [
    {
     "name": "stdout",
     "output_type": "stream",
     "text": [
      "[0.53423244 2.2134619 ]\n"
     ]
    }
   ],
   "source": [
    "print(x[\"val_mean_absolute_error\"][0])"
   ]
  },
  {
   "cell_type": "markdown",
   "metadata": {},
   "source": [
    "# Evaluation Model "
   ]
  },
  {
   "cell_type": "code",
   "execution_count": 78,
   "metadata": {},
   "outputs": [
    {
     "name": "stdout",
     "output_type": "stream",
     "text": [
      "1314/1314 [==============================] - 1s 872us/step - loss: 6.6840 - mean_absolute_error: 1.4643\n",
      "Temp mae = 0.5911256670951843: , HUM mae = 2.3374264240264893 \n"
     ]
    }
   ],
   "source": [
    "loss, error = model.evaluate(test_ds)\n",
    "print(f'Temp mae = {error[0]}: , HUM mae = {error[1]} ')\n",
    "# error[0]"
   ]
  },
  {
   "cell_type": "markdown",
   "metadata": {},
   "source": [
    "# TF LITE MODEL SIZE "
   ]
  },
  {
   "cell_type": "code",
   "execution_count": 88,
   "metadata": {},
   "outputs": [],
   "source": [
    "def save_TF_lite(model_name, tflite_dic):\n",
    "    if not os.path.exists('./models'):\n",
    "        os.makedirs('./models')\n",
    "\n",
    "    run_model = tf.function(lambda x: model(x))\n",
    "    concrete_func = run_model.get_concrete_function(tf.TensorSpec([1, 6, 2], tf.float32))\n",
    "    saving_path = os.path.join('.','models', model_name)\n",
    "    model.save(saving_path ,signatures=concrete_func )\n",
    "\n",
    "    best_model = tf.keras.models.load_model(filepath = saving_path , custom_objects={'MultiOutputMAE':MultiOutputMAE})\n",
    "    best_model.evaluate(test_ds)\n",
    "    \n",
    "    converter = tf.lite.TFLiteConverter.from_saved_model(saving_path)\n",
    "    tflite_model = converter.convert()\n",
    "    tflite_model_dir = tflite_dic\n",
    "    with open(tflite_model_dir, 'wb') as fp:\n",
    "        fp.write(tflite_model)\n",
    "    print(f\"the model is saved to {tflite_model_dir}\")"
   ]
  },
  {
   "cell_type": "markdown",
   "metadata": {},
   "source": [
    "### USE THIS FUNCTION TO CREATE AND SAVE TF.LITE / REMEMBER TO CHANGE THE NAMES TO YOUR MODEL AND VERSION "
   ]
  },
  {
   "cell_type": "code",
   "execution_count": 89,
   "metadata": {},
   "outputs": [
    {
     "name": "stdout",
     "output_type": "stream",
     "text": [
      "INFO:tensorflow:Assets written to: .\\models\\test\\assets\n"
     ]
    },
    {
     "name": "stderr",
     "output_type": "stream",
     "text": [
      "INFO:tensorflow:Assets written to: .\\models\\test\\assets\n"
     ]
    },
    {
     "name": "stdout",
     "output_type": "stream",
     "text": [
      "1314/1314 [==============================] - 1s 879us/step - loss: 6.6840 - mean_absolute_error: 1.4643\n",
      "the model is saved to tflite_lstm\n"
     ]
    }
   ],
   "source": [
    "save_TF_lite(\"test\" , \"test_tflite\")"
   ]
  },
  {
   "cell_type": "code",
   "execution_count": null,
   "metadata": {},
   "outputs": [],
   "source": []
  },
  {
   "cell_type": "code",
   "execution_count": null,
   "metadata": {},
   "outputs": [],
   "source": [
    "# interpreter = tf.lite.Interpreter(model_path='E:\\Github\\Machine-learning-for-IOT\\Lab3\\ex1\\CNN\\saved_model.pb')\n",
    "# interpreter.allocate_tensors()"
   ]
  }
 ],
 "metadata": {
  "kernelspec": {
   "display_name": "Python 3",
   "language": "python",
   "name": "python3"
  },
  "language_info": {
   "codemirror_mode": {
    "name": "ipython",
    "version": 3
   },
   "file_extension": ".py",
   "mimetype": "text/x-python",
   "name": "python",
   "nbconvert_exporter": "python",
   "pygments_lexer": "ipython3",
   "version": "3.6.9"
  }
 },
 "nbformat": 4,
 "nbformat_minor": 5
}
