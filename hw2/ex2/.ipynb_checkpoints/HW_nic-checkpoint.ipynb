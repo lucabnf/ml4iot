{
 "cells": [
  {
   "cell_type": "markdown",
   "id": "79ffef86",
   "metadata": {},
   "source": [
    "# **Exercise 2 - Homework 2**\n",
    "\n",
    "## Download dataset"
   ]
  },
  {
   "cell_type": "code",
   "execution_count": 10,
   "id": "0d93985f-f8ea-4761-982b-96b12a681e74",
   "metadata": {},
   "outputs": [
    {
     "name": "stdout",
     "output_type": "stream",
     "text": [
      "2.7.0\n"
     ]
    },
    {
     "data": {
      "text/plain": [
       "'1.19.5'"
      ]
     },
     "execution_count": 10,
     "metadata": {},
     "output_type": "execute_result"
    }
   ],
   "source": [
    "import numpy as np\n",
    "import tensorflow as tf\n",
    "print(tf.__version__)\n",
    "np.version.version"
   ]
  },
  {
   "cell_type": "code",
   "execution_count": 40,
   "id": "7f8ccfbd",
   "metadata": {},
   "outputs": [
    {
     "name": "stdout",
     "output_type": "stream",
     "text": [
      "Defaulting to user installation because normal site-packages is not writeable\n",
      "Collecting tensorflow-io==0.23.1\n",
      "  Downloading tensorflow_io-0.23.1-cp39-cp39-manylinux_2_12_x86_64.manylinux2010_x86_64.whl (23.1 MB)\n",
      "     |████████████████████████████████| 23.1 MB 76 kB/s             \n",
      "\u001b[?25hCollecting tensorflow-io-gcs-filesystem==0.23.1\n",
      "  Using cached tensorflow_io_gcs_filesystem-0.23.1-cp39-cp39-manylinux_2_12_x86_64.manylinux2010_x86_64.whl (2.1 MB)\n",
      "Installing collected packages: tensorflow-io-gcs-filesystem, tensorflow-io\n",
      "  Attempting uninstall: tensorflow-io-gcs-filesystem\n",
      "    Found existing installation: tensorflow-io-gcs-filesystem 0.18.0\n",
      "    Uninstalling tensorflow-io-gcs-filesystem-0.18.0:\n",
      "      Successfully uninstalled tensorflow-io-gcs-filesystem-0.18.0\n",
      "  Attempting uninstall: tensorflow-io\n",
      "    Found existing installation: tensorflow-io 0.18.0\n",
      "    Uninstalling tensorflow-io-0.18.0:\n",
      "      Successfully uninstalled tensorflow-io-0.18.0\n",
      "Successfully installed tensorflow-io-0.23.1 tensorflow-io-gcs-filesystem-0.23.1\n"
     ]
    }
   ],
   "source": [
    "!pip install -U tensorflow-io==0.23.1\n",
    "import argparse \n",
    "import tensorflow_io as tfio\n",
    "from scipy import signal\n",
    "from scipy.io import wavfile\n",
    "import numpy as np\n",
    "import os\n",
    "import zlib\n",
    "import tensorflow as tf\n",
    "import tensorflow_model_optimization as tfmot\n",
    "\n",
    "# from subprocess import Popen\n",
    "# Popen('sudo sh -c \"echo performance >\" /sys/devices/system/cpu/cpufreq/policy0/scaling_governor\"',\n",
    "#       shell=True).wait()\n",
    "\n",
    "args_version = \"a\"\n",
    "args_mfcc = True\n",
    "\n",
    "seed = 42\n",
    "tf.random.set_seed(seed)\n",
    "np.random.seed(seed)\n",
    "\n",
    "zip_path = tf.keras.utils.get_file(\n",
    "    origin=\"http://storage.googleapis.com/download.tensorflow.org/data/mini_speech_commands.zip\",\n",
    "    fname='mini_speech_commands.zip',\n",
    "    extract=True,\n",
    "    cache_dir='.', cache_subdir='data')"
   ]
  },
  {
   "cell_type": "markdown",
   "id": "d8c9c657",
   "metadata": {},
   "source": [
    "## Train/validation/test splits"
   ]
  },
  {
   "cell_type": "code",
   "execution_count": 41,
   "id": "58d1ed5c",
   "metadata": {},
   "outputs": [],
   "source": [
    "kws_train_split = open(\"kws_train_split.txt\", \"r\")\n",
    "train_lines = kws_train_split.read().splitlines()\n",
    "train_files = tf.convert_to_tensor(train_lines)\n",
    "num_samples_train = train_files.shape\n",
    "\n",
    "kws_val_split = open(\"kws_val_split.txt\", \"r\")\n",
    "val_lines = kws_val_split.read().splitlines()\n",
    "val_files = tf.convert_to_tensor(val_lines)\n",
    "num_samples_val = val_files.shape\n",
    "\n",
    "kws_test_split = open(\"kws_test_split.txt\", \"r\")\n",
    "test_lines = kws_test_split.read().splitlines()\n",
    "test_files = tf.convert_to_tensor(test_lines)\n",
    "num_samples_test = test_files.shape\n",
    "\n",
    "num_samples = num_samples_train[0] + num_samples_val[0] + num_samples_test[0]"
   ]
  },
  {
   "cell_type": "markdown",
   "id": "091cadcc",
   "metadata": {},
   "source": [
    "## Label mapping"
   ]
  },
  {
   "cell_type": "code",
   "execution_count": 42,
   "id": "314dd409",
   "metadata": {},
   "outputs": [],
   "source": [
    "labels = open(\"labels.txt\", \"r\")\n",
    "labels = str(labels.read())\n",
    "characters_to_remove = \"[]''\"\"  \"\n",
    "for character in characters_to_remove: \n",
    "    labels = labels.replace(character, \"\")\n",
    "LABELS = labels.split(\",\")"
   ]
  },
  {
   "cell_type": "markdown",
   "id": "dcfe1fda",
   "metadata": {},
   "source": [
    "## Classes definition"
   ]
  },
  {
   "cell_type": "code",
   "execution_count": 48,
   "id": "eba7e96d",
   "metadata": {},
   "outputs": [],
   "source": [
    "class SignalGenerator:\n",
    "    def __init__(self, labels, sampling_rate, frame_length, frame_step,\n",
    "            num_mel_bins=None, lower_frequency=None, upper_frequency=None,\n",
    "            num_coefficients=None, mfcc=False):\n",
    "        self.labels = labels\n",
    "        self.sampling_rate = sampling_rate\n",
    "        self.frame_length = frame_length\n",
    "        self.frame_step = frame_step\n",
    "        self.num_mel_bins = num_mel_bins\n",
    "        self.lower_frequency = lower_frequency\n",
    "        self.upper_frequency = upper_frequency\n",
    "        self.num_coefficients = num_coefficients\n",
    "        num_spectrogram_bins = (frame_length) // 2 + 1\n",
    "\n",
    "        if mfcc is True:\n",
    "            self.linear_to_mel_weight_matrix = tf.signal.linear_to_mel_weight_matrix(\n",
    "                    self.num_mel_bins, num_spectrogram_bins, self.sampling_rate,\n",
    "                    self.lower_frequency, self.upper_frequency)\n",
    "            self.preprocess = self.preprocess_with_mfcc\n",
    "        else:\n",
    "            self.preprocess = self.preprocess_with_stft\n",
    "\n",
    "    def read(self, file_path):\n",
    "        parts = tf.strings.split(file_path, os.path.sep)\n",
    "        label = parts[-2]\n",
    "        label_id = tf.argmax(label == self.labels)\n",
    "        audio_binary = tf.io.read_file(file_path)\n",
    "        # input_rate, audio = wavfile.read(file_path)\n",
    "        audio, _ = tf.audio.decode_wav(audio_binary)\n",
    "        audio = tfio.audio.resample(audio, 16000, 8000)\n",
    "        audio = tf.squeeze(np.array(audio), axis=1)\n",
    "        \n",
    "        return audio, label_id\n",
    "\n",
    "    # def resample(self, audio, rate, up, down):\n",
    "    #     audio = signal.resample_poly(audio, 1, 48000 // self.sampling_rate)\n",
    "    #     tf_audio = tf.convert_to_tensor(audio, dtype=np.float32)\n",
    "    #     rate = tf.convert_to_tensor(np.array(int((rate * up)/down)), dtype=np.int32)\n",
    "    #     return rate, tf_audio\n",
    "    \n",
    "    \n",
    "    def pad(self, audio):\n",
    "        zero_padding = tf.zeros([self.sampling_rate] - tf.shape(audio), dtype=tf.float32)\n",
    "        audio = tf.concat([audio, zero_padding], 0)\n",
    "        audio.set_shape([self.sampling_rate])\n",
    "        return audio\n",
    "\n",
    "    \n",
    "    def get_spectrogram(self, audio):\n",
    "        stft = tf.signal.stft(audio, frame_length=self.frame_length,\n",
    "                frame_step=self.frame_step, fft_length=self.frame_length)\n",
    "        spectrogram = tf.abs(stft)\n",
    "        return spectrogram\n",
    "\n",
    "    \n",
    "    def get_mfccs(self, spectrogram):\n",
    "        mel_spectrogram = tf.tensordot(spectrogram,\n",
    "                self.linear_to_mel_weight_matrix, 1)\n",
    "        log_mel_spectrogram = tf.math.log(mel_spectrogram + 1.e-6)\n",
    "        mfccs = tf.signal.mfccs_from_log_mel_spectrograms(log_mel_spectrogram)\n",
    "        mfccs = mfccs[..., :self.num_coefficients]\n",
    "        return mfccs\n",
    "\n",
    "    \n",
    "    def preprocess_with_stft(self, file_path):\n",
    "        audio, label = self.read(file_path)\n",
    "        audio = self.pad(audio)\n",
    "        spectrogram = self.get_spectrogram(audio)\n",
    "        spectrogram = tf.expand_dims(spectrogram, -1)\n",
    "        spectrogram = tf.image.resize(spectrogram, [32, 32])\n",
    "        return spectrogram, label\n",
    "\n",
    "    \n",
    "    def preprocess_with_mfcc(self, file_path):\n",
    "        audio, label = self.read(file_path)\n",
    "        audio = self.pad(audio)\n",
    "        spectrogram = self.get_spectrogram(audio)\n",
    "        mfccs = self.get_mfccs(spectrogram)\n",
    "        mfccs = tf.expand_dims(mfccs, -1)\n",
    "        return mfccs, label\n",
    "\n",
    "    \n",
    "    def make_dataset(self, files, train):\n",
    "        ds = tf.data.Dataset.from_tensor_slices(files)\n",
    "        ds = ds.map(self.preprocess, num_parallel_calls=4)\n",
    "        ds = ds.batch(32)\n",
    "        ds = ds.cache()\n",
    "        if train is True:\n",
    "            ds = ds.shuffle(100, reshuffle_each_iteration=True)\n",
    "        return ds"
   ]
  },
  {
   "cell_type": "code",
   "execution_count": 44,
   "id": "72d6312d-54fd-4ccd-98d6-79e5e7048ba6",
   "metadata": {},
   "outputs": [],
   "source": [
    "# Function for weight and activations quantization \n",
    "def representative_dataset_generator():\n",
    "    for x, _ in train_ds.take(1000):\n",
    "        yield [x]"
   ]
  },
  {
   "cell_type": "markdown",
   "id": "8435e061",
   "metadata": {},
   "source": [
    "## Options for the Signal Generator"
   ]
  },
  {
   "cell_type": "code",
   "execution_count": 45,
   "id": "af18078c",
   "metadata": {},
   "outputs": [
    {
     "name": "stdout",
     "output_type": "stream",
     "text": [
      "mfcc\n"
     ]
    }
   ],
   "source": [
    "STFT_OPTIONS = {'frame_length': 256, 'frame_step': 128, 'mfcc': False}\n",
    "MFCC_OPTIONS = {'frame_length': 320, 'frame_step': 160, 'mfcc': True,\n",
    "        'lower_frequency': 20, 'upper_frequency': 2000, 'num_mel_bins': 32,\n",
    "        'num_coefficients': 10}\n",
    "\n",
    "if args_mfcc is True:\n",
    "    options = MFCC_OPTIONS\n",
    "    print('mfcc')\n",
    "    strides = [2, 1]\n",
    "else:\n",
    "    options = STFT_OPTIONS\n",
    "    strides = [2, 2]\n",
    "    print('stft')\n",
    "    \n",
    "units = len(LABELS)"
   ]
  },
  {
   "cell_type": "markdown",
   "id": "a3e24a20",
   "metadata": {},
   "source": [
    "## Create datasets"
   ]
  },
  {
   "cell_type": "code",
   "execution_count": 49,
   "id": "76e51e11",
   "metadata": {},
   "outputs": [
    {
     "ename": "NotImplementedError",
     "evalue": "in user code:\n\n    File \"/tmp/ipykernel_6175/842435046.py\", line 75, in preprocess_with_mfcc  *\n        audio, label = self.read(file_path)\n    File \"/tmp/ipykernel_6175/1974370854.py\", line 30, in read  *\n        audio = tfio.audio.resample(audio, 16000, 8000)\n    File \"/home/nicola2503/.local/lib/python3.9/site-packages/tensorflow_io/core/python/ops/audio_ops.py\", line 409, in resample  **\n        \n    File \"/home/nicola2503/.local/lib/python3.9/site-packages/tensorflow_io/core/python/ops/audio_ops.py\", line 405, in f\n        \n    File \"/home/nicola2503/.local/lib/python3.9/site-packages/tensorflow_io/core/python/ops/__init__.py\", line 88, in __getattr__\n        \n    File \"/home/nicola2503/.local/lib/python3.9/site-packages/tensorflow_io/core/python/ops/__init__.py\", line 84, in _load\n        \n    File \"/home/nicola2503/.local/lib/python3.9/site-packages/tensorflow_io/core/python/ops/__init__.py\", line 69, in _load_library\n        \n\n    NotImplementedError: unable to open file: libtensorflow_io.so, from paths: ['/home/nicola2503/.local/lib/python3.9/site-packages/tensorflow_io/core/python/ops/libtensorflow_io.so']\n    caused by: ['/home/nicola2503/.local/lib/python3.9/site-packages/tensorflow_io/core/python/ops/libtensorflow_io.so: cannot open shared object file: No such file or directory']\n",
     "output_type": "error",
     "traceback": [
      "\u001b[0;31m---------------------------------------------------------------------------\u001b[0m",
      "\u001b[0;31mNotImplementedError\u001b[0m                       Traceback (most recent call last)",
      "\u001b[0;32m/tmp/ipykernel_6175/3023351929.py\u001b[0m in \u001b[0;36m<module>\u001b[0;34m\u001b[0m\n\u001b[1;32m      1\u001b[0m \u001b[0mgenerator\u001b[0m \u001b[0;34m=\u001b[0m \u001b[0mSignalGenerator\u001b[0m\u001b[0;34m(\u001b[0m\u001b[0mLABELS\u001b[0m\u001b[0;34m,\u001b[0m \u001b[0;36m8000\u001b[0m\u001b[0;34m,\u001b[0m \u001b[0;34m**\u001b[0m\u001b[0moptions\u001b[0m\u001b[0;34m)\u001b[0m\u001b[0;34m\u001b[0m\u001b[0;34m\u001b[0m\u001b[0m\n\u001b[0;32m----> 2\u001b[0;31m \u001b[0mtrain_ds\u001b[0m \u001b[0;34m=\u001b[0m \u001b[0mgenerator\u001b[0m\u001b[0;34m.\u001b[0m\u001b[0mmake_dataset\u001b[0m\u001b[0;34m(\u001b[0m\u001b[0mtrain_files\u001b[0m\u001b[0;34m,\u001b[0m \u001b[0;32mTrue\u001b[0m\u001b[0;34m)\u001b[0m\u001b[0;34m\u001b[0m\u001b[0;34m\u001b[0m\u001b[0m\n\u001b[0m\u001b[1;32m      3\u001b[0m \u001b[0mval_ds\u001b[0m \u001b[0;34m=\u001b[0m \u001b[0mgenerator\u001b[0m\u001b[0;34m.\u001b[0m\u001b[0mmake_dataset\u001b[0m\u001b[0;34m(\u001b[0m\u001b[0mval_files\u001b[0m\u001b[0;34m,\u001b[0m \u001b[0;32mFalse\u001b[0m\u001b[0;34m)\u001b[0m\u001b[0;34m\u001b[0m\u001b[0;34m\u001b[0m\u001b[0m\n\u001b[1;32m      4\u001b[0m \u001b[0mtest_ds\u001b[0m \u001b[0;34m=\u001b[0m \u001b[0mgenerator\u001b[0m\u001b[0;34m.\u001b[0m\u001b[0mmake_dataset\u001b[0m\u001b[0;34m(\u001b[0m\u001b[0mtest_files\u001b[0m\u001b[0;34m,\u001b[0m \u001b[0;32mFalse\u001b[0m\u001b[0;34m)\u001b[0m\u001b[0;34m\u001b[0m\u001b[0;34m\u001b[0m\u001b[0m\n",
      "\u001b[0;32m/tmp/ipykernel_6175/842435046.py\u001b[0m in \u001b[0;36mmake_dataset\u001b[0;34m(self, files, train)\u001b[0m\n\u001b[1;32m     83\u001b[0m     \u001b[0;32mdef\u001b[0m \u001b[0mmake_dataset\u001b[0m\u001b[0;34m(\u001b[0m\u001b[0mself\u001b[0m\u001b[0;34m,\u001b[0m \u001b[0mfiles\u001b[0m\u001b[0;34m,\u001b[0m \u001b[0mtrain\u001b[0m\u001b[0;34m)\u001b[0m\u001b[0;34m:\u001b[0m\u001b[0;34m\u001b[0m\u001b[0;34m\u001b[0m\u001b[0m\n\u001b[1;32m     84\u001b[0m         \u001b[0mds\u001b[0m \u001b[0;34m=\u001b[0m \u001b[0mtf\u001b[0m\u001b[0;34m.\u001b[0m\u001b[0mdata\u001b[0m\u001b[0;34m.\u001b[0m\u001b[0mDataset\u001b[0m\u001b[0;34m.\u001b[0m\u001b[0mfrom_tensor_slices\u001b[0m\u001b[0;34m(\u001b[0m\u001b[0mfiles\u001b[0m\u001b[0;34m)\u001b[0m\u001b[0;34m\u001b[0m\u001b[0;34m\u001b[0m\u001b[0m\n\u001b[0;32m---> 85\u001b[0;31m         \u001b[0mds\u001b[0m \u001b[0;34m=\u001b[0m \u001b[0mds\u001b[0m\u001b[0;34m.\u001b[0m\u001b[0mmap\u001b[0m\u001b[0;34m(\u001b[0m\u001b[0mself\u001b[0m\u001b[0;34m.\u001b[0m\u001b[0mpreprocess\u001b[0m\u001b[0;34m,\u001b[0m \u001b[0mnum_parallel_calls\u001b[0m\u001b[0;34m=\u001b[0m\u001b[0;36m4\u001b[0m\u001b[0;34m)\u001b[0m\u001b[0;34m\u001b[0m\u001b[0;34m\u001b[0m\u001b[0m\n\u001b[0m\u001b[1;32m     86\u001b[0m         \u001b[0mds\u001b[0m \u001b[0;34m=\u001b[0m \u001b[0mds\u001b[0m\u001b[0;34m.\u001b[0m\u001b[0mbatch\u001b[0m\u001b[0;34m(\u001b[0m\u001b[0;36m32\u001b[0m\u001b[0;34m)\u001b[0m\u001b[0;34m\u001b[0m\u001b[0;34m\u001b[0m\u001b[0m\n\u001b[1;32m     87\u001b[0m         \u001b[0mds\u001b[0m \u001b[0;34m=\u001b[0m \u001b[0mds\u001b[0m\u001b[0;34m.\u001b[0m\u001b[0mcache\u001b[0m\u001b[0;34m(\u001b[0m\u001b[0;34m)\u001b[0m\u001b[0;34m\u001b[0m\u001b[0;34m\u001b[0m\u001b[0m\n",
      "\u001b[0;32m~/.local/lib/python3.9/site-packages/tensorflow/python/data/ops/dataset_ops.py\u001b[0m in \u001b[0;36mmap\u001b[0;34m(self, map_func, num_parallel_calls, deterministic, name)\u001b[0m\n\u001b[1;32m   2004\u001b[0m      \u001b[0;36m3\u001b[0m\u001b[0;34m,\u001b[0m \u001b[0;36m3\u001b[0m\u001b[0;34m,\u001b[0m \u001b[0;36m3\u001b[0m\u001b[0;34m,\u001b[0m \u001b[0;36m3\u001b[0m\u001b[0;34m,\u001b[0m\u001b[0;34m\u001b[0m\u001b[0;34m\u001b[0m\u001b[0m\n\u001b[1;32m   2005\u001b[0m      \u001b[0;36m4\u001b[0m\u001b[0;34m,\u001b[0m \u001b[0;36m4\u001b[0m\u001b[0;34m,\u001b[0m \u001b[0;36m4\u001b[0m\u001b[0;34m,\u001b[0m \u001b[0;36m4\u001b[0m\u001b[0;34m,\u001b[0m\u001b[0;34m\u001b[0m\u001b[0;34m\u001b[0m\u001b[0m\n\u001b[0;32m-> 2006\u001b[0;31m      \u001b[0;36m3\u001b[0m\u001b[0;34m,\u001b[0m \u001b[0;36m3\u001b[0m\u001b[0;34m,\u001b[0m\u001b[0;34m\u001b[0m\u001b[0;34m\u001b[0m\u001b[0m\n\u001b[0m\u001b[1;32m   2007\u001b[0m      \u001b[0;36m4\u001b[0m\u001b[0;34m,\u001b[0m \u001b[0;36m4\u001b[0m\u001b[0;34m,\u001b[0m\u001b[0;34m\u001b[0m\u001b[0;34m\u001b[0m\u001b[0m\n\u001b[1;32m   2008\u001b[0m      \u001b[0;36m5\u001b[0m\u001b[0;34m,\u001b[0m \u001b[0;36m5\u001b[0m\u001b[0;34m,\u001b[0m \u001b[0;36m5\u001b[0m\u001b[0;34m,\u001b[0m \u001b[0;36m5\u001b[0m\u001b[0;34m,\u001b[0m\u001b[0;34m\u001b[0m\u001b[0;34m\u001b[0m\u001b[0m\n",
      "\u001b[0;32m~/.local/lib/python3.9/site-packages/tensorflow/python/data/ops/dataset_ops.py\u001b[0m in \u001b[0;36m__init__\u001b[0;34m(self, input_dataset, map_func, num_parallel_calls, deterministic, use_inter_op_parallelism, preserve_cardinality, use_legacy_function, name)\u001b[0m\n",
      "\u001b[0;32m~/.local/lib/python3.9/site-packages/tensorflow/python/data/ops/dataset_ops.py\u001b[0m in \u001b[0;36m__init__\u001b[0;34m(self, func, transformation_name, dataset, input_classes, input_shapes, input_types, input_structure, add_to_graph, use_legacy_function, defun_kwargs)\u001b[0m\n\u001b[1;32m   4531\u001b[0m     \u001b[0;32melse\u001b[0m\u001b[0;34m:\u001b[0m\u001b[0;34m\u001b[0m\u001b[0;34m\u001b[0m\u001b[0m\n\u001b[1;32m   4532\u001b[0m       \u001b[0mself\u001b[0m\u001b[0;34m.\u001b[0m\u001b[0m_deterministic\u001b[0m \u001b[0;34m=\u001b[0m \u001b[0;34m\"false\"\u001b[0m\u001b[0;34m\u001b[0m\u001b[0;34m\u001b[0m\u001b[0m\n\u001b[0;32m-> 4533\u001b[0;31m     \u001b[0mself\u001b[0m\u001b[0;34m.\u001b[0m\u001b[0m_preserve_cardinality\u001b[0m \u001b[0;34m=\u001b[0m \u001b[0mpreserve_cardinality\u001b[0m\u001b[0;34m\u001b[0m\u001b[0;34m\u001b[0m\u001b[0m\n\u001b[0m\u001b[1;32m   4534\u001b[0m     self._num_parallel_calls = ops.convert_to_tensor(\n\u001b[1;32m   4535\u001b[0m         num_parallel_calls, dtype=dtypes.int64, name=\"num_parallel_calls\")\n",
      "\u001b[0;32m~/.local/lib/python3.9/site-packages/tensorflow/python/eager/function.py\u001b[0m in \u001b[0;36mget_concrete_function\u001b[0;34m(self, *args, **kwargs)\u001b[0m\n\u001b[1;32m   3242\u001b[0m         \u001b[0mdevice_functions\u001b[0m \u001b[0;34m=\u001b[0m \u001b[0mtuple\u001b[0m\u001b[0;34m(\u001b[0m\u001b[0mdefault_graph\u001b[0m\u001b[0;34m.\u001b[0m\u001b[0m_device_functions_outer_to_inner\u001b[0m\u001b[0;34m)\u001b[0m\u001b[0;34m\u001b[0m\u001b[0;34m\u001b[0m\u001b[0m\n\u001b[1;32m   3243\u001b[0m       \u001b[0;32melse\u001b[0m\u001b[0;34m:\u001b[0m\u001b[0;34m\u001b[0m\u001b[0;34m\u001b[0m\u001b[0m\n\u001b[0;32m-> 3244\u001b[0;31m         \u001b[0mdevice_functions\u001b[0m \u001b[0;34m=\u001b[0m \u001b[0;34m(\u001b[0m\u001b[0;34m)\u001b[0m\u001b[0;34m\u001b[0m\u001b[0;34m\u001b[0m\u001b[0m\n\u001b[0m\u001b[1;32m   3245\u001b[0m \u001b[0;34m\u001b[0m\u001b[0m\n\u001b[1;32m   3246\u001b[0m     \u001b[0min_cross_replica_context\u001b[0m \u001b[0;34m=\u001b[0m \u001b[0;32mFalse\u001b[0m\u001b[0;34m\u001b[0m\u001b[0;34m\u001b[0m\u001b[0m\n",
      "\u001b[0;32m~/.local/lib/python3.9/site-packages/tensorflow/python/eager/function.py\u001b[0m in \u001b[0;36m_get_concrete_function_garbage_collected\u001b[0;34m(self, *args, **kwargs)\u001b[0m\n\u001b[1;32m   3208\u001b[0m       \u001b[0mxla_context\u001b[0m \u001b[0;34m=\u001b[0m \u001b[0m_enclosing_xla_context\u001b[0m\u001b[0;34m(\u001b[0m\u001b[0;34m)\u001b[0m\u001b[0;34m\u001b[0m\u001b[0;34m\u001b[0m\u001b[0m\n\u001b[1;32m   3209\u001b[0m       \u001b[0;32mif\u001b[0m \u001b[0mxla_context\u001b[0m \u001b[0;32mis\u001b[0m \u001b[0;32mnot\u001b[0m \u001b[0;32mNone\u001b[0m \u001b[0;32mand\u001b[0m\u001b[0;31m \u001b[0m\u001b[0;31m\\\u001b[0m\u001b[0;34m\u001b[0m\u001b[0;34m\u001b[0m\u001b[0m\n\u001b[0;32m-> 3210\u001b[0;31m             \u001b[0mxla_context\u001b[0m\u001b[0;34m.\u001b[0m\u001b[0mRequiresUniqueFunctionRetracing\u001b[0m\u001b[0;34m(\u001b[0m\u001b[0;34m)\u001b[0m\u001b[0;34m:\u001b[0m\u001b[0;34m\u001b[0m\u001b[0;34m\u001b[0m\u001b[0m\n\u001b[0m\u001b[1;32m   3211\u001b[0m         \u001b[0mxla_context_id\u001b[0m \u001b[0;34m=\u001b[0m \u001b[0mid\u001b[0m\u001b[0;34m(\u001b[0m\u001b[0mxla_context\u001b[0m\u001b[0;34m)\u001b[0m\u001b[0;34m\u001b[0m\u001b[0;34m\u001b[0m\u001b[0m\n\u001b[1;32m   3212\u001b[0m \u001b[0;34m\u001b[0m\u001b[0m\n",
      "\u001b[0;32m~/.local/lib/python3.9/site-packages/tensorflow/python/eager/function.py\u001b[0m in \u001b[0;36m_maybe_define_function\u001b[0;34m(self, args, kwargs)\u001b[0m\n\u001b[1;32m   3555\u001b[0m   \u001b[0;32mclass\u001b[0m \u001b[0mMyModel\u001b[0m\u001b[0;34m(\u001b[0m\u001b[0mtf\u001b[0m\u001b[0;34m.\u001b[0m\u001b[0mkeras\u001b[0m\u001b[0;34m.\u001b[0m\u001b[0mModel\u001b[0m\u001b[0;34m)\u001b[0m\u001b[0;34m:\u001b[0m\u001b[0;34m\u001b[0m\u001b[0;34m\u001b[0m\u001b[0m\n\u001b[1;32m   3556\u001b[0m \u001b[0;34m\u001b[0m\u001b[0m\n\u001b[0;32m-> 3557\u001b[0;31m     \u001b[0;32mdef\u001b[0m \u001b[0m__init__\u001b[0m\u001b[0;34m(\u001b[0m\u001b[0mself\u001b[0m\u001b[0;34m,\u001b[0m \u001b[0mkeep_probability\u001b[0m\u001b[0;34m=\u001b[0m\u001b[0;36m0.2\u001b[0m\u001b[0;34m)\u001b[0m\u001b[0;34m:\u001b[0m\u001b[0;34m\u001b[0m\u001b[0;34m\u001b[0m\u001b[0m\n\u001b[0m\u001b[1;32m   3558\u001b[0m       \u001b[0msuper\u001b[0m\u001b[0;34m(\u001b[0m\u001b[0mMyModel\u001b[0m\u001b[0;34m,\u001b[0m \u001b[0mself\u001b[0m\u001b[0;34m)\u001b[0m\u001b[0;34m.\u001b[0m\u001b[0m__init__\u001b[0m\u001b[0;34m(\u001b[0m\u001b[0;34m)\u001b[0m\u001b[0;34m\u001b[0m\u001b[0;34m\u001b[0m\u001b[0m\n\u001b[1;32m   3559\u001b[0m       \u001b[0mself\u001b[0m\u001b[0;34m.\u001b[0m\u001b[0mdense1\u001b[0m \u001b[0;34m=\u001b[0m \u001b[0mtf\u001b[0m\u001b[0;34m.\u001b[0m\u001b[0mkeras\u001b[0m\u001b[0;34m.\u001b[0m\u001b[0mlayers\u001b[0m\u001b[0;34m.\u001b[0m\u001b[0mDense\u001b[0m\u001b[0;34m(\u001b[0m\u001b[0;36m4\u001b[0m\u001b[0;34m,\u001b[0m \u001b[0mactivation\u001b[0m\u001b[0;34m=\u001b[0m\u001b[0mtf\u001b[0m\u001b[0;34m.\u001b[0m\u001b[0mnn\u001b[0m\u001b[0;34m.\u001b[0m\u001b[0mrelu\u001b[0m\u001b[0;34m)\u001b[0m\u001b[0;34m\u001b[0m\u001b[0;34m\u001b[0m\u001b[0m\n",
      "\u001b[0;32m~/.local/lib/python3.9/site-packages/tensorflow/python/eager/function.py\u001b[0m in \u001b[0;36m_create_graph_function\u001b[0;34m(self, args, kwargs, override_flat_arg_shapes)\u001b[0m\n\u001b[1;32m   3390\u001b[0m       \u001b[0mValueError\u001b[0m\u001b[0;34m:\u001b[0m \u001b[0mIf\u001b[0m \u001b[0minputs\u001b[0m \u001b[0mare\u001b[0m \u001b[0mincompatible\u001b[0m \u001b[0;32mwith\u001b[0m \u001b[0mthe\u001b[0m \u001b[0minput\u001b[0m \u001b[0msignature\u001b[0m\u001b[0;34m.\u001b[0m\u001b[0;34m\u001b[0m\u001b[0;34m\u001b[0m\u001b[0m\n\u001b[1;32m   3391\u001b[0m       \u001b[0mTypeError\u001b[0m\u001b[0;34m:\u001b[0m \u001b[0mIf\u001b[0m \u001b[0mthe\u001b[0m \u001b[0mfunction\u001b[0m \u001b[0minputs\u001b[0m \u001b[0minclude\u001b[0m \u001b[0mnon\u001b[0m\u001b[0;34m-\u001b[0m\u001b[0mhashable\u001b[0m \u001b[0mobjects\u001b[0m\u001b[0;34m\u001b[0m\u001b[0;34m\u001b[0m\u001b[0m\n\u001b[0;32m-> 3392\u001b[0;31m       \u001b[0mRuntimeError\u001b[0m\u001b[0;34m:\u001b[0m \u001b[0mIf\u001b[0m \u001b[0mthere\u001b[0m\u001b[0;31m'\u001b[0m\u001b[0ms\u001b[0m \u001b[0man\u001b[0m \u001b[0minternal\u001b[0m \u001b[0mbug\u001b[0m \u001b[0;34m(\u001b[0m\u001b[0minconsistency\u001b[0m\u001b[0;34m)\u001b[0m \u001b[0;32min\u001b[0m \u001b[0mhandling\u001b[0m\u001b[0;34m\u001b[0m\u001b[0;34m\u001b[0m\u001b[0m\n\u001b[0m\u001b[1;32m   3393\u001b[0m         \u001b[0mshape\u001b[0m \u001b[0mrelaxation\u001b[0m \u001b[0mretracing\u001b[0m\u001b[0;34m.\u001b[0m\u001b[0;34m\u001b[0m\u001b[0;34m\u001b[0m\u001b[0m\n\u001b[1;32m   3394\u001b[0m     \"\"\"\n",
      "\u001b[0;32m~/.local/lib/python3.9/site-packages/tensorflow/python/framework/func_graph.py\u001b[0m in \u001b[0;36mfunc_graph_from_py_func\u001b[0;34m(name, python_func, args, kwargs, signature, func_graph, autograph, autograph_options, add_control_dependencies, arg_names, op_return_value, collections, capture_by_value, override_flat_arg_shapes, acd_record_initial_resource_uses)\u001b[0m\n\u001b[1;32m   1141\u001b[0m     \u001b[0mshape\u001b[0m \u001b[0;34m=\u001b[0m \u001b[0mvalue\u001b[0m\u001b[0;34m.\u001b[0m\u001b[0mshape\u001b[0m\u001b[0;34m\u001b[0m\u001b[0;34m\u001b[0m\u001b[0m\n\u001b[1;32m   1142\u001b[0m   \u001b[0;32mwith\u001b[0m \u001b[0mops\u001b[0m\u001b[0;34m.\u001b[0m\u001b[0mcontrol_dependencies\u001b[0m\u001b[0;34m(\u001b[0m\u001b[0;32mNone\u001b[0m\u001b[0;34m)\u001b[0m\u001b[0;34m:\u001b[0m\u001b[0;34m\u001b[0m\u001b[0;34m\u001b[0m\u001b[0m\n\u001b[0;32m-> 1143\u001b[0;31m     placeholder = graph_placeholder(\n\u001b[0m\u001b[1;32m   1144\u001b[0m         dtype=dtype or value.dtype, shape=shape, name=name)\n\u001b[1;32m   1145\u001b[0m   \u001b[0mcustom_gradient\u001b[0m\u001b[0;34m.\u001b[0m\u001b[0mcopy_handle_data\u001b[0m\u001b[0;34m(\u001b[0m\u001b[0mvalue\u001b[0m\u001b[0;34m,\u001b[0m \u001b[0mplaceholder\u001b[0m\u001b[0;34m)\u001b[0m\u001b[0;34m\u001b[0m\u001b[0;34m\u001b[0m\u001b[0m\n",
      "\u001b[0;32m~/.local/lib/python3.9/site-packages/tensorflow/python/data/ops/dataset_ops.py\u001b[0m in \u001b[0;36mwrapped_fn\u001b[0;34m(*args)\u001b[0m\n\u001b[1;32m   4508\u001b[0m \u001b[0;32mclass\u001b[0m \u001b[0mParallelMapDataset\u001b[0m\u001b[0;34m(\u001b[0m\u001b[0mUnaryDataset\u001b[0m\u001b[0;34m)\u001b[0m\u001b[0;34m:\u001b[0m\u001b[0;34m\u001b[0m\u001b[0;34m\u001b[0m\u001b[0m\n\u001b[1;32m   4509\u001b[0m   \u001b[0;34m\"\"\"A `Dataset` that maps a function over elements in its input in parallel.\"\"\"\u001b[0m\u001b[0;34m\u001b[0m\u001b[0;34m\u001b[0m\u001b[0m\n\u001b[0;32m-> 4510\u001b[0;31m \u001b[0;34m\u001b[0m\u001b[0m\n\u001b[0m\u001b[1;32m   4511\u001b[0m   def __init__(self,\n\u001b[1;32m   4512\u001b[0m                \u001b[0minput_dataset\u001b[0m\u001b[0;34m,\u001b[0m\u001b[0;34m\u001b[0m\u001b[0;34m\u001b[0m\u001b[0m\n",
      "\u001b[0;32m~/.local/lib/python3.9/site-packages/tensorflow/python/data/ops/dataset_ops.py\u001b[0m in \u001b[0;36mwrapper_helper\u001b[0;34m(*args)\u001b[0m\n\u001b[1;32m   4438\u001b[0m   \"\"\"Determines whether the caller needs to pack the argument in a tuple.\n\u001b[1;32m   4439\u001b[0m \u001b[0;34m\u001b[0m\u001b[0m\n\u001b[0;32m-> 4440\u001b[0;31m   \u001b[0mIf\u001b[0m \u001b[0muser\u001b[0m\u001b[0;34m-\u001b[0m\u001b[0mdefined\u001b[0m \u001b[0mfunction\u001b[0m \u001b[0mreturns\u001b[0m \u001b[0ma\u001b[0m \u001b[0mlist\u001b[0m \u001b[0mof\u001b[0m \u001b[0mtensors\u001b[0m\u001b[0;34m,\u001b[0m\u001b[0;31m \u001b[0m\u001b[0;31m`\u001b[0m\u001b[0mnest\u001b[0m\u001b[0;34m.\u001b[0m\u001b[0mflatten\u001b[0m\u001b[0;34m(\u001b[0m\u001b[0;34m)\u001b[0m\u001b[0;31m`\u001b[0m \u001b[0;32mand\u001b[0m\u001b[0;34m\u001b[0m\u001b[0;34m\u001b[0m\u001b[0m\n\u001b[0m\u001b[1;32m   4441\u001b[0m   \u001b[0;31m`\u001b[0m\u001b[0mops\u001b[0m\u001b[0;34m.\u001b[0m\u001b[0mconvert_to_tensor\u001b[0m\u001b[0;34m(\u001b[0m\u001b[0;34m)\u001b[0m\u001b[0;31m`\u001b[0m \u001b[0;32mand\u001b[0m \u001b[0mwould\u001b[0m \u001b[0mconspire\u001b[0m \u001b[0mto\u001b[0m \u001b[0mattempt\u001b[0m \u001b[0mto\u001b[0m \u001b[0mstack\u001b[0m \u001b[0mthose\u001b[0m \u001b[0mtensors\u001b[0m\u001b[0;34m\u001b[0m\u001b[0;34m\u001b[0m\u001b[0m\n\u001b[1;32m   4442\u001b[0m   \u001b[0minto\u001b[0m \u001b[0ma\u001b[0m \u001b[0msingle\u001b[0m \u001b[0mtensor\u001b[0m \u001b[0mbecause\u001b[0m \u001b[0mthe\u001b[0m \u001b[0mtf\u001b[0m\u001b[0;34m.\u001b[0m\u001b[0mdata\u001b[0m \u001b[0mversion\u001b[0m \u001b[0mof\u001b[0m\u001b[0;31m \u001b[0m\u001b[0;31m`\u001b[0m\u001b[0mnest\u001b[0m\u001b[0;34m.\u001b[0m\u001b[0mflatten\u001b[0m\u001b[0;34m(\u001b[0m\u001b[0;34m)\u001b[0m\u001b[0;31m`\u001b[0m \u001b[0mdoes\u001b[0m\u001b[0;34m\u001b[0m\u001b[0;34m\u001b[0m\u001b[0m\n",
      "\u001b[0;32m~/.local/lib/python3.9/site-packages/tensorflow/python/autograph/impl/api.py\u001b[0m in \u001b[0;36mwrapper\u001b[0;34m(*args, **kwargs)\u001b[0m\n\u001b[1;32m    697\u001b[0m           \u001b[0;32mraise\u001b[0m\u001b[0;34m\u001b[0m\u001b[0;34m\u001b[0m\u001b[0m\n\u001b[1;32m    698\u001b[0m \u001b[0;34m\u001b[0m\u001b[0m\n\u001b[0;32m--> 699\u001b[0;31m     \u001b[0;32mif\u001b[0m \u001b[0minspect\u001b[0m\u001b[0;34m.\u001b[0m\u001b[0misfunction\u001b[0m\u001b[0;34m(\u001b[0m\u001b[0mf\u001b[0m\u001b[0;34m)\u001b[0m \u001b[0;32mor\u001b[0m \u001b[0minspect\u001b[0m\u001b[0;34m.\u001b[0m\u001b[0mismethod\u001b[0m\u001b[0;34m(\u001b[0m\u001b[0mf\u001b[0m\u001b[0;34m)\u001b[0m\u001b[0;34m:\u001b[0m\u001b[0;34m\u001b[0m\u001b[0;34m\u001b[0m\u001b[0m\n\u001b[0m\u001b[1;32m    700\u001b[0m       \u001b[0mwrapper\u001b[0m \u001b[0;34m=\u001b[0m \u001b[0mfunctools\u001b[0m\u001b[0;34m.\u001b[0m\u001b[0mupdate_wrapper\u001b[0m\u001b[0;34m(\u001b[0m\u001b[0mwrapper\u001b[0m\u001b[0;34m,\u001b[0m \u001b[0mf\u001b[0m\u001b[0;34m)\u001b[0m\u001b[0;34m\u001b[0m\u001b[0;34m\u001b[0m\u001b[0m\n\u001b[1;32m    701\u001b[0m \u001b[0;34m\u001b[0m\u001b[0m\n",
      "\u001b[0;31mNotImplementedError\u001b[0m: in user code:\n\n    File \"/tmp/ipykernel_6175/842435046.py\", line 75, in preprocess_with_mfcc  *\n        audio, label = self.read(file_path)\n    File \"/tmp/ipykernel_6175/1974370854.py\", line 30, in read  *\n        audio = tfio.audio.resample(audio, 16000, 8000)\n    File \"/home/nicola2503/.local/lib/python3.9/site-packages/tensorflow_io/core/python/ops/audio_ops.py\", line 409, in resample  **\n        \n    File \"/home/nicola2503/.local/lib/python3.9/site-packages/tensorflow_io/core/python/ops/audio_ops.py\", line 405, in f\n        \n    File \"/home/nicola2503/.local/lib/python3.9/site-packages/tensorflow_io/core/python/ops/__init__.py\", line 88, in __getattr__\n        \n    File \"/home/nicola2503/.local/lib/python3.9/site-packages/tensorflow_io/core/python/ops/__init__.py\", line 84, in _load\n        \n    File \"/home/nicola2503/.local/lib/python3.9/site-packages/tensorflow_io/core/python/ops/__init__.py\", line 69, in _load_library\n        \n\n    NotImplementedError: unable to open file: libtensorflow_io.so, from paths: ['/home/nicola2503/.local/lib/python3.9/site-packages/tensorflow_io/core/python/ops/libtensorflow_io.so']\n    caused by: ['/home/nicola2503/.local/lib/python3.9/site-packages/tensorflow_io/core/python/ops/libtensorflow_io.so: cannot open shared object file: No such file or directory']\n"
     ]
    }
   ],
   "source": [
    "generator = SignalGenerator(LABELS, 8000, **options)\n",
    "train_ds = generator.make_dataset(train_files, True)\n",
    "val_ds = generator.make_dataset(val_files, False)\n",
    "test_ds = generator.make_dataset(test_files, False)"
   ]
  },
  {
   "cell_type": "markdown",
   "id": "c69a9f3e-06f5-4d4f-9775-b30d73b200d3",
   "metadata": {},
   "source": [
    "## Load and evaluation of TfLite models-"
   ]
  },
  {
   "cell_type": "code",
   "execution_count": 128,
   "id": "3a27ab7a-6973-439f-82c0-8ce94007e9e7",
   "metadata": {},
   "outputs": [],
   "source": [
    "# Load and evaluate quantized models\n",
    "def load_and_evaluation(path, dataset):\n",
    "    f = open(path, 'rb')\n",
    "    decompressed_model = zlib.decompress(f.read())\n",
    "    interpreter = tf.lite.Interpreter(model_content=decompressed_model)\n",
    "    interpreter.allocate_tensors()\n",
    "    input_details = interpreter.get_input_details()\n",
    "    output_details = interpreter.get_output_details()\n",
    "    \n",
    "    # set batch size to 1 when running inference with TFLite models\n",
    "    dataset = dataset.unbatch().batch(1)\n",
    "    \n",
    "    outputs = []\n",
    "    labels = []\n",
    "    \n",
    "    for data in dataset:\n",
    "        my_input = np.array(data[0], dtype = np.float32)\n",
    "        label = np.array(data[1], dtype = np.float32)\n",
    "        labels.append(label)\n",
    "\n",
    "        interpreter.set_tensor(input_details[0]['index'], my_input)\n",
    "        interpreter.invoke()\n",
    "        my_output = interpreter.get_tensor(output_details[0]['index'])\n",
    "        outputs.append(my_output[0])\n",
    "        \n",
    "    outputs = np.array(outputs)\n",
    "    labels = np.squeeze(np.array(labels))\n",
    "    \n",
    "    acc = sum(np.equal(labels, np.argmax(outputs, axis=1)))/len(outputs)\n",
    "                 \n",
    "    return acc"
   ]
  },
  {
   "cell_type": "markdown",
   "id": "65c915ba-0c96-4538-8f4f-fa3fc7036914",
   "metadata": {
    "jp-MarkdownHeadingCollapsed": true,
    "tags": []
   },
   "source": [
    "# Training without optimization"
   ]
  },
  {
   "cell_type": "markdown",
   "id": "5335f208",
   "metadata": {
    "tags": []
   },
   "source": [
    "## Define models"
   ]
  },
  {
   "cell_type": "code",
   "execution_count": 14,
   "id": "4f650a5c",
   "metadata": {},
   "outputs": [],
   "source": [
    "mlp = tf.keras.Sequential([\n",
    "    tf.keras.layers.Flatten(),\n",
    "    tf.keras.layers.Dense(units = 256, activation='relu'),\n",
    "    tf.keras.layers.Dense(units = 256, activation='relu'),\n",
    "    tf.keras.layers.Dense(units = 256, activation='relu'),\n",
    "    tf.keras.layers.Dense(units = units)\n",
    "])\n",
    "\n",
    "cnn = tf.keras.Sequential([\n",
    "    tf.keras.layers.Conv2D(filters=128, kernel_size=[3,3], strides=strides, use_bias=False),\n",
    "    tf.keras.layers.BatchNormalization(momentum=0.1),\n",
    "    tf.keras.layers.ReLU(),\n",
    "    tf.keras.layers.Conv2D(filters=128, kernel_size=[3,3], strides=[1,1], use_bias=False),\n",
    "    tf.keras.layers.BatchNormalization(momentum=0.1),\n",
    "    tf.keras.layers.ReLU(),\n",
    "    tf.keras.layers.Conv2D(filters=128, kernel_size=[3,3], strides=[1,1], use_bias=False),\n",
    "    tf.keras.layers.BatchNormalization(momentum=0.1),\n",
    "    tf.keras.layers.ReLU(),\n",
    "    tf.keras.layers.GlobalAveragePooling2D(),\n",
    "    tf.keras.layers.Dense(units = units)\n",
    "])\n",
    "\n",
    "ds_cnn = tf.keras.Sequential([\n",
    "    tf.keras.layers.Conv2D(filters=256, kernel_size=[3,3], strides=strides, use_bias=False),\n",
    "    tf.keras.layers.BatchNormalization(momentum=0.1),\n",
    "    tf.keras.layers.ReLU(),\n",
    "    tf.keras.layers.DepthwiseConv2D(kernel_size=[3, 3], strides=[1, 1], use_bias=False),\n",
    "    tf.keras.layers.Conv2D(filters=256, kernel_size=[1,1], strides=[1,1], use_bias=False),\n",
    "    tf.keras.layers.BatchNormalization(momentum=0.1),\n",
    "    tf.keras.layers.ReLU(),\n",
    "    tf.keras.layers.DepthwiseConv2D(kernel_size=[3, 3], strides=[1, 1], use_bias=False),\n",
    "    tf.keras.layers.Conv2D(filters=256, kernel_size=[1,1], strides=[1,1], use_bias=False),\n",
    "    tf.keras.layers.BatchNormalization(momentum=0.1),\n",
    "    tf.keras.layers.ReLU(),\n",
    "    tf.keras.layers.GlobalAveragePooling2D(),\n",
    "    tf.keras.layers.Dense(units = units)\n",
    "])"
   ]
  },
  {
   "cell_type": "markdown",
   "id": "d7f879d2",
   "metadata": {},
   "source": [
    "## Parameters for training"
   ]
  },
  {
   "cell_type": "code",
   "execution_count": 15,
   "id": "7b410e7f",
   "metadata": {},
   "outputs": [],
   "source": [
    "MODELS = {'b': mlp, 'b': cnn, 'a': ds_cnn}\n",
    "model = MODELS[args_version]\n",
    "\n",
    "loss = tf.losses.SparseCategoricalCrossentropy(from_logits=True)\n",
    "optimizer = tf.optimizers.Adam()\n",
    "metrics = [tf.keras.metrics.SparseCategoricalAccuracy()]"
   ]
  },
  {
   "cell_type": "markdown",
   "id": "d0a84a53-c71b-43f3-b3be-855214835109",
   "metadata": {},
   "source": [
    "## Training"
   ]
  },
  {
   "cell_type": "code",
   "execution_count": null,
   "id": "ddfff50c-63dc-44e3-90f1-1449500057ca",
   "metadata": {},
   "outputs": [],
   "source": [
    "model.compile(loss = loss, optimizer = optimizer, metrics = metrics)\n",
    "model.fit(train_ds, validation_data=val_ds, epochs=1)\n",
    "\n",
    "print(model.summary())\n",
    "\n",
    "test_loss, test_error = model.evaluate(test_ds)\n",
    "print('Test error: ', test_error)"
   ]
  },
  {
   "cell_type": "markdown",
   "id": "b9407fae-d73c-40ad-b25b-9f4a8fe73f39",
   "metadata": {
    "tags": []
   },
   "source": [
    "# Optimization of the model"
   ]
  },
  {
   "cell_type": "markdown",
   "id": "91b9e83d-98b4-4e8b-aab2-d6995c523e98",
   "metadata": {
    "tags": []
   },
   "source": [
    "## Structured pruning"
   ]
  },
  {
   "cell_type": "code",
   "execution_count": 134,
   "id": "52a5c5b9-0b9f-4534-adb0-cbe0f542a035",
   "metadata": {},
   "outputs": [],
   "source": [
    "alpha = 0.8\n",
    "\n",
    "pruned_mlp = tf.keras.Sequential([\n",
    "    tf.keras.layers.Flatten(),\n",
    "    tf.keras.layers.Dense(units = int(256*alpha), activation='relu'),\n",
    "    tf.keras.layers.Dense(units = int(256*alpha), activation='relu'),\n",
    "    tf.keras.layers.Dense(units = int(256*alpha), activation='relu'),\n",
    "    tf.keras.layers.Dense(units = units)\n",
    "])\n",
    "\n",
    "pruned_cnn = tf.keras.Sequential([\n",
    "    tf.keras.layers.Conv2D(filters=int(128*alpha), kernel_size=[3,3], strides=strides, use_bias=False),\n",
    "    tf.keras.layers.BatchNormalization(momentum=0.1),\n",
    "    tf.keras.layers.ReLU(),\n",
    "    tf.keras.layers.Conv2D(filters=int(128*alpha), kernel_size=[3,3], strides=[1,1], use_bias=False),\n",
    "    tf.keras.layers.BatchNormalization(momentum=0.1),\n",
    "    tf.keras.layers.ReLU(),\n",
    "    tf.keras.layers.Conv2D(filters=int(128*alpha), kernel_size=[3,3], strides=[1,1], use_bias=False),\n",
    "    tf.keras.layers.BatchNormalization(momentum=0.1),\n",
    "    tf.keras.layers.ReLU(),\n",
    "    tf.keras.layers.GlobalAveragePooling2D(),\n",
    "    tf.keras.layers.Dense(units = units)\n",
    "])\n",
    "\n",
    "pruned_ds_cnn = tf.keras.Sequential([\n",
    "    tf.keras.layers.Conv2D(filters=256*alpha, kernel_size=[3,3], strides=strides, use_bias=False),\n",
    "    tf.keras.layers.BatchNormalization(momentum=0.1),\n",
    "    tf.keras.layers.ReLU(),\n",
    "    tf.keras.layers.DepthwiseConv2D(kernel_size=[3, 3], strides=[1, 1], use_bias=False),\n",
    "    tf.keras.layers.Conv2D(filters=256*alpha, kernel_size=[1,1], strides=[1,1], use_bias=False),\n",
    "    tf.keras.layers.BatchNormalization(momentum=0.1),\n",
    "    tf.keras.layers.ReLU(),\n",
    "    tf.keras.layers.DepthwiseConv2D(kernel_size=[3, 3], strides=[1, 1], use_bias=False),\n",
    "    tf.keras.layers.Conv2D(filters=256*alpha, kernel_size=[1,1], strides=[1,1], use_bias=False),\n",
    "    tf.keras.layers.BatchNormalization(momentum=0.1),\n",
    "    tf.keras.layers.ReLU(),\n",
    "    tf.keras.layers.GlobalAveragePooling2D(),\n",
    "    tf.keras.layers.Dense(units = units)\n",
    "])"
   ]
  },
  {
   "cell_type": "code",
   "execution_count": 135,
   "id": "12e181ad-3a4d-4ebb-b552-72a048e2c881",
   "metadata": {},
   "outputs": [],
   "source": [
    "MODELS = {'b': pruned_mlp, 'b': pruned_cnn, 'a': pruned_ds_cnn}\n",
    "model = MODELS[args_version]\n",
    "\n",
    "loss = tf.losses.SparseCategoricalCrossentropy(from_logits=True)\n",
    "optimizer = tf.optimizers.Adam()\n",
    "metrics = [tf.keras.metrics.SparseCategoricalAccuracy()]"
   ]
  },
  {
   "cell_type": "code",
   "execution_count": 136,
   "id": "397aecdb-43f5-4c4d-b8ee-390c1a6609c2",
   "metadata": {},
   "outputs": [
    {
     "name": "stderr",
     "output_type": "stream",
     "text": [
      "2021-12-31 14:34:21.361708: W tensorflow/core/framework/op_kernel.cc:1692] OP_REQUIRES failed at constant_op.cc:169 : Invalid argument: Dimension -8000 must be >= 0\n",
      "2021-12-31 14:34:21.361752: W tensorflow/core/framework/op_kernel.cc:1692] OP_REQUIRES failed at constant_op.cc:169 : Invalid argument: Dimension -8000 must be >= 0\n",
      "2021-12-31 14:34:21.361782: W tensorflow/core/framework/op_kernel.cc:1692] OP_REQUIRES failed at constant_op.cc:169 : Invalid argument: Dimension -8000 must be >= 0\n",
      "2021-12-31 14:34:21.361807: W tensorflow/core/framework/op_kernel.cc:1692] OP_REQUIRES failed at constant_op.cc:169 : Invalid argument: Dimension -8000 must be >= 0\n",
      "2021-12-31 14:34:21.362124: W tensorflow/core/framework/op_kernel.cc:1692] OP_REQUIRES failed at constant_op.cc:169 : Invalid argument: Dimension -8000 must be >= 0\n",
      "2021-12-31 14:34:21.362189: W tensorflow/core/framework/op_kernel.cc:1692] OP_REQUIRES failed at constant_op.cc:169 : Invalid argument: Dimension -6336 must be >= 0\n",
      "2021-12-31 14:34:21.362214: W tensorflow/core/framework/op_kernel.cc:1692] OP_REQUIRES failed at constant_op.cc:169 : Invalid argument: Dimension -8000 must be >= 0\n",
      "2021-12-31 14:34:21.362455: W tensorflow/core/framework/op_kernel.cc:1692] OP_REQUIRES failed at constant_op.cc:169 : Invalid argument: Dimension -8000 must be >= 0\n",
      "2021-12-31 14:34:21.362484: W tensorflow/core/framework/op_kernel.cc:1692] OP_REQUIRES failed at constant_op.cc:169 : Invalid argument: Dimension -8000 must be >= 0\n",
      "2021-12-31 14:34:21.362534: W tensorflow/core/framework/op_kernel.cc:1692] OP_REQUIRES failed at constant_op.cc:169 : Invalid argument: Dimension -8000 must be >= 0\n",
      "2021-12-31 14:34:21.362606: W tensorflow/core/framework/op_kernel.cc:1692] OP_REQUIRES failed at constant_op.cc:169 : Invalid argument: Dimension -8000 must be >= 0\n",
      "2021-12-31 14:34:21.362714: W tensorflow/core/framework/op_kernel.cc:1692] OP_REQUIRES failed at constant_op.cc:169 : Invalid argument: Dimension -8000 must be >= 0\n"
     ]
    },
    {
     "ename": "InvalidArgumentError",
     "evalue": " Dimension -8000 must be >= 0\n\t [[{{node zeros}}]]\n\t [[IteratorGetNext]] [Op:__inference_train_function_192612]\n\nFunction call stack:\ntrain_function\n",
     "output_type": "error",
     "traceback": [
      "\u001b[0;31m---------------------------------------------------------------------------\u001b[0m",
      "\u001b[0;31mInvalidArgumentError\u001b[0m                      Traceback (most recent call last)",
      "\u001b[0;32m/tmp/ipykernel_11987/1341656530.py\u001b[0m in \u001b[0;36m<module>\u001b[0;34m\u001b[0m\n\u001b[1;32m     10\u001b[0m \u001b[0;34m\u001b[0m\u001b[0m\n\u001b[1;32m     11\u001b[0m \u001b[0mmodel\u001b[0m\u001b[0;34m.\u001b[0m\u001b[0mcompile\u001b[0m\u001b[0;34m(\u001b[0m\u001b[0mloss\u001b[0m \u001b[0;34m=\u001b[0m \u001b[0mloss\u001b[0m\u001b[0;34m,\u001b[0m \u001b[0moptimizer\u001b[0m \u001b[0;34m=\u001b[0m \u001b[0moptimizer\u001b[0m\u001b[0;34m,\u001b[0m \u001b[0mmetrics\u001b[0m \u001b[0;34m=\u001b[0m \u001b[0mmetrics\u001b[0m\u001b[0;34m)\u001b[0m\u001b[0;34m\u001b[0m\u001b[0;34m\u001b[0m\u001b[0m\n\u001b[0;32m---> 12\u001b[0;31m \u001b[0mmodel\u001b[0m\u001b[0;34m.\u001b[0m\u001b[0mfit\u001b[0m\u001b[0;34m(\u001b[0m\u001b[0mtrain_ds\u001b[0m\u001b[0;34m,\u001b[0m \u001b[0mvalidation_data\u001b[0m\u001b[0;34m=\u001b[0m\u001b[0mval_ds\u001b[0m\u001b[0;34m,\u001b[0m \u001b[0mepochs\u001b[0m \u001b[0;34m=\u001b[0m \u001b[0;36m1\u001b[0m\u001b[0;34m,\u001b[0m \u001b[0mcallbacks\u001b[0m\u001b[0;34m=\u001b[0m\u001b[0mes_callback\u001b[0m\u001b[0;34m)\u001b[0m\u001b[0;34m\u001b[0m\u001b[0;34m\u001b[0m\u001b[0m\n\u001b[0m\u001b[1;32m     13\u001b[0m \u001b[0;34m\u001b[0m\u001b[0m\n\u001b[1;32m     14\u001b[0m \u001b[0mprint\u001b[0m\u001b[0;34m(\u001b[0m\u001b[0mmodel\u001b[0m\u001b[0;34m.\u001b[0m\u001b[0msummary\u001b[0m\u001b[0;34m(\u001b[0m\u001b[0;34m)\u001b[0m\u001b[0;34m)\u001b[0m\u001b[0;34m\u001b[0m\u001b[0;34m\u001b[0m\u001b[0m\n",
      "\u001b[0;32m~/.local/lib/python3.9/site-packages/keras/engine/training.py\u001b[0m in \u001b[0;36mfit\u001b[0;34m(self, x, y, batch_size, epochs, verbose, callbacks, validation_split, validation_data, shuffle, class_weight, sample_weight, initial_epoch, steps_per_epoch, validation_steps, validation_batch_size, validation_freq, max_queue_size, workers, use_multiprocessing)\u001b[0m\n\u001b[1;32m   1182\u001b[0m                 _r=1):\n\u001b[1;32m   1183\u001b[0m               \u001b[0mcallbacks\u001b[0m\u001b[0;34m.\u001b[0m\u001b[0mon_train_batch_begin\u001b[0m\u001b[0;34m(\u001b[0m\u001b[0mstep\u001b[0m\u001b[0;34m)\u001b[0m\u001b[0;34m\u001b[0m\u001b[0;34m\u001b[0m\u001b[0m\n\u001b[0;32m-> 1184\u001b[0;31m               \u001b[0mtmp_logs\u001b[0m \u001b[0;34m=\u001b[0m \u001b[0mself\u001b[0m\u001b[0;34m.\u001b[0m\u001b[0mtrain_function\u001b[0m\u001b[0;34m(\u001b[0m\u001b[0miterator\u001b[0m\u001b[0;34m)\u001b[0m\u001b[0;34m\u001b[0m\u001b[0;34m\u001b[0m\u001b[0m\n\u001b[0m\u001b[1;32m   1185\u001b[0m               \u001b[0;32mif\u001b[0m \u001b[0mdata_handler\u001b[0m\u001b[0;34m.\u001b[0m\u001b[0mshould_sync\u001b[0m\u001b[0;34m:\u001b[0m\u001b[0;34m\u001b[0m\u001b[0;34m\u001b[0m\u001b[0m\n\u001b[1;32m   1186\u001b[0m                 \u001b[0mcontext\u001b[0m\u001b[0;34m.\u001b[0m\u001b[0masync_wait\u001b[0m\u001b[0;34m(\u001b[0m\u001b[0;34m)\u001b[0m\u001b[0;34m\u001b[0m\u001b[0;34m\u001b[0m\u001b[0m\n",
      "\u001b[0;32m~/.local/lib/python3.9/site-packages/tensorflow/python/eager/def_function.py\u001b[0m in \u001b[0;36m__call__\u001b[0;34m(self, *args, **kwds)\u001b[0m\n\u001b[1;32m    883\u001b[0m \u001b[0;34m\u001b[0m\u001b[0m\n\u001b[1;32m    884\u001b[0m       \u001b[0;32mwith\u001b[0m \u001b[0mOptionalXlaContext\u001b[0m\u001b[0;34m(\u001b[0m\u001b[0mself\u001b[0m\u001b[0;34m.\u001b[0m\u001b[0m_jit_compile\u001b[0m\u001b[0;34m)\u001b[0m\u001b[0;34m:\u001b[0m\u001b[0;34m\u001b[0m\u001b[0;34m\u001b[0m\u001b[0m\n\u001b[0;32m--> 885\u001b[0;31m         \u001b[0mresult\u001b[0m \u001b[0;34m=\u001b[0m \u001b[0mself\u001b[0m\u001b[0;34m.\u001b[0m\u001b[0m_call\u001b[0m\u001b[0;34m(\u001b[0m\u001b[0;34m*\u001b[0m\u001b[0margs\u001b[0m\u001b[0;34m,\u001b[0m \u001b[0;34m**\u001b[0m\u001b[0mkwds\u001b[0m\u001b[0;34m)\u001b[0m\u001b[0;34m\u001b[0m\u001b[0;34m\u001b[0m\u001b[0m\n\u001b[0m\u001b[1;32m    886\u001b[0m \u001b[0;34m\u001b[0m\u001b[0m\n\u001b[1;32m    887\u001b[0m       \u001b[0mnew_tracing_count\u001b[0m \u001b[0;34m=\u001b[0m \u001b[0mself\u001b[0m\u001b[0;34m.\u001b[0m\u001b[0mexperimental_get_tracing_count\u001b[0m\u001b[0;34m(\u001b[0m\u001b[0;34m)\u001b[0m\u001b[0;34m\u001b[0m\u001b[0;34m\u001b[0m\u001b[0m\n",
      "\u001b[0;32m~/.local/lib/python3.9/site-packages/tensorflow/python/eager/def_function.py\u001b[0m in \u001b[0;36m_call\u001b[0;34m(self, *args, **kwds)\u001b[0m\n\u001b[1;32m    948\u001b[0m         \u001b[0;31m# Lifting succeeded, so variables are initialized and we can run the\u001b[0m\u001b[0;34m\u001b[0m\u001b[0;34m\u001b[0m\u001b[0m\n\u001b[1;32m    949\u001b[0m         \u001b[0;31m# stateless function.\u001b[0m\u001b[0;34m\u001b[0m\u001b[0;34m\u001b[0m\u001b[0m\n\u001b[0;32m--> 950\u001b[0;31m         \u001b[0;32mreturn\u001b[0m \u001b[0mself\u001b[0m\u001b[0;34m.\u001b[0m\u001b[0m_stateless_fn\u001b[0m\u001b[0;34m(\u001b[0m\u001b[0;34m*\u001b[0m\u001b[0margs\u001b[0m\u001b[0;34m,\u001b[0m \u001b[0;34m**\u001b[0m\u001b[0mkwds\u001b[0m\u001b[0;34m)\u001b[0m\u001b[0;34m\u001b[0m\u001b[0;34m\u001b[0m\u001b[0m\n\u001b[0m\u001b[1;32m    951\u001b[0m     \u001b[0;32melse\u001b[0m\u001b[0;34m:\u001b[0m\u001b[0;34m\u001b[0m\u001b[0;34m\u001b[0m\u001b[0m\n\u001b[1;32m    952\u001b[0m       \u001b[0m_\u001b[0m\u001b[0;34m,\u001b[0m \u001b[0m_\u001b[0m\u001b[0;34m,\u001b[0m \u001b[0m_\u001b[0m\u001b[0;34m,\u001b[0m \u001b[0mfiltered_flat_args\u001b[0m \u001b[0;34m=\u001b[0m\u001b[0;31m \u001b[0m\u001b[0;31m\\\u001b[0m\u001b[0;34m\u001b[0m\u001b[0;34m\u001b[0m\u001b[0m\n",
      "\u001b[0;32m~/.local/lib/python3.9/site-packages/tensorflow/python/eager/function.py\u001b[0m in \u001b[0;36m__call__\u001b[0;34m(self, *args, **kwargs)\u001b[0m\n\u001b[1;32m   3037\u001b[0m       (graph_function,\n\u001b[1;32m   3038\u001b[0m        filtered_flat_args) = self._maybe_define_function(args, kwargs)\n\u001b[0;32m-> 3039\u001b[0;31m     return graph_function._call_flat(\n\u001b[0m\u001b[1;32m   3040\u001b[0m         filtered_flat_args, captured_inputs=graph_function.captured_inputs)  # pylint: disable=protected-access\n\u001b[1;32m   3041\u001b[0m \u001b[0;34m\u001b[0m\u001b[0m\n",
      "\u001b[0;32m~/.local/lib/python3.9/site-packages/tensorflow/python/eager/function.py\u001b[0m in \u001b[0;36m_call_flat\u001b[0;34m(self, args, captured_inputs, cancellation_manager)\u001b[0m\n\u001b[1;32m   1961\u001b[0m         and executing_eagerly):\n\u001b[1;32m   1962\u001b[0m       \u001b[0;31m# No tape is watching; skip to running the function.\u001b[0m\u001b[0;34m\u001b[0m\u001b[0;34m\u001b[0m\u001b[0m\n\u001b[0;32m-> 1963\u001b[0;31m       return self._build_call_outputs(self._inference_function.call(\n\u001b[0m\u001b[1;32m   1964\u001b[0m           ctx, args, cancellation_manager=cancellation_manager))\n\u001b[1;32m   1965\u001b[0m     forward_backward = self._select_forward_and_backward_functions(\n",
      "\u001b[0;32m~/.local/lib/python3.9/site-packages/tensorflow/python/eager/function.py\u001b[0m in \u001b[0;36mcall\u001b[0;34m(self, ctx, args, cancellation_manager)\u001b[0m\n\u001b[1;32m    589\u001b[0m       \u001b[0;32mwith\u001b[0m \u001b[0m_InterpolateFunctionError\u001b[0m\u001b[0;34m(\u001b[0m\u001b[0mself\u001b[0m\u001b[0;34m)\u001b[0m\u001b[0;34m:\u001b[0m\u001b[0;34m\u001b[0m\u001b[0;34m\u001b[0m\u001b[0m\n\u001b[1;32m    590\u001b[0m         \u001b[0;32mif\u001b[0m \u001b[0mcancellation_manager\u001b[0m \u001b[0;32mis\u001b[0m \u001b[0;32mNone\u001b[0m\u001b[0;34m:\u001b[0m\u001b[0;34m\u001b[0m\u001b[0;34m\u001b[0m\u001b[0m\n\u001b[0;32m--> 591\u001b[0;31m           outputs = execute.execute(\n\u001b[0m\u001b[1;32m    592\u001b[0m               \u001b[0mstr\u001b[0m\u001b[0;34m(\u001b[0m\u001b[0mself\u001b[0m\u001b[0;34m.\u001b[0m\u001b[0msignature\u001b[0m\u001b[0;34m.\u001b[0m\u001b[0mname\u001b[0m\u001b[0;34m)\u001b[0m\u001b[0;34m,\u001b[0m\u001b[0;34m\u001b[0m\u001b[0;34m\u001b[0m\u001b[0m\n\u001b[1;32m    593\u001b[0m               \u001b[0mnum_outputs\u001b[0m\u001b[0;34m=\u001b[0m\u001b[0mself\u001b[0m\u001b[0;34m.\u001b[0m\u001b[0m_num_outputs\u001b[0m\u001b[0;34m,\u001b[0m\u001b[0;34m\u001b[0m\u001b[0;34m\u001b[0m\u001b[0m\n",
      "\u001b[0;32m~/.local/lib/python3.9/site-packages/tensorflow/python/eager/execute.py\u001b[0m in \u001b[0;36mquick_execute\u001b[0;34m(op_name, num_outputs, inputs, attrs, ctx, name)\u001b[0m\n\u001b[1;32m     57\u001b[0m   \u001b[0;32mtry\u001b[0m\u001b[0;34m:\u001b[0m\u001b[0;34m\u001b[0m\u001b[0;34m\u001b[0m\u001b[0m\n\u001b[1;32m     58\u001b[0m     \u001b[0mctx\u001b[0m\u001b[0;34m.\u001b[0m\u001b[0mensure_initialized\u001b[0m\u001b[0;34m(\u001b[0m\u001b[0;34m)\u001b[0m\u001b[0;34m\u001b[0m\u001b[0;34m\u001b[0m\u001b[0m\n\u001b[0;32m---> 59\u001b[0;31m     tensors = pywrap_tfe.TFE_Py_Execute(ctx._handle, device_name, op_name,\n\u001b[0m\u001b[1;32m     60\u001b[0m                                         inputs, attrs, num_outputs)\n\u001b[1;32m     61\u001b[0m   \u001b[0;32mexcept\u001b[0m \u001b[0mcore\u001b[0m\u001b[0;34m.\u001b[0m\u001b[0m_NotOkStatusException\u001b[0m \u001b[0;32mas\u001b[0m \u001b[0me\u001b[0m\u001b[0;34m:\u001b[0m\u001b[0;34m\u001b[0m\u001b[0;34m\u001b[0m\u001b[0m\n",
      "\u001b[0;31mInvalidArgumentError\u001b[0m:  Dimension -8000 must be >= 0\n\t [[{{node zeros}}]]\n\t [[IteratorGetNext]] [Op:__inference_train_function_192612]\n\nFunction call stack:\ntrain_function\n"
     ]
    }
   ],
   "source": [
    "if args_mfcc is True:\n",
    "    input_shape = [1, 32, 32, 1]\n",
    "else:\n",
    "    input_shape = [1, 49, 10, 1]\n",
    "\n",
    "# model.build(input_shape)\n",
    "\n",
    "# Early stopping callback\n",
    "es_callback = tf.keras.callbacks.EarlyStopping(monitor=\"val_loss\", mode = 'min', min_delta = 0, patience = 6, restore_best_weights = True)\n",
    "\n",
    "model.compile(loss = loss, optimizer = optimizer, metrics = metrics)\n",
    "model.fit(train_ds, validation_data=val_ds, epochs = 1, callbacks=es_callback)\n",
    "\n",
    "print(model.summary())\n",
    "\n",
    "test_loss, test_error = model.evaluate(test_ds)\n",
    "print('Test error: ', test_error)\n",
    "\n",
    "model = tfmot.sparsity.keras.strip_pruning(model)"
   ]
  },
  {
   "cell_type": "markdown",
   "id": "d38d6785-d798-4adc-b7d9-62ad9ddf0f39",
   "metadata": {
    "tags": []
   },
   "source": [
    "## Magnitude based pruning"
   ]
  },
  {
   "cell_type": "code",
   "execution_count": 53,
   "id": "22e84114-451f-4c57-95a2-4d100f48963d",
   "metadata": {},
   "outputs": [
    {
     "name": "stderr",
     "output_type": "stream",
     "text": [
      "/home/nicola2503/.local/lib/python3.9/site-packages/keras/engine/base_layer.py:2223: UserWarning: `layer.add_variable` is deprecated and will be removed in a future version. Please use `layer.add_weight` method instead.\n",
      "  warnings.warn('`layer.add_variable` is deprecated and '\n"
     ]
    },
    {
     "name": "stdout",
     "output_type": "stream",
     "text": [
      "Epoch 1/20\n"
     ]
    },
    {
     "name": "stderr",
     "output_type": "stream",
     "text": [
      "2021-12-31 13:09:07.616272: I tensorflow/core/kernels/data/shuffle_dataset_op.cc:175] Filling up shuffle buffer (this may take a while): 17 of 100\n",
      "2021-12-31 13:09:18.042688: I tensorflow/core/kernels/data/shuffle_dataset_op.cc:175] Filling up shuffle buffer (this may take a while): 35 of 100\n",
      "2021-12-31 13:09:27.845250: I tensorflow/core/kernels/data/shuffle_dataset_op.cc:175] Filling up shuffle buffer (this may take a while): 52 of 100\n",
      "2021-12-31 13:09:37.707074: I tensorflow/core/kernels/data/shuffle_dataset_op.cc:175] Filling up shuffle buffer (this may take a while): 69 of 100\n",
      "2021-12-31 13:09:48.075027: I tensorflow/core/kernels/data/shuffle_dataset_op.cc:175] Filling up shuffle buffer (this may take a while): 86 of 100\n"
     ]
    },
    {
     "name": "stdout",
     "output_type": "stream",
     "text": [
      "  1/200 [..............................] - ETA: 3:28:15 - loss: 2.1187 - sparse_categorical_accuracy: 0.1250"
     ]
    },
    {
     "name": "stderr",
     "output_type": "stream",
     "text": [
      "2021-12-31 13:09:57.311571: I tensorflow/core/kernels/data/shuffle_dataset_op.cc:228] Shuffle buffer filled.\n"
     ]
    },
    {
     "name": "stdout",
     "output_type": "stream",
     "text": [
      "200/200 [==============================] - 176s 570ms/step - loss: 1.7491 - sparse_categorical_accuracy: 0.3784 - val_loss: 1.3484 - val_sparse_categorical_accuracy: 0.6025\n",
      "Epoch 2/20\n",
      "200/200 [==============================] - 28s 138ms/step - loss: 1.1093 - sparse_categorical_accuracy: 0.6714 - val_loss: 1.0501 - val_sparse_categorical_accuracy: 0.6900\n",
      "Epoch 3/20\n",
      "200/200 [==============================] - 27s 137ms/step - loss: 0.8313 - sparse_categorical_accuracy: 0.7667 - val_loss: 0.7702 - val_sparse_categorical_accuracy: 0.7663\n",
      "Epoch 4/20\n",
      "200/200 [==============================] - 26s 131ms/step - loss: 0.6865 - sparse_categorical_accuracy: 0.8052 - val_loss: 0.6863 - val_sparse_categorical_accuracy: 0.7887\n",
      "Epoch 5/20\n",
      "200/200 [==============================] - 27s 133ms/step - loss: 0.6158 - sparse_categorical_accuracy: 0.8247 - val_loss: 0.6424 - val_sparse_categorical_accuracy: 0.7900\n",
      "Epoch 6/20\n",
      "200/200 [==============================] - 26s 129ms/step - loss: 0.5601 - sparse_categorical_accuracy: 0.8425 - val_loss: 0.6381 - val_sparse_categorical_accuracy: 0.7962\n",
      "Epoch 7/20\n",
      "200/200 [==============================] - 26s 132ms/step - loss: 0.5083 - sparse_categorical_accuracy: 0.8556 - val_loss: 0.6482 - val_sparse_categorical_accuracy: 0.7738\n",
      "Epoch 8/20\n",
      "200/200 [==============================] - 26s 132ms/step - loss: 0.5025 - sparse_categorical_accuracy: 0.8536 - val_loss: 0.6266 - val_sparse_categorical_accuracy: 0.8037\n",
      "Epoch 9/20\n",
      "200/200 [==============================] - 25s 126ms/step - loss: 0.4841 - sparse_categorical_accuracy: 0.8616 - val_loss: 0.6296 - val_sparse_categorical_accuracy: 0.7900\n",
      "Epoch 10/20\n",
      "200/200 [==============================] - 25s 126ms/step - loss: 0.4708 - sparse_categorical_accuracy: 0.8650 - val_loss: 0.6958 - val_sparse_categorical_accuracy: 0.7725\n",
      "Epoch 11/20\n",
      "200/200 [==============================] - 25s 127ms/step - loss: 0.4585 - sparse_categorical_accuracy: 0.8669 - val_loss: 0.4882 - val_sparse_categorical_accuracy: 0.8487\n",
      "Epoch 12/20\n",
      "200/200 [==============================] - 25s 126ms/step - loss: 0.4332 - sparse_categorical_accuracy: 0.8802 - val_loss: 1.0056 - val_sparse_categorical_accuracy: 0.6488\n",
      "Epoch 13/20\n",
      "200/200 [==============================] - 25s 127ms/step - loss: 0.4347 - sparse_categorical_accuracy: 0.8742 - val_loss: 0.4744 - val_sparse_categorical_accuracy: 0.8537\n",
      "Epoch 14/20\n",
      "200/200 [==============================] - 25s 126ms/step - loss: 0.3818 - sparse_categorical_accuracy: 0.8900 - val_loss: 0.4971 - val_sparse_categorical_accuracy: 0.8537\n",
      "Epoch 15/20\n",
      "200/200 [==============================] - 26s 128ms/step - loss: 0.3647 - sparse_categorical_accuracy: 0.8992 - val_loss: 0.4070 - val_sparse_categorical_accuracy: 0.8788\n",
      "Epoch 16/20\n",
      "200/200 [==============================] - 25s 126ms/step - loss: 0.3351 - sparse_categorical_accuracy: 0.9056 - val_loss: 0.4377 - val_sparse_categorical_accuracy: 0.8575\n",
      "Epoch 17/20\n",
      "200/200 [==============================] - 25s 127ms/step - loss: 0.3215 - sparse_categorical_accuracy: 0.9120 - val_loss: 0.3771 - val_sparse_categorical_accuracy: 0.8875\n",
      "Epoch 18/20\n",
      "200/200 [==============================] - 25s 127ms/step - loss: 0.2986 - sparse_categorical_accuracy: 0.9164 - val_loss: 0.3635 - val_sparse_categorical_accuracy: 0.8800\n",
      "Epoch 19/20\n",
      "200/200 [==============================] - 26s 128ms/step - loss: 0.2792 - sparse_categorical_accuracy: 0.9244 - val_loss: 0.3844 - val_sparse_categorical_accuracy: 0.8825\n",
      "Epoch 20/20\n",
      "200/200 [==============================] - 26s 129ms/step - loss: 0.2599 - sparse_categorical_accuracy: 0.9262 - val_loss: 0.3413 - val_sparse_categorical_accuracy: 0.8988\n",
      "Model: \"sequential_20\"\n",
      "_________________________________________________________________\n",
      "Layer (type)                 Output Shape              Param #   \n",
      "=================================================================\n",
      "prune_low_magnitude_conv2d_3 (None, None, 8, 204)      3674      \n",
      "_________________________________________________________________\n",
      "prune_low_magnitude_batch_no (None, None, 8, 204)      817       \n",
      "_________________________________________________________________\n",
      "prune_low_magnitude_re_lu_39 (None, None, 8, 204)      1         \n",
      "_________________________________________________________________\n",
      "prune_low_magnitude_depthwis (None, None, 6, 204)      1837      \n",
      "_________________________________________________________________\n",
      "prune_low_magnitude_conv2d_4 (None, None, 6, 204)      83234     \n",
      "_________________________________________________________________\n",
      "prune_low_magnitude_batch_no (None, None, 6, 204)      817       \n",
      "_________________________________________________________________\n",
      "prune_low_magnitude_re_lu_40 (None, None, 6, 204)      1         \n",
      "_________________________________________________________________\n",
      "prune_low_magnitude_depthwis (None, None, 4, 204)      1837      \n",
      "_________________________________________________________________\n",
      "prune_low_magnitude_conv2d_4 (None, None, 4, 204)      83234     \n",
      "_________________________________________________________________\n",
      "prune_low_magnitude_batch_no (None, None, 4, 204)      817       \n",
      "_________________________________________________________________\n",
      "prune_low_magnitude_re_lu_41 (None, None, 4, 204)      1         \n",
      "_________________________________________________________________\n",
      "prune_low_magnitude_global_a (None, 204)               1         \n",
      "_________________________________________________________________\n",
      "prune_low_magnitude_dense_41 (None, 8)                 3274      \n",
      "=================================================================\n",
      "Total params: 179,545\n",
      "Trainable params: 91,604\n",
      "Non-trainable params: 87,941\n",
      "_________________________________________________________________\n",
      "None\n",
      "25/25 [==============================] - 21s 846ms/step - loss: 0.3450 - sparse_categorical_accuracy: 0.8875\n",
      "Test error:  0.887499988079071\n"
     ]
    }
   ],
   "source": [
    "epochs = 20\n",
    "\n",
    "pruning_params = {'pruning_schedule':\n",
    "    tfmot.sparsity.keras.PolynomialDecay(\n",
    "        initial_sparsity=0.25,\n",
    "        final_sparsity=0.80,\n",
    "        begin_step=2*len(train_ds),\n",
    "        end_step=20*len(train_ds)\n",
    "        )\n",
    "    }\n",
    "\n",
    "prune_low_magnitude = tfmot.sparsity.keras.prune_low_magnitude\n",
    "model = prune_low_magnitude(model, **pruning_params)\n",
    "\n",
    "# Early stopping callback\n",
    "es_callback = tf.keras.callbacks.EarlyStopping(monitor=\"val_loss\", mode = 'min', min_delta = 0, patience = 6, restore_best_weights = True)\n",
    "\n",
    "# Define the pruning callback\n",
    "callbacks = [tfmot.sparsity.keras.UpdatePruningStep()]# es_callback]\n",
    "\n",
    "# Train the model\n",
    "# if args_mfcc is True:\n",
    "#     print('mfcc')\n",
    "#     input_shape = [1, 32, 32, 1]\n",
    "# else:\n",
    "#     input_shape = [1, 49, 10, 1]\n",
    "\n",
    "input_shape = [1, 49, 10, 1] #mfcc\n",
    "model.build(input_shape) # serve per ds_cnn\n",
    "model.compile(loss = loss, optimizer = optimizer, metrics = metrics)\n",
    "model.fit(train_ds, epochs=epochs, validation_data=val_ds, callbacks=callbacks)\n",
    "\n",
    "print(model.summary())\n",
    "\n",
    "test_loss, test_error = model.evaluate(test_ds)\n",
    "print('Test error: ', test_error)\n",
    "\n",
    "# Strip the model\n",
    "model = tfmot.sparsity.keras.strip_pruning(model)"
   ]
  },
  {
   "cell_type": "markdown",
   "id": "70d132ef-5b24-4958-9271-9795f75058b5",
   "metadata": {},
   "source": [
    "## Post Training Quantization"
   ]
  },
  {
   "cell_type": "markdown",
   "id": "43105ef3-94b2-4972-925f-bf1e603f6cdd",
   "metadata": {},
   "source": [
    "### Weight "
   ]
  },
  {
   "cell_type": "code",
   "execution_count": 34,
   "id": "48763df1-d2d0-4ca3-944c-9473ea23dd62",
   "metadata": {},
   "outputs": [],
   "source": [
    "converter = tf.lite.TFLiteConverter.from_keras_model(model)\n",
    "converter.target_spec.supported_ops = [\n",
    "  tf.lite.OpsSet.TFLITE_BUILTINS, # enable TensorFlow Lite ops.\n",
    "  tf.lite.OpsSet.SELECT_TF_OPS # enable TensorFlow ops.\n",
    "]\n",
    "\n",
    "# converter.target_spec.supported_types = [tf.float16]\n",
    "converter.optimizations = [tf.lite.Optimize.DEFAULT]"
   ]
  },
  {
   "cell_type": "markdown",
   "id": "53eb0ca3-704a-4b6d-8658-e374fe1df870",
   "metadata": {},
   "source": [
    "### Weight and activation"
   ]
  },
  {
   "cell_type": "code",
   "execution_count": 32,
   "id": "16c2aa49-7974-4a22-b03b-cc2614f50afb",
   "metadata": {},
   "outputs": [],
   "source": [
    "# integer quantization with float fallback ( Reduce too much the accuracy)\n",
    "converter = tf.lite.TFLiteConverter.from_keras_model(model)\n",
    "converter.optimizations = [tf.lite.Optimize.DEFAULT]\n",
    "converter.representative_dataset = representative_dataset_generator"
   ]
  },
  {
   "cell_type": "code",
   "execution_count": 36,
   "id": "340474ca-03e8-4175-9fb3-8e257fb1e5b4",
   "metadata": {},
   "outputs": [],
   "source": [
    "# integer only quantization (ERROR wrong input type)\n",
    "converter = tf.lite.TFLiteConverter.from_keras_model(model)\n",
    "converter.optimizations = [tf.lite.Optimize.DEFAULT]\n",
    "converter.representative_dataset = representative_dataset_generator\n",
    "converter.target_spec.supported_ops = [tf.lite.OpsSet.TFLITE_BUILTINS_INT8]\n",
    "converter.inference_input_type = tf.float32\n",
    "converter.inference_output_type = tf.float32 "
   ]
  },
  {
   "cell_type": "code",
   "execution_count": 86,
   "id": "1036954e-d407-4c78-b960-972cd323655b",
   "metadata": {},
   "outputs": [],
   "source": [
    "# convert the model to tflite and apply quantizatiom\n",
    "converter = tf.lite.TFLiteConverter.from_keras_model(model)\n",
    "# w only\n",
    "converter.optimizations = [tf.lite.Optimize.DEFAULT]\n",
    "# w+a\n",
    "converter.representative_dataset = representative_dataset_generator\n",
    "converter.inference_input_type = tf.float32\n",
    "converter.inference_output_type = tf.float32\n",
    "# experimental integer-only quantization\n",
    "converter.target_spec.supported_ops = [\n",
    "    tf.lite.OpsSet.EXPERIMENTAL_TFLITE_BUILTINS_ACTIVATIONS_INT16_WEIGHTS_INT8\n",
    "]"
   ]
  },
  {
   "cell_type": "markdown",
   "id": "84cf7671-e3ab-4a65-bed1-c4e738a019f2",
   "metadata": {},
   "source": [
    "### No quantization"
   ]
  },
  {
   "cell_type": "code",
   "execution_count": 17,
   "id": "7b5e398c-635c-479f-add0-1c6e7ab0b906",
   "metadata": {},
   "outputs": [],
   "source": [
    "converter = tf.lite.TFLiteConverter.from_keras_model(model)"
   ]
  },
  {
   "cell_type": "markdown",
   "id": "b1744a4f",
   "metadata": {},
   "source": [
    "# Save model as TFLite model"
   ]
  },
  {
   "cell_type": "code",
   "execution_count": 87,
   "id": "44106a54",
   "metadata": {},
   "outputs": [
    {
     "name": "stdout",
     "output_type": "stream",
     "text": [
      "WARNING:tensorflow:Compiled the loaded model, but the compiled metrics have yet to be built. `model.compile_metrics` will be empty until you train or evaluate the model.\n"
     ]
    },
    {
     "name": "stderr",
     "output_type": "stream",
     "text": [
      "WARNING:tensorflow:Compiled the loaded model, but the compiled metrics have yet to be built. `model.compile_metrics` will be empty until you train or evaluate the model.\n"
     ]
    },
    {
     "name": "stdout",
     "output_type": "stream",
     "text": [
      "INFO:tensorflow:Assets written to: /tmp/tmpf_ogtp9r/assets\n"
     ]
    },
    {
     "name": "stderr",
     "output_type": "stream",
     "text": [
      "INFO:tensorflow:Assets written to: /tmp/tmpf_ogtp9r/assets\n",
      "2021-12-31 14:16:17.277562: I tensorflow/core/grappler/devices.cc:66] Number of eligible GPUs (core count >= 8, compute capability >= 0.0): 0\n",
      "2021-12-31 14:16:17.277688: I tensorflow/core/grappler/clusters/single_machine.cc:357] Starting new session\n",
      "2021-12-31 14:16:17.279457: I tensorflow/core/grappler/optimizers/meta_optimizer.cc:1137] Optimization results for grappler item: graph_to_optimize\n",
      "  function_optimizer: function_optimizer did nothing. time = 0.006ms.\n",
      "  function_optimizer: function_optimizer did nothing. time = 0.001ms.\n",
      "\n",
      "2021-12-31 14:16:17.338353: W tensorflow/compiler/mlir/lite/python/tf_tfl_flatbuffer_helpers.cc:351] Ignored output_format.\n",
      "2021-12-31 14:16:17.338385: W tensorflow/compiler/mlir/lite/python/tf_tfl_flatbuffer_helpers.cc:354] Ignored drop_control_dependency.\n"
     ]
    },
    {
     "name": "stdout",
     "output_type": "stream",
     "text": [
      "Model size version a: 108.49kB\n",
      "Accuracy of model version a = 0.795\n"
     ]
    }
   ],
   "source": [
    "tflite_model = converter.convert()\n",
    "\n",
    "if not os.path.exists('./models/'):\n",
    "    os.makedirs('./models/')\n",
    "\n",
    "model_dir = os.path.join('.', 'models', 'Group2_kws_{}.tflite.zlib'.format(args_version))\n",
    "with open(model_dir, 'wb') as fp:\n",
    "        tflite_compressed = zlib.compress(tflite_model)\n",
    "        fp.write(tflite_compressed)\n",
    "\n",
    "# Size of the final tflite.zlib model\n",
    "print('Model size version {}: {:.2f}kB'.format(args_version, os.path.getsize(model_dir)/1000))\n",
    "\n",
    "# Evaluation of the tflite.zlib model\n",
    "acc = load_and_evaluation(model_dir, test_ds)\n",
    "print('Accuracy of model version {} = {:.3f}'.format(args_version, acc))"
   ]
  },
  {
   "cell_type": "markdown",
   "id": "675e7026-59c7-4aaa-9a5f-09ff56041118",
   "metadata": {},
   "source": [
    "- vediamo se runnare per 5 epochs cambia la size :\n"
   ]
  }
 ],
 "metadata": {
  "kernelspec": {
   "display_name": "Python 3 (ipykernel)",
   "language": "python",
   "name": "python3"
  },
  "language_info": {
   "codemirror_mode": {
    "name": "ipython",
    "version": 3
   },
   "file_extension": ".py",
   "mimetype": "text/x-python",
   "name": "python",
   "nbconvert_exporter": "python",
   "pygments_lexer": "ipython3",
   "version": "3.9.7"
  }
 },
 "nbformat": 4,
 "nbformat_minor": 5
}
