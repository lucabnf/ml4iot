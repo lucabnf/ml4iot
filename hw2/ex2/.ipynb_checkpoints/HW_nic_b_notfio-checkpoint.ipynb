{
 "cells": [
  {
   "cell_type": "markdown",
   "id": "33f390b5",
   "metadata": {},
   "source": [
    "# **Exercise 2 - Homework 2**\n",
    "\n",
    "## Download dataset"
   ]
  },
  {
   "cell_type": "code",
   "execution_count": 1,
   "id": "a70d994a",
   "metadata": {},
   "outputs": [],
   "source": [
    "# !pip install -U tensorflow-io==0.23.1\n",
    "import argparse \n",
    "import tensorflow_io as tfio\n",
    "from scipy import signal\n",
    "from scipy.io import wavfile\n",
    "import numpy as np\n",
    "import os\n",
    "import zlib\n",
    "import tensorflow as tf\n",
    "import tensorflow_model_optimization as tfmot\n",
    "\n",
    "# from subprocess import Popen\n",
    "# Popen('sudo sh -c \"echo performance >\" /sys/devices/system/cpu/cpufreq/policy0/scaling_governor\"',\n",
    "#       shell=True).wait()\n",
    "\n",
    "args_version = \"b\"\n",
    "args_mfcc = True\n",
    "\n",
    "seed = 42\n",
    "tf.random.set_seed(seed)\n",
    "np.random.seed(seed)\n",
    "\n",
    "zip_path = tf.keras.utils.get_file(\n",
    "    origin=\"http://storage.googleapis.com/download.tensorflow.org/data/mini_speech_commands.zip\",\n",
    "    fname='mini_speech_commands.zip',\n",
    "    extract=True,\n",
    "    cache_dir='.', cache_subdir='data')"
   ]
  },
  {
   "cell_type": "markdown",
   "id": "0d7e15e0",
   "metadata": {},
   "source": [
    "## Train/validation/test splits"
   ]
  },
  {
   "cell_type": "code",
   "execution_count": 2,
   "id": "2b04d585",
   "metadata": {},
   "outputs": [],
   "source": [
    "kws_train_split = open(\"kws_train_split.txt\", \"r\")\n",
    "train_lines = kws_train_split.read().splitlines()\n",
    "train_files = tf.convert_to_tensor(train_lines)\n",
    "num_samples_train = train_files.shape\n",
    "\n",
    "kws_val_split = open(\"kws_val_split.txt\", \"r\")\n",
    "val_lines = kws_val_split.read().splitlines()\n",
    "val_files = tf.convert_to_tensor(val_lines)\n",
    "num_samples_val = val_files.shape\n",
    "\n",
    "kws_test_split = open(\"kws_test_split.txt\", \"r\")\n",
    "test_lines = kws_test_split.read().splitlines()\n",
    "test_files = tf.convert_to_tensor(test_lines)\n",
    "num_samples_test = test_files.shape\n",
    "\n",
    "num_samples = num_samples_train[0] + num_samples_val[0] + num_samples_test[0]"
   ]
  },
  {
   "cell_type": "markdown",
   "id": "a7a0ea6e",
   "metadata": {},
   "source": [
    "## Label mapping"
   ]
  },
  {
   "cell_type": "code",
   "execution_count": 3,
   "id": "e0eedf86",
   "metadata": {},
   "outputs": [],
   "source": [
    "labels = open(\"labels.txt\", \"r\")\n",
    "labels = str(labels.read())\n",
    "characters_to_remove = \"[]''\"\"  \"\n",
    "for character in characters_to_remove: \n",
    "    labels = labels.replace(character, \"\")\n",
    "LABELS = labels.split(\",\")"
   ]
  },
  {
   "cell_type": "markdown",
   "id": "9d23bbc3",
   "metadata": {},
   "source": [
    "## Classes definition"
   ]
  },
  {
   "cell_type": "code",
   "execution_count": 4,
   "id": "396f7479",
   "metadata": {},
   "outputs": [],
   "source": [
    "def res(audio, sampling_rate):        \n",
    "    audio = signal.resample_poly(audio, 1, 16000 // sampling_rate)\n",
    "    return np.array(audio, dtype = np.float32)\n",
    "    \n",
    "def tf_function(audio, sampling_rate):\n",
    "    audio = tf.numpy_function(res, [audio, sampling_rate], tf.float32)\n",
    "    return audio"
   ]
  },
  {
   "cell_type": "code",
   "execution_count": 5,
   "id": "9c4ea49a",
   "metadata": {},
   "outputs": [],
   "source": [
    "class SignalGenerator:\n",
    "    def __init__(self, labels, sampling_rate, frame_length, frame_step,\n",
    "            num_mel_bins=None, lower_frequency=None, upper_frequency=None,\n",
    "            num_coefficients=None, mfcc=False):\n",
    "        self.labels = labels\n",
    "        self.sampling_rate = sampling_rate\n",
    "        self.frame_length = frame_length\n",
    "        self.frame_step = frame_step\n",
    "        self.num_mel_bins = num_mel_bins\n",
    "        self.lower_frequency = lower_frequency\n",
    "        self.upper_frequency = upper_frequency\n",
    "        self.num_coefficients = num_coefficients\n",
    "        num_spectrogram_bins = (frame_length) // 2 + 1\n",
    "\n",
    "        if mfcc is True:\n",
    "            self.linear_to_mel_weight_matrix = tf.signal.linear_to_mel_weight_matrix(\n",
    "                    self.num_mel_bins, num_spectrogram_bins, self.sampling_rate,\n",
    "                    self.lower_frequency, self.upper_frequency)\n",
    "            self.preprocess = self.preprocess_with_mfcc\n",
    "        else:\n",
    "            self.preprocess = self.preprocess_with_stft\n",
    "    \n",
    "    def read(self, file_path):\n",
    "        parts = tf.strings.split(file_path, os.path.sep)\n",
    "        label = parts[-2]\n",
    "        label_id = tf.argmax(label == self.labels)\n",
    "        audio_binary = tf.io.read_file(file_path)\n",
    "        # input_rate, audio = wavfile.read(file_path)\n",
    "        audio, _ = tf.audio.decode_wav(audio_binary)\n",
    "        # audio = tfio.audio.resample(audio, 16000, self.sampling_rate)\n",
    "        \n",
    "        audio = tf_function(audio, sampling_rate)\n",
    "        \n",
    "        audio = tf.squeeze(audio, axis=1)\n",
    "        return audio, label_id\n",
    "    \n",
    "    \n",
    "    def pad(self, audio):\n",
    "        zero_padding = tf.zeros([self.sampling_rate] - tf.shape(audio), dtype=tf.float32)\n",
    "        audio = tf.concat([audio, zero_padding], 0)\n",
    "        audio.set_shape([self.sampling_rate])\n",
    "        return audio\n",
    "\n",
    "    \n",
    "    def get_spectrogram(self, audio):\n",
    "        stft = tf.signal.stft(audio, frame_length=self.frame_length,\n",
    "                frame_step=self.frame_step, fft_length=self.frame_length)\n",
    "        spectrogram = tf.abs(stft)\n",
    "        return spectrogram\n",
    "\n",
    "    \n",
    "    def get_mfccs(self, spectrogram):\n",
    "        mel_spectrogram = tf.tensordot(spectrogram,\n",
    "                self.linear_to_mel_weight_matrix, 1)\n",
    "        log_mel_spectrogram = tf.math.log(mel_spectrogram + 1.e-6)\n",
    "        mfccs = tf.signal.mfccs_from_log_mel_spectrograms(log_mel_spectrogram)\n",
    "        mfccs = mfccs[..., :self.num_coefficients]\n",
    "        return mfccs\n",
    "\n",
    "    \n",
    "    def preprocess_with_stft(self, file_path):\n",
    "        audio, label = self.read(file_path)\n",
    "        audio = self.pad(audio)\n",
    "        spectrogram = self.get_spectrogram(audio)\n",
    "        spectrogram = tf.expand_dims(spectrogram, -1)\n",
    "        spectrogram = tf.image.resize(spectrogram, [32, 32])\n",
    "        return spectrogram, label\n",
    "\n",
    "    \n",
    "    def preprocess_with_mfcc(self, file_path):\n",
    "        audio, label = self.read(file_path)\n",
    "        audio = self.pad(audio)\n",
    "        spectrogram = self.get_spectrogram(audio)\n",
    "        mfccs = self.get_mfccs(spectrogram)\n",
    "        mfccs = tf.expand_dims(mfccs, -1)\n",
    "        return mfccs, label\n",
    "\n",
    "    \n",
    "    def make_dataset(self, files, train):\n",
    "        ds = tf.data.Dataset.from_tensor_slices(files)\n",
    "        ds = ds.map(self.preprocess, num_parallel_calls=4)\n",
    "        ds = ds.batch(32)\n",
    "        ds = ds.cache()\n",
    "        if train is True:\n",
    "            ds = ds.shuffle(100, reshuffle_each_iteration=True)\n",
    "        return ds"
   ]
  },
  {
   "cell_type": "code",
   "execution_count": 7,
   "id": "7a574c95",
   "metadata": {},
   "outputs": [],
   "source": [
    "# Function for weight and activations quantization \n",
    "def representative_dataset_generator():\n",
    "    for x, _ in train_ds.take(1000):\n",
    "        yield [x]"
   ]
  },
  {
   "cell_type": "markdown",
   "id": "ab11d57b",
   "metadata": {},
   "source": [
    "## Options for the Signal Generator"
   ]
  },
  {
   "cell_type": "code",
   "execution_count": 7,
   "id": "401ebfd9",
   "metadata": {},
   "outputs": [
    {
     "name": "stdout",
     "output_type": "stream",
     "text": [
      "mfcc\n"
     ]
    }
   ],
   "source": [
    "sampling_rate = 8000\n",
    "# frame_length = 16e-3 * sampling_rate\n",
    "# frame_step = 8e-3 * sampling_rate\n",
    "# frame_length = int(frame_length)\n",
    "# frame_step = int(frame_step)\n",
    "\n",
    "STFT_OPTIONS = {'frame_length': 256, 'frame_step': 128, 'mfcc': False}\n",
    "MFCC_OPTIONS = {'frame_length': 320, 'frame_step': 160, 'mfcc': True,\n",
    "        'lower_frequency': 20, 'upper_frequency': 4000, 'num_mel_bins': 16,\n",
    "        'num_coefficients': 10}\n",
    "    \n",
    "if args_mfcc is True:\n",
    "    options = MFCC_OPTIONS\n",
    "    print('mfcc')\n",
    "    strides = [2, 1]\n",
    "else:\n",
    "    options = STFT_OPTIONS\n",
    "    strides = [2, 2]\n",
    "    print('stft')\n",
    "    \n",
    "units = len(LABELS)"
   ]
  },
  {
   "cell_type": "code",
   "execution_count": 10,
   "id": "24d1c299",
   "metadata": {},
   "outputs": [],
   "source": [
    "sampling_rate = 16000\n",
    "MFCC_OPTIONS = {'frame_length': 640, 'frame_step': 320, 'mfcc': True,\n",
    "        'lower_frequency': 20, 'upper_frequency': 4000, 'num_mel_bins': 40,\n",
    "        'num_coefficients': 10}\n",
    "options = MFCC_OPTIONS"
   ]
  },
  {
   "cell_type": "markdown",
   "id": "20326a97",
   "metadata": {},
   "source": [
    "## Create datasets"
   ]
  },
  {
   "cell_type": "code",
   "execution_count": 11,
   "id": "8d0dfc4c",
   "metadata": {},
   "outputs": [],
   "source": [
    "generator = SignalGenerator(LABELS, sampling_rate, **options)\n",
    "train_ds = generator.make_dataset(train_files, True)\n",
    "val_ds = generator.make_dataset(val_files, False)\n",
    "test_ds = generator.make_dataset(test_files, False)"
   ]
  },
  {
   "cell_type": "markdown",
   "id": "20ee831c",
   "metadata": {},
   "source": [
    "## Load and evaluation of TfLite models-"
   ]
  },
  {
   "cell_type": "code",
   "execution_count": 12,
   "id": "e6ba5af1",
   "metadata": {},
   "outputs": [],
   "source": [
    "# Load and evaluate quantized models\n",
    "def load_and_evaluation(path, dataset):\n",
    "    f = open(path, 'rb')\n",
    "    decompressed_model = zlib.decompress(f.read())\n",
    "    interpreter = tf.lite.Interpreter(model_content=decompressed_model)\n",
    "    interpreter.allocate_tensors()\n",
    "    input_details = interpreter.get_input_details()\n",
    "    output_details = interpreter.get_output_details()\n",
    "    \n",
    "    # set batch size to 1 when running inference with TFLite models\n",
    "    dataset = dataset.unbatch().batch(1)\n",
    "    \n",
    "    outputs = []\n",
    "    labels = []\n",
    "    \n",
    "    for data in dataset:\n",
    "        my_input = np.array(data[0], dtype = np.float32)\n",
    "        label = np.array(data[1], dtype = np.float32)\n",
    "        labels.append(label)\n",
    "\n",
    "        interpreter.set_tensor(input_details[0]['index'], my_input)\n",
    "        interpreter.invoke()\n",
    "        my_output = interpreter.get_tensor(output_details[0]['index'])\n",
    "        outputs.append(my_output[0])\n",
    "        \n",
    "    outputs = np.array(outputs)\n",
    "    labels = np.squeeze(np.array(labels))\n",
    "    \n",
    "    acc = sum(np.equal(labels, np.argmax(outputs, axis=1)))/len(outputs)\n",
    "                 \n",
    "    return acc"
   ]
  },
  {
   "cell_type": "markdown",
   "id": "c42a612f",
   "metadata": {
    "jp-MarkdownHeadingCollapsed": true,
    "tags": []
   },
   "source": [
    "# Training without optimization"
   ]
  },
  {
   "cell_type": "markdown",
   "id": "e7c088de",
   "metadata": {
    "tags": []
   },
   "source": [
    "## Define models"
   ]
  },
  {
   "cell_type": "code",
   "execution_count": 27,
   "id": "d3e7fa32",
   "metadata": {},
   "outputs": [],
   "source": [
    "mlp = tf.keras.Sequential([\n",
    "    tf.keras.layers.Flatten(),\n",
    "    tf.keras.layers.Dense(units = 256, activation='relu'),\n",
    "    tf.keras.layers.Dense(units = 256, activation='relu'),\n",
    "    tf.keras.layers.Dense(units = 256, activation='relu'),\n",
    "    tf.keras.layers.Dense(units = units)\n",
    "])\n",
    "\n",
    "cnn = tf.keras.Sequential([\n",
    "    tf.keras.layers.Conv2D(filters=128, kernel_size=[3,3], strides=strides, use_bias=False),\n",
    "    tf.keras.layers.BatchNormalization(momentum=0.1),\n",
    "    tf.keras.layers.ReLU(),\n",
    "    tf.keras.layers.Conv2D(filters=128, kernel_size=[3,3], strides=[1,1], use_bias=False),\n",
    "    tf.keras.layers.BatchNormalization(momentum=0.1),\n",
    "    tf.keras.layers.ReLU(),\n",
    "    tf.keras.layers.Conv2D(filters=128, kernel_size=[3,3], strides=[1,1], use_bias=False),\n",
    "    tf.keras.layers.BatchNormalization(momentum=0.1),\n",
    "    tf.keras.layers.ReLU(),\n",
    "    tf.keras.layers.GlobalAveragePooling2D(),\n",
    "    tf.keras.layers.Dense(units = units)\n",
    "])\n",
    "\n",
    "ds_cnn = tf.keras.Sequential([\n",
    "    tf.keras.layers.Conv2D(filters=256, kernel_size=[3,3], strides=strides, use_bias=False),\n",
    "    tf.keras.layers.BatchNormalization(momentum=0.1),\n",
    "    tf.keras.layers.ReLU(),\n",
    "    tf.keras.layers.DepthwiseConv2D(kernel_size=[3, 3], strides=[1, 1], use_bias=False),\n",
    "    tf.keras.layers.Conv2D(filters=256, kernel_size=[1,1], strides=[1,1], use_bias=False),\n",
    "    tf.keras.layers.BatchNormalization(momentum=0.1),\n",
    "    tf.keras.layers.ReLU(),\n",
    "    tf.keras.layers.DepthwiseConv2D(kernel_size=[3, 3], strides=[1, 1], use_bias=False),\n",
    "    tf.keras.layers.Conv2D(filters=256, kernel_size=[1,1], strides=[1,1], use_bias=False),\n",
    "    tf.keras.layers.BatchNormalization(momentum=0.1),\n",
    "    tf.keras.layers.ReLU(),\n",
    "    tf.keras.layers.GlobalAveragePooling2D(),\n",
    "    tf.keras.layers.Dense(units = units)\n",
    "])"
   ]
  },
  {
   "cell_type": "markdown",
   "id": "369f94d4",
   "metadata": {},
   "source": [
    "## Parameters for training"
   ]
  },
  {
   "cell_type": "code",
   "execution_count": 28,
   "id": "6272760e",
   "metadata": {},
   "outputs": [],
   "source": [
    "MODELS = {'b': mlp, 'b': cnn, 'a': ds_cnn}\n",
    "model = MODELS[args_version]\n",
    "\n",
    "loss = tf.losses.SparseCategoricalCrossentropy(from_logits=True)\n",
    "optimizer = tf.optimizers.Adam()\n",
    "metrics = [tf.keras.metrics.SparseCategoricalAccuracy()]"
   ]
  },
  {
   "cell_type": "markdown",
   "id": "d6810695",
   "metadata": {},
   "source": [
    "## Training"
   ]
  },
  {
   "cell_type": "code",
   "execution_count": 14,
   "id": "93252f8c",
   "metadata": {},
   "outputs": [
    {
     "ename": "InvalidArgumentError",
     "evalue": " 0-th value returned by pyfunc_0 is double, but expects float\n\t [[{{node PyFunc}}]]\n\t [[IteratorGetNext]] [Op:__inference_train_function_7628]",
     "output_type": "error",
     "traceback": [
      "\u001b[0;31m---------------------------------------------------------------------------\u001b[0m",
      "\u001b[0;31mInvalidArgumentError\u001b[0m                      Traceback (most recent call last)",
      "\u001b[0;32m/tmp/ipykernel_3631/2093887962.py\u001b[0m in \u001b[0;36m<module>\u001b[0;34m\u001b[0m\n\u001b[1;32m      1\u001b[0m \u001b[0mmodel\u001b[0m\u001b[0;34m.\u001b[0m\u001b[0mcompile\u001b[0m\u001b[0;34m(\u001b[0m\u001b[0mloss\u001b[0m \u001b[0;34m=\u001b[0m \u001b[0mloss\u001b[0m\u001b[0;34m,\u001b[0m \u001b[0moptimizer\u001b[0m \u001b[0;34m=\u001b[0m \u001b[0moptimizer\u001b[0m\u001b[0;34m,\u001b[0m \u001b[0mmetrics\u001b[0m \u001b[0;34m=\u001b[0m \u001b[0mmetrics\u001b[0m\u001b[0;34m)\u001b[0m\u001b[0;34m\u001b[0m\u001b[0;34m\u001b[0m\u001b[0m\n\u001b[0;32m----> 2\u001b[0;31m \u001b[0mmodel\u001b[0m\u001b[0;34m.\u001b[0m\u001b[0mfit\u001b[0m\u001b[0;34m(\u001b[0m\u001b[0mtrain_ds\u001b[0m\u001b[0;34m,\u001b[0m \u001b[0mvalidation_data\u001b[0m\u001b[0;34m=\u001b[0m\u001b[0mval_ds\u001b[0m\u001b[0;34m,\u001b[0m \u001b[0mepochs\u001b[0m\u001b[0;34m=\u001b[0m\u001b[0;36m1\u001b[0m\u001b[0;34m)\u001b[0m\u001b[0;34m\u001b[0m\u001b[0;34m\u001b[0m\u001b[0m\n\u001b[0m\u001b[1;32m      3\u001b[0m \u001b[0;34m\u001b[0m\u001b[0m\n\u001b[1;32m      4\u001b[0m \u001b[0mprint\u001b[0m\u001b[0;34m(\u001b[0m\u001b[0mmodel\u001b[0m\u001b[0;34m.\u001b[0m\u001b[0msummary\u001b[0m\u001b[0;34m(\u001b[0m\u001b[0;34m)\u001b[0m\u001b[0;34m)\u001b[0m\u001b[0;34m\u001b[0m\u001b[0;34m\u001b[0m\u001b[0m\n\u001b[1;32m      5\u001b[0m \u001b[0;34m\u001b[0m\u001b[0m\n",
      "\u001b[0;32m~/.local/lib/python3.9/site-packages/keras/utils/traceback_utils.py\u001b[0m in \u001b[0;36merror_handler\u001b[0;34m(*args, **kwargs)\u001b[0m\n\u001b[1;32m     65\u001b[0m     \u001b[0;32mexcept\u001b[0m \u001b[0mException\u001b[0m \u001b[0;32mas\u001b[0m \u001b[0me\u001b[0m\u001b[0;34m:\u001b[0m  \u001b[0;31m# pylint: disable=broad-except\u001b[0m\u001b[0;34m\u001b[0m\u001b[0;34m\u001b[0m\u001b[0m\n\u001b[1;32m     66\u001b[0m       \u001b[0mfiltered_tb\u001b[0m \u001b[0;34m=\u001b[0m \u001b[0m_process_traceback_frames\u001b[0m\u001b[0;34m(\u001b[0m\u001b[0me\u001b[0m\u001b[0;34m.\u001b[0m\u001b[0m__traceback__\u001b[0m\u001b[0;34m)\u001b[0m\u001b[0;34m\u001b[0m\u001b[0;34m\u001b[0m\u001b[0m\n\u001b[0;32m---> 67\u001b[0;31m       \u001b[0;32mraise\u001b[0m \u001b[0me\u001b[0m\u001b[0;34m.\u001b[0m\u001b[0mwith_traceback\u001b[0m\u001b[0;34m(\u001b[0m\u001b[0mfiltered_tb\u001b[0m\u001b[0;34m)\u001b[0m \u001b[0;32mfrom\u001b[0m \u001b[0;32mNone\u001b[0m\u001b[0;34m\u001b[0m\u001b[0;34m\u001b[0m\u001b[0m\n\u001b[0m\u001b[1;32m     68\u001b[0m     \u001b[0;32mfinally\u001b[0m\u001b[0;34m:\u001b[0m\u001b[0;34m\u001b[0m\u001b[0;34m\u001b[0m\u001b[0m\n\u001b[1;32m     69\u001b[0m       \u001b[0;32mdel\u001b[0m \u001b[0mfiltered_tb\u001b[0m\u001b[0;34m\u001b[0m\u001b[0;34m\u001b[0m\u001b[0m\n",
      "\u001b[0;32m~/.local/lib/python3.9/site-packages/tensorflow/python/eager/execute.py\u001b[0m in \u001b[0;36mquick_execute\u001b[0;34m(op_name, num_outputs, inputs, attrs, ctx, name)\u001b[0m\n\u001b[1;32m     56\u001b[0m   \u001b[0;32mtry\u001b[0m\u001b[0;34m:\u001b[0m\u001b[0;34m\u001b[0m\u001b[0;34m\u001b[0m\u001b[0m\n\u001b[1;32m     57\u001b[0m     \u001b[0mctx\u001b[0m\u001b[0;34m.\u001b[0m\u001b[0mensure_initialized\u001b[0m\u001b[0;34m(\u001b[0m\u001b[0;34m)\u001b[0m\u001b[0;34m\u001b[0m\u001b[0;34m\u001b[0m\u001b[0m\n\u001b[0;32m---> 58\u001b[0;31m     tensors = pywrap_tfe.TFE_Py_Execute(ctx._handle, device_name, op_name,\n\u001b[0m\u001b[1;32m     59\u001b[0m                                         inputs, attrs, num_outputs)\n\u001b[1;32m     60\u001b[0m   \u001b[0;32mexcept\u001b[0m \u001b[0mcore\u001b[0m\u001b[0;34m.\u001b[0m\u001b[0m_NotOkStatusException\u001b[0m \u001b[0;32mas\u001b[0m \u001b[0me\u001b[0m\u001b[0;34m:\u001b[0m\u001b[0;34m\u001b[0m\u001b[0;34m\u001b[0m\u001b[0m\n",
      "\u001b[0;31mInvalidArgumentError\u001b[0m:  0-th value returned by pyfunc_0 is double, but expects float\n\t [[{{node PyFunc}}]]\n\t [[IteratorGetNext]] [Op:__inference_train_function_7628]"
     ]
    }
   ],
   "source": [
    "model.compile(loss = loss, optimizer = optimizer, metrics = metrics)\n",
    "model.fit(train_ds, validation_data=val_ds, epochs=1)\n",
    "\n",
    "print(model.summary())\n",
    "\n",
    "test_loss, test_error = model.evaluate(test_ds)\n",
    "print('Test error: ', test_error)"
   ]
  },
  {
   "cell_type": "markdown",
   "id": "c1c9d839",
   "metadata": {
    "tags": []
   },
   "source": [
    "# Optimization of the model"
   ]
  },
  {
   "cell_type": "markdown",
   "id": "923a1001",
   "metadata": {
    "tags": []
   },
   "source": [
    "## Structured pruning"
   ]
  },
  {
   "cell_type": "code",
   "execution_count": 11,
   "id": "a131b866",
   "metadata": {},
   "outputs": [],
   "source": [
    "alpha = 0.7\n",
    "\n",
    "pruned_mlp = tf.keras.Sequential([\n",
    "    tf.keras.layers.Flatten(),\n",
    "    tf.keras.layers.Dense(units = int(256*alpha), activation='relu'),\n",
    "    tf.keras.layers.Dense(units = int(256*alpha), activation='relu'),\n",
    "    tf.keras.layers.Dense(units = int(256*alpha), activation='relu'),\n",
    "    tf.keras.layers.Dense(units = units)\n",
    "])\n",
    "\n",
    "pruned_cnn = tf.keras.Sequential([\n",
    "    tf.keras.layers.Conv2D(filters=int(128*alpha), kernel_size=[3,3], strides=strides, use_bias=False),\n",
    "    tf.keras.layers.BatchNormalization(momentum=0.1),\n",
    "    tf.keras.layers.ReLU(),\n",
    "    tf.keras.layers.Conv2D(filters=int(128*alpha), kernel_size=[3,3], strides=[1,1], use_bias=False),\n",
    "    tf.keras.layers.BatchNormalization(momentum=0.1),\n",
    "    tf.keras.layers.ReLU(),\n",
    "    tf.keras.layers.Conv2D(filters=int(128*alpha), kernel_size=[3,3], strides=[1,1], use_bias=False),\n",
    "    tf.keras.layers.BatchNormalization(momentum=0.1),\n",
    "    tf.keras.layers.ReLU(),\n",
    "    tf.keras.layers.GlobalAveragePooling2D(),\n",
    "    tf.keras.layers.Dense(units = units)\n",
    "])\n",
    "\n",
    "pruned_ds_cnn = tf.keras.Sequential([\n",
    "    tf.keras.layers.Conv2D(filters=int(256*alpha), kernel_size=[3,3], strides=strides, use_bias=False),\n",
    "    tf.keras.layers.BatchNormalization(momentum=0.1),\n",
    "    tf.keras.layers.ReLU(),\n",
    "    tf.keras.layers.DepthwiseConv2D(kernel_size=[3, 3], strides=[1, 1], use_bias=False),\n",
    "    tf.keras.layers.Conv2D(filters=int(256*alpha), kernel_size=[1,1], strides=[1,1], use_bias=False),\n",
    "    tf.keras.layers.BatchNormalization(momentum=0.1),\n",
    "    tf.keras.layers.ReLU(),\n",
    "    tf.keras.layers.DepthwiseConv2D(kernel_size=[3, 3], strides=[1, 1], use_bias=False),\n",
    "    tf.keras.layers.Conv2D(filters=int(256*alpha), kernel_size=[1,1], strides=[1,1], use_bias=False),\n",
    "    tf.keras.layers.BatchNormalization(momentum=0.1),\n",
    "    tf.keras.layers.ReLU(),\n",
    "    tf.keras.layers.GlobalAveragePooling2D(),\n",
    "    tf.keras.layers.Dense(units = units)\n",
    "])"
   ]
  },
  {
   "cell_type": "code",
   "execution_count": 12,
   "id": "a55220f1",
   "metadata": {},
   "outputs": [],
   "source": [
    "MODELS = {'b': pruned_mlp, 'b': pruned_cnn, 'c': pruned_ds_cnn}\n",
    "model = MODELS[args_version]\n",
    "\n",
    "loss = tf.losses.SparseCategoricalCrossentropy(from_logits=True)\n",
    "optimizer = tf.optimizers.Adam()\n",
    "metrics = [tf.keras.metrics.SparseCategoricalAccuracy()]"
   ]
  },
  {
   "cell_type": "code",
   "execution_count": null,
   "id": "82ddc494",
   "metadata": {},
   "outputs": [],
   "source": [
    "# if args_mfcc is True:\n",
    "#     input_shape = [1, 32, 32, 1]\n",
    "# else:\n",
    "#     input_shape = [1, 49, 10, 1]\n",
    "\n",
    "# # model.build(input_shape)\n",
    "\n",
    "# # Early stopping callback\n",
    "# es_callback = tf.keras.callbacks.EarlyStopping(monitor=\"val_loss\", mode = 'min', min_delta = 0, patience = 6,)# restore_best_weights = True)\n",
    "\n",
    "# model.compile(loss = loss, optimizer = optimizer, metrics = metrics)\n",
    "# model.fit(train_ds, validation_data=val_ds, epochs = 15,)#callbacks=es_callback)\n",
    "\n",
    "# print(model.summary())\n",
    "\n",
    "# test_loss, test_error = model.evaluate(test_ds)\n",
    "# print('Test error: ', test_error)\n",
    "\n",
    "# model = tfmot.sparsity.keras.strip_pruning(model)"
   ]
  },
  {
   "cell_type": "markdown",
   "id": "a7f1c9c5",
   "metadata": {
    "tags": []
   },
   "source": [
    "## Magnitude based pruning"
   ]
  },
  {
   "cell_type": "code",
   "execution_count": 13,
   "id": "fb50ff10",
   "metadata": {},
   "outputs": [
    {
     "name": "stdout",
     "output_type": "stream",
     "text": [
      "WARNING:tensorflow:From /home/luca/ml4iot-env/lib/python3.7/site-packages/tensorflow_model_optimization/python/core/sparsity/keras/pruning_wrapper.py:200: Layer.add_variable (from tensorflow.python.keras.engine.base_layer) is deprecated and will be removed in a future version.\n",
      "Instructions for updating:\n",
      "Please use `layer.add_weight` method instead.\n",
      "Epoch 1/20\n",
      "200/200 [==============================] - 29s 144ms/step - loss: 1.3074 - sparse_categorical_accuracy: 0.6073 - val_loss: 0.8249 - val_sparse_categorical_accuracy: 0.7738\n",
      "Epoch 2/20\n",
      "200/200 [==============================] - 9s 43ms/step - loss: 0.6818 - sparse_categorical_accuracy: 0.8383 - val_loss: 0.5595 - val_sparse_categorical_accuracy: 0.8388\n",
      "Epoch 3/20\n",
      "200/200 [==============================] - 10s 48ms/step - loss: 0.4677 - sparse_categorical_accuracy: 0.8902 - val_loss: 0.4306 - val_sparse_categorical_accuracy: 0.8913\n",
      "Epoch 4/20\n",
      "200/200 [==============================] - 10s 49ms/step - loss: 0.3720 - sparse_categorical_accuracy: 0.9073 - val_loss: 0.3398 - val_sparse_categorical_accuracy: 0.9050\n",
      "Epoch 5/20\n",
      "200/200 [==============================] - 10s 48ms/step - loss: 0.3274 - sparse_categorical_accuracy: 0.9189 - val_loss: 0.3183 - val_sparse_categorical_accuracy: 0.9125\n",
      "Epoch 6/20\n",
      "200/200 [==============================] - 10s 51ms/step - loss: 0.3013 - sparse_categorical_accuracy: 0.9239 - val_loss: 0.2818 - val_sparse_categorical_accuracy: 0.9175\n",
      "Epoch 7/20\n",
      "200/200 [==============================] - 10s 49ms/step - loss: 0.2733 - sparse_categorical_accuracy: 0.9355 - val_loss: 0.3123 - val_sparse_categorical_accuracy: 0.9100\n",
      "Epoch 8/20\n",
      "200/200 [==============================] - 10s 48ms/step - loss: 0.2659 - sparse_categorical_accuracy: 0.9362 - val_loss: 0.3036 - val_sparse_categorical_accuracy: 0.9125\n",
      "Epoch 9/20\n",
      "200/200 [==============================] - 11s 53ms/step - loss: 0.2568 - sparse_categorical_accuracy: 0.9359 - val_loss: 0.2994 - val_sparse_categorical_accuracy: 0.9025\n",
      "Epoch 10/20\n",
      "200/200 [==============================] - 11s 53ms/step - loss: 0.2377 - sparse_categorical_accuracy: 0.9430 - val_loss: 0.2835 - val_sparse_categorical_accuracy: 0.9225\n",
      "Epoch 11/20\n",
      "200/200 [==============================] - 10s 50ms/step - loss: 0.2097 - sparse_categorical_accuracy: 0.9517 - val_loss: 0.2993 - val_sparse_categorical_accuracy: 0.9075\n",
      "Epoch 12/20\n",
      "200/200 [==============================] - 9s 47ms/step - loss: 0.1887 - sparse_categorical_accuracy: 0.9564 - val_loss: 0.2981 - val_sparse_categorical_accuracy: 0.9125\n",
      "Epoch 13/20\n",
      "200/200 [==============================] - 9s 43ms/step - loss: 0.1604 - sparse_categorical_accuracy: 0.9655 - val_loss: 0.2511 - val_sparse_categorical_accuracy: 0.9250\n",
      "Epoch 14/20\n",
      "200/200 [==============================] - 9s 47ms/step - loss: 0.1449 - sparse_categorical_accuracy: 0.9689 - val_loss: 0.2235 - val_sparse_categorical_accuracy: 0.9312\n",
      "Epoch 15/20\n",
      "200/200 [==============================] - 9s 47ms/step - loss: 0.1302 - sparse_categorical_accuracy: 0.9719 - val_loss: 0.2167 - val_sparse_categorical_accuracy: 0.9325\n",
      "Epoch 16/20\n",
      "200/200 [==============================] - 10s 48ms/step - loss: 0.1164 - sparse_categorical_accuracy: 0.9764 - val_loss: 0.2532 - val_sparse_categorical_accuracy: 0.9275\n",
      "Epoch 17/20\n",
      "200/200 [==============================] - 9s 45ms/step - loss: 0.1032 - sparse_categorical_accuracy: 0.9784 - val_loss: 0.2244 - val_sparse_categorical_accuracy: 0.9275\n",
      "Epoch 18/20\n",
      "200/200 [==============================] - 9s 44ms/step - loss: 0.0924 - sparse_categorical_accuracy: 0.9833 - val_loss: 0.2382 - val_sparse_categorical_accuracy: 0.9325\n",
      "Epoch 19/20\n",
      "200/200 [==============================] - 9s 46ms/step - loss: 0.0860 - sparse_categorical_accuracy: 0.9834 - val_loss: 0.2143 - val_sparse_categorical_accuracy: 0.9375\n",
      "Epoch 20/20\n",
      "200/200 [==============================] - 9s 47ms/step - loss: 0.0757 - sparse_categorical_accuracy: 0.9870 - val_loss: 0.1973 - val_sparse_categorical_accuracy: 0.9413\n",
      "Model: \"sequential_1\"\n",
      "_________________________________________________________________\n",
      "Layer (type)                 Output Shape              Param #   \n",
      "=================================================================\n",
      "prune_low_magnitude_conv2d ( (None, 24, 8, 89)         1604      \n",
      "_________________________________________________________________\n",
      "prune_low_magnitude_batch_no (None, 24, 8, 89)         357       \n",
      "_________________________________________________________________\n",
      "prune_low_magnitude_re_lu (P (None, 24, 8, 89)         1         \n",
      "_________________________________________________________________\n",
      "prune_low_magnitude_conv2d_1 (None, 22, 6, 89)         142580    \n",
      "_________________________________________________________________\n",
      "prune_low_magnitude_batch_no (None, 22, 6, 89)         357       \n",
      "_________________________________________________________________\n",
      "prune_low_magnitude_re_lu_1  (None, 22, 6, 89)         1         \n",
      "_________________________________________________________________\n",
      "prune_low_magnitude_conv2d_2 (None, 20, 4, 89)         142580    \n",
      "_________________________________________________________________\n",
      "prune_low_magnitude_batch_no (None, 20, 4, 89)         357       \n",
      "_________________________________________________________________\n",
      "prune_low_magnitude_re_lu_2  (None, 20, 4, 89)         1         \n",
      "_________________________________________________________________\n",
      "prune_low_magnitude_global_a (None, 89)                1         \n",
      "_________________________________________________________________\n",
      "prune_low_magnitude_dense_4  (None, 8)                 1434      \n",
      "=================================================================\n",
      "Total params: 289,273\n",
      "Trainable params: 144,633\n",
      "Non-trainable params: 144,640\n",
      "_________________________________________________________________\n",
      "None\n",
      "25/25 [==============================] - 5s 181ms/step - loss: 0.2387 - sparse_categorical_accuracy: 0.9200\n",
      "Test error:  0.9200000166893005\n"
     ]
    }
   ],
   "source": [
    "epochs = 20\n",
    "\n",
    "pruning_params = {'pruning_schedule':\n",
    "    tfmot.sparsity.keras.PolynomialDecay(\n",
    "        initial_sparsity=0.20,\n",
    "        final_sparsity=0.75,\n",
    "        begin_step=2*len(train_ds),\n",
    "        end_step=15*len(train_ds)\n",
    "        )\n",
    "    }\n",
    "\n",
    "prune_low_magnitude = tfmot.sparsity.keras.prune_low_magnitude\n",
    "model = prune_low_magnitude(model, **pruning_params)\n",
    "\n",
    "# Early stopping callback\n",
    "es_callback = tf.keras.callbacks.EarlyStopping(monitor=\"val_loss\", mode = 'min', min_delta = 0, patience = 6,) #restore_best_weights = True)\n",
    "\n",
    "# Define the pruning callback\n",
    "callbacks = [tfmot.sparsity.keras.UpdatePruningStep(),]# es_callback]\n",
    "\n",
    "# Train the model\n",
    "# if args_mfcc is True:\n",
    "#     print('mfcc')\n",
    "#     input_shape = [1, 32, 32, 1]\n",
    "# else:\n",
    "#     input_shape = [1, 49, 10, 1]\n",
    "\n",
    "input_shape = [1, 49, 10, 1] #mfcc\n",
    "model.build(input_shape) # serve per ds_cnn\n",
    "model.compile(loss = loss, optimizer = optimizer, metrics = metrics)\n",
    "model.fit(train_ds, epochs=epochs, validation_data=val_ds, callbacks=callbacks)\n",
    "\n",
    "print(model.summary())\n",
    "\n",
    "test_loss, test_error = model.evaluate(test_ds)\n",
    "print('Test error: ', test_error)\n",
    "\n",
    "# Strip the model\n",
    "model = tfmot.sparsity.keras.strip_pruning(model)"
   ]
  },
  {
   "cell_type": "markdown",
   "id": "c17d5fa6",
   "metadata": {},
   "source": [
    "## Post Training Quantization"
   ]
  },
  {
   "cell_type": "markdown",
   "id": "5621dd1b",
   "metadata": {},
   "source": [
    "### Weight "
   ]
  },
  {
   "cell_type": "code",
   "execution_count": 12,
   "id": "a2a31dc9",
   "metadata": {},
   "outputs": [],
   "source": [
    "# converter = tf.lite.TFLiteConverter.from_keras_model(model)\n",
    "# converter.target_spec.supported_ops = [\n",
    "#   tf.lite.OpsSet.TFLITE_BUILTINS, # enable TensorFlow Lite ops.\n",
    "#   tf.lite.OpsSet.SELECT_TF_OPS # enable TensorFlow ops.\n",
    "# ]\n",
    "\n",
    "# # converter.target_spec.supported_types = [tf.float16]\n",
    "# converter.optimizations = [tf.lite.Optimize.DEFAULT]"
   ]
  },
  {
   "cell_type": "markdown",
   "id": "824db8ca",
   "metadata": {},
   "source": [
    "### Weight and activation"
   ]
  },
  {
   "cell_type": "code",
   "execution_count": null,
   "id": "2b5582cf",
   "metadata": {},
   "outputs": [],
   "source": [
    "# # integer quantization with float fallback ( Reduce too much the accuracy)\n",
    "# converter = tf.lite.TFLiteConverter.from_keras_model(model)\n",
    "# converter.optimizations = [tf.lite.Optimize.DEFAULT]\n",
    "# converter.representative_dataset = representative_dataset_generator"
   ]
  },
  {
   "cell_type": "code",
   "execution_count": 79,
   "id": "17955ce2",
   "metadata": {},
   "outputs": [],
   "source": [
    "# integer only quantization (ERROR wrong input type)\n",
    "#converter = tf.lite.TFLiteConverter.from_keras_model(model)\n",
    "#converter.optimizations = [tf.lite.Optimize.DEFAULT]\n",
    "#converter.representative_dataset = representative_dataset_generator\n",
    "#converter.target_spec.supported_ops = [tf.lite.OpsSet.TFLITE_BUILTINS_INT8]\n",
    "#converter.inference_input_type = tf.float32\n",
    "#converter.inference_output_type = tf.float32 "
   ]
  },
  {
   "cell_type": "code",
   "execution_count": 14,
   "id": "e19ffe74",
   "metadata": {},
   "outputs": [],
   "source": [
    "# # convert the model to tflite and apply quantizatiom\n",
    "converter = tf.lite.TFLiteConverter.from_keras_model(model)\n",
    "# # w only\n",
    "converter.optimizations = [tf.lite.Optimize.DEFAULT]\n",
    "# # w+a\n",
    "converter.representative_dataset = representative_dataset_generator\n",
    "converter.inference_input_type = tf.float32\n",
    "converter.inference_output_type = tf.float32\n",
    "# experimental integer-only quantization\n",
    "converter.target_spec.supported_ops = [\n",
    "    tf.lite.OpsSet.EXPERIMENTAL_TFLITE_BUILTINS_ACTIVATIONS_INT16_WEIGHTS_INT8\n",
    "]"
   ]
  },
  {
   "cell_type": "code",
   "execution_count": null,
   "id": "77780ee3",
   "metadata": {},
   "outputs": [],
   "source": [
    "# #final \n",
    "# # integer only quantization (ERROR wrong input type)\n",
    "# converter = tf.lite.TFLiteConverter.from_keras_model(model)\n",
    "# converter.optimizations = [tf.lite.Optimize.DEFAULT]\n",
    "# converter.representative_dataset = representative_dataset_generator\n",
    "# converter.target_spec.supported_ops = [tf.lite.OpsSet.TFLITE_BUILTINS_INT8]\n",
    "# converter.inference_input_type = tf.float32\n",
    "# converter.inference_output_type = tf.float32"
   ]
  },
  {
   "cell_type": "markdown",
   "id": "bb901cfc",
   "metadata": {},
   "source": [
    "### No quantization"
   ]
  },
  {
   "cell_type": "code",
   "execution_count": null,
   "id": "d90feef4",
   "metadata": {},
   "outputs": [],
   "source": [
    "# converter = tf.lite.TFLiteConverter.from_keras_model(model)"
   ]
  },
  {
   "cell_type": "markdown",
   "id": "3764ed6c",
   "metadata": {},
   "source": [
    "# Save model as TFLite model"
   ]
  },
  {
   "cell_type": "code",
   "execution_count": 15,
   "id": "2d5bb747",
   "metadata": {},
   "outputs": [
    {
     "name": "stdout",
     "output_type": "stream",
     "text": [
      "WARNING:tensorflow:From /home/luca/ml4iot-env/lib/python3.7/site-packages/tensorflow/python/training/tracking/tracking.py:111: Model.state_updates (from tensorflow.python.keras.engine.training) is deprecated and will be removed in a future version.\n",
      "Instructions for updating:\n",
      "This property should not be used in TensorFlow 2.0, as updates are applied automatically.\n",
      "WARNING:tensorflow:From /home/luca/ml4iot-env/lib/python3.7/site-packages/tensorflow/python/training/tracking/tracking.py:111: Layer.updates (from tensorflow.python.keras.engine.base_layer) is deprecated and will be removed in a future version.\n",
      "Instructions for updating:\n",
      "This property should not be used in TensorFlow 2.0, as updates are applied automatically.\n",
      "INFO:tensorflow:Assets written to: /tmp/tmp775i4is4/assets\n"
     ]
    },
    {
     "ename": "RuntimeError",
     "evalue": "Quantization to 16x8-bit not yet supported for op: ",
     "output_type": "error",
     "traceback": [
      "\u001b[0;31m---------------------------------------------------------------------------\u001b[0m",
      "\u001b[0;31mRuntimeError\u001b[0m                              Traceback (most recent call last)",
      "\u001b[0;32m<ipython-input-15-f103c38f01be>\u001b[0m in \u001b[0;36m<module>\u001b[0;34m\u001b[0m\n\u001b[0;32m----> 1\u001b[0;31m \u001b[0mtflite_model\u001b[0m \u001b[0;34m=\u001b[0m \u001b[0mconverter\u001b[0m\u001b[0;34m.\u001b[0m\u001b[0mconvert\u001b[0m\u001b[0;34m(\u001b[0m\u001b[0;34m)\u001b[0m\u001b[0;34m\u001b[0m\u001b[0;34m\u001b[0m\u001b[0m\n\u001b[0m\u001b[1;32m      2\u001b[0m \u001b[0;34m\u001b[0m\u001b[0m\n\u001b[1;32m      3\u001b[0m \u001b[0;32mif\u001b[0m \u001b[0;32mnot\u001b[0m \u001b[0mos\u001b[0m\u001b[0;34m.\u001b[0m\u001b[0mpath\u001b[0m\u001b[0;34m.\u001b[0m\u001b[0mexists\u001b[0m\u001b[0;34m(\u001b[0m\u001b[0;34m'./models/'\u001b[0m\u001b[0;34m)\u001b[0m\u001b[0;34m:\u001b[0m\u001b[0;34m\u001b[0m\u001b[0;34m\u001b[0m\u001b[0m\n\u001b[1;32m      4\u001b[0m     \u001b[0mos\u001b[0m\u001b[0;34m.\u001b[0m\u001b[0mmakedirs\u001b[0m\u001b[0;34m(\u001b[0m\u001b[0;34m'./models/'\u001b[0m\u001b[0;34m)\u001b[0m\u001b[0;34m\u001b[0m\u001b[0;34m\u001b[0m\u001b[0m\n\u001b[1;32m      5\u001b[0m \u001b[0;34m\u001b[0m\u001b[0m\n",
      "\u001b[0;32m~/ml4iot-env/lib/python3.7/site-packages/tensorflow/lite/python/lite.py\u001b[0m in \u001b[0;36mconvert\u001b[0;34m(self)\u001b[0m\n\u001b[1;32m    829\u001b[0m \u001b[0;34m\u001b[0m\u001b[0m\n\u001b[1;32m    830\u001b[0m     return super(TFLiteKerasModelConverterV2,\n\u001b[0;32m--> 831\u001b[0;31m                  self).convert(graph_def, input_tensors, output_tensors)\n\u001b[0m\u001b[1;32m    832\u001b[0m \u001b[0;34m\u001b[0m\u001b[0m\n\u001b[1;32m    833\u001b[0m \u001b[0;34m\u001b[0m\u001b[0m\n",
      "\u001b[0;32m~/ml4iot-env/lib/python3.7/site-packages/tensorflow/lite/python/lite.py\u001b[0m in \u001b[0;36mconvert\u001b[0;34m(self, graph_def, input_tensors, output_tensors)\u001b[0m\n\u001b[1;32m    636\u001b[0m         self.inference_input_type, self.inference_output_type)\n\u001b[1;32m    637\u001b[0m     \u001b[0;32mif\u001b[0m \u001b[0mcalibrate_and_quantize\u001b[0m\u001b[0;34m:\u001b[0m\u001b[0;34m\u001b[0m\u001b[0;34m\u001b[0m\u001b[0m\n\u001b[0;32m--> 638\u001b[0;31m       \u001b[0mresult\u001b[0m \u001b[0;34m=\u001b[0m \u001b[0mself\u001b[0m\u001b[0;34m.\u001b[0m\u001b[0m_calibrate_quantize_model\u001b[0m\u001b[0;34m(\u001b[0m\u001b[0mresult\u001b[0m\u001b[0;34m,\u001b[0m \u001b[0;34m**\u001b[0m\u001b[0mflags\u001b[0m\u001b[0;34m)\u001b[0m\u001b[0;34m\u001b[0m\u001b[0;34m\u001b[0m\u001b[0m\n\u001b[0m\u001b[1;32m    639\u001b[0m \u001b[0;34m\u001b[0m\u001b[0m\n\u001b[1;32m    640\u001b[0m     \u001b[0;32mif\u001b[0m \u001b[0mself\u001b[0m\u001b[0;34m.\u001b[0m\u001b[0m_experimental_sparsify_model\u001b[0m\u001b[0;34m:\u001b[0m\u001b[0;34m\u001b[0m\u001b[0;34m\u001b[0m\u001b[0m\n",
      "\u001b[0;32m~/ml4iot-env/lib/python3.7/site-packages/tensorflow/lite/python/lite.py\u001b[0m in \u001b[0;36m_calibrate_quantize_model\u001b[0;34m(self, result, inference_input_type, inference_output_type, activations_type, allow_float)\u001b[0m\n\u001b[1;32m    450\u001b[0m       return calibrate_quantize.calibrate_and_quantize(\n\u001b[1;32m    451\u001b[0m           \u001b[0mself\u001b[0m\u001b[0;34m.\u001b[0m\u001b[0mrepresentative_dataset\u001b[0m\u001b[0;34m.\u001b[0m\u001b[0minput_gen\u001b[0m\u001b[0;34m,\u001b[0m \u001b[0minference_input_type\u001b[0m\u001b[0;34m,\u001b[0m\u001b[0;34m\u001b[0m\u001b[0;34m\u001b[0m\u001b[0m\n\u001b[0;32m--> 452\u001b[0;31m           inference_output_type, allow_float, activations_type)\n\u001b[0m\u001b[1;32m    453\u001b[0m \u001b[0;34m\u001b[0m\u001b[0m\n\u001b[1;32m    454\u001b[0m   \u001b[0;32mdef\u001b[0m \u001b[0m_is_unknown_shapes_allowed\u001b[0m\u001b[0;34m(\u001b[0m\u001b[0mself\u001b[0m\u001b[0;34m)\u001b[0m\u001b[0;34m:\u001b[0m\u001b[0;34m\u001b[0m\u001b[0;34m\u001b[0m\u001b[0m\n",
      "\u001b[0;32m~/ml4iot-env/lib/python3.7/site-packages/tensorflow/lite/python/optimize/calibrator.py\u001b[0m in \u001b[0;36mcalibrate_and_quantize\u001b[0;34m(self, dataset_gen, input_type, output_type, allow_float, activations_type, resize_input)\u001b[0m\n\u001b[1;32m     96\u001b[0m         \u001b[0mnp\u001b[0m\u001b[0;34m.\u001b[0m\u001b[0mdtype\u001b[0m\u001b[0;34m(\u001b[0m\u001b[0minput_type\u001b[0m\u001b[0;34m.\u001b[0m\u001b[0mas_numpy_dtype\u001b[0m\u001b[0;34m(\u001b[0m\u001b[0;34m)\u001b[0m\u001b[0;34m)\u001b[0m\u001b[0;34m.\u001b[0m\u001b[0mnum\u001b[0m\u001b[0;34m,\u001b[0m\u001b[0;34m\u001b[0m\u001b[0;34m\u001b[0m\u001b[0m\n\u001b[1;32m     97\u001b[0m         \u001b[0mnp\u001b[0m\u001b[0;34m.\u001b[0m\u001b[0mdtype\u001b[0m\u001b[0;34m(\u001b[0m\u001b[0moutput_type\u001b[0m\u001b[0;34m.\u001b[0m\u001b[0mas_numpy_dtype\u001b[0m\u001b[0;34m(\u001b[0m\u001b[0;34m)\u001b[0m\u001b[0;34m)\u001b[0m\u001b[0;34m.\u001b[0m\u001b[0mnum\u001b[0m\u001b[0;34m,\u001b[0m \u001b[0mallow_float\u001b[0m\u001b[0;34m,\u001b[0m\u001b[0;34m\u001b[0m\u001b[0;34m\u001b[0m\u001b[0m\n\u001b[0;32m---> 98\u001b[0;31m         np.dtype(activations_type.as_numpy_dtype()).num)\n\u001b[0m\u001b[1;32m     99\u001b[0m \u001b[0;34m\u001b[0m\u001b[0m\n\u001b[1;32m    100\u001b[0m   def calibrate_and_quantize_single(self,\n",
      "\u001b[0;31mRuntimeError\u001b[0m: Quantization to 16x8-bit not yet supported for op: "
     ]
    }
   ],
   "source": [
    "tflite_model = converter.convert()\n",
    "\n",
    "if not os.path.exists('./models/'):\n",
    "    os.makedirs('./models/')\n",
    "\n",
    "model_dir = os.path.join('.', 'models', 'Group2_kws_{}.tflite.zlib'.format('b'))\n",
    "with open(model_dir, 'wb') as fp:\n",
    "        tflite_compressed = zlib.compress(tflite_model)\n",
    "        fp.write(tflite_compressed)\n",
    "\n",
    "# Size of the final tflite.zlib model\n",
    "print('Model size version {}: {:.2f}kB'.format(args_version, os.path.getsize(model_dir)/1000))\n",
    "\n",
    "# Evaluation of the tflite.zlib model\n",
    "acc = load_and_evaluation(model_dir, test_ds)\n",
    "print('Accuracy of model version {} = {:.3f}'.format(args_version, acc))"
   ]
  },
  {
   "cell_type": "code",
   "execution_count": 21,
   "id": "f9cbe283",
   "metadata": {},
   "outputs": [
    {
     "name": "stdout",
     "output_type": "stream",
     "text": [
      "Model size: 86.94kB\n"
     ]
    },
    {
     "ename": "RuntimeError",
     "evalue": "Node number 6 (MEAN) failed to prepare.\n",
     "output_type": "error",
     "traceback": [
      "\u001b[0;31m---------------------------------------------------------------------------\u001b[0m",
      "\u001b[0;31mRuntimeError\u001b[0m                              Traceback (most recent call last)",
      "\u001b[0;32m<ipython-input-21-692ce5e3434a>\u001b[0m in \u001b[0;36m<module>\u001b[0;34m\u001b[0m\n\u001b[1;32m      5\u001b[0m \u001b[0;34m\u001b[0m\u001b[0m\n\u001b[1;32m      6\u001b[0m \u001b[0;31m# Evaluation of the tflite.zlib model\u001b[0m\u001b[0;34m\u001b[0m\u001b[0;34m\u001b[0m\u001b[0;34m\u001b[0m\u001b[0m\n\u001b[0;32m----> 7\u001b[0;31m \u001b[0macc\u001b[0m \u001b[0;34m=\u001b[0m \u001b[0mload_and_evaluation\u001b[0m\u001b[0;34m(\u001b[0m\u001b[0mmodel_dir\u001b[0m\u001b[0;34m,\u001b[0m \u001b[0mtest_ds\u001b[0m\u001b[0;34m)\u001b[0m\u001b[0;34m\u001b[0m\u001b[0;34m\u001b[0m\u001b[0m\n\u001b[0m\u001b[1;32m      8\u001b[0m \u001b[0mprint\u001b[0m\u001b[0;34m(\u001b[0m\u001b[0;34m'Accuracy of model = {:.4f}'\u001b[0m\u001b[0;34m.\u001b[0m\u001b[0mformat\u001b[0m\u001b[0;34m(\u001b[0m\u001b[0macc\u001b[0m\u001b[0;34m)\u001b[0m\u001b[0;34m)\u001b[0m\u001b[0;34m\u001b[0m\u001b[0;34m\u001b[0m\u001b[0m\n",
      "\u001b[0;32m<ipython-input-12-8592ac09a11d>\u001b[0m in \u001b[0;36mload_and_evaluation\u001b[0;34m(path, dataset)\u001b[0m\n\u001b[1;32m      4\u001b[0m     \u001b[0mdecompressed_model\u001b[0m \u001b[0;34m=\u001b[0m \u001b[0mzlib\u001b[0m\u001b[0;34m.\u001b[0m\u001b[0mdecompress\u001b[0m\u001b[0;34m(\u001b[0m\u001b[0mf\u001b[0m\u001b[0;34m.\u001b[0m\u001b[0mread\u001b[0m\u001b[0;34m(\u001b[0m\u001b[0;34m)\u001b[0m\u001b[0;34m)\u001b[0m\u001b[0;34m\u001b[0m\u001b[0;34m\u001b[0m\u001b[0m\n\u001b[1;32m      5\u001b[0m     \u001b[0minterpreter\u001b[0m \u001b[0;34m=\u001b[0m \u001b[0mtf\u001b[0m\u001b[0;34m.\u001b[0m\u001b[0mlite\u001b[0m\u001b[0;34m.\u001b[0m\u001b[0mInterpreter\u001b[0m\u001b[0;34m(\u001b[0m\u001b[0mmodel_content\u001b[0m\u001b[0;34m=\u001b[0m\u001b[0mdecompressed_model\u001b[0m\u001b[0;34m)\u001b[0m\u001b[0;34m\u001b[0m\u001b[0;34m\u001b[0m\u001b[0m\n\u001b[0;32m----> 6\u001b[0;31m     \u001b[0minterpreter\u001b[0m\u001b[0;34m.\u001b[0m\u001b[0mallocate_tensors\u001b[0m\u001b[0;34m(\u001b[0m\u001b[0;34m)\u001b[0m\u001b[0;34m\u001b[0m\u001b[0;34m\u001b[0m\u001b[0m\n\u001b[0m\u001b[1;32m      7\u001b[0m     \u001b[0minput_details\u001b[0m \u001b[0;34m=\u001b[0m \u001b[0minterpreter\u001b[0m\u001b[0;34m.\u001b[0m\u001b[0mget_input_details\u001b[0m\u001b[0;34m(\u001b[0m\u001b[0;34m)\u001b[0m\u001b[0;34m\u001b[0m\u001b[0;34m\u001b[0m\u001b[0m\n\u001b[1;32m      8\u001b[0m     \u001b[0moutput_details\u001b[0m \u001b[0;34m=\u001b[0m \u001b[0minterpreter\u001b[0m\u001b[0;34m.\u001b[0m\u001b[0mget_output_details\u001b[0m\u001b[0;34m(\u001b[0m\u001b[0;34m)\u001b[0m\u001b[0;34m\u001b[0m\u001b[0;34m\u001b[0m\u001b[0m\n",
      "\u001b[0;32m~/ml4iot-env/lib/python3.7/site-packages/tensorflow/lite/python/interpreter.py\u001b[0m in \u001b[0;36mallocate_tensors\u001b[0;34m(self)\u001b[0m\n\u001b[1;32m    241\u001b[0m   \u001b[0;32mdef\u001b[0m \u001b[0mallocate_tensors\u001b[0m\u001b[0;34m(\u001b[0m\u001b[0mself\u001b[0m\u001b[0;34m)\u001b[0m\u001b[0;34m:\u001b[0m\u001b[0;34m\u001b[0m\u001b[0;34m\u001b[0m\u001b[0m\n\u001b[1;32m    242\u001b[0m     \u001b[0mself\u001b[0m\u001b[0;34m.\u001b[0m\u001b[0m_ensure_safe\u001b[0m\u001b[0;34m(\u001b[0m\u001b[0;34m)\u001b[0m\u001b[0;34m\u001b[0m\u001b[0;34m\u001b[0m\u001b[0m\n\u001b[0;32m--> 243\u001b[0;31m     \u001b[0;32mreturn\u001b[0m \u001b[0mself\u001b[0m\u001b[0;34m.\u001b[0m\u001b[0m_interpreter\u001b[0m\u001b[0;34m.\u001b[0m\u001b[0mAllocateTensors\u001b[0m\u001b[0;34m(\u001b[0m\u001b[0;34m)\u001b[0m\u001b[0;34m\u001b[0m\u001b[0;34m\u001b[0m\u001b[0m\n\u001b[0m\u001b[1;32m    244\u001b[0m \u001b[0;34m\u001b[0m\u001b[0m\n\u001b[1;32m    245\u001b[0m   \u001b[0;32mdef\u001b[0m \u001b[0m_safe_to_run\u001b[0m\u001b[0;34m(\u001b[0m\u001b[0mself\u001b[0m\u001b[0;34m)\u001b[0m\u001b[0;34m:\u001b[0m\u001b[0;34m\u001b[0m\u001b[0;34m\u001b[0m\u001b[0m\n",
      "\u001b[0;31mRuntimeError\u001b[0m: Node number 6 (MEAN) failed to prepare.\n"
     ]
    }
   ],
   "source": [
    "model_dir = os.path.join('.','models', 'Group2_kws_a.tflite.zlib')\n",
    "\n",
    "# Size of the final tflite.zlib model\n",
    "print('Model size: {:.2f}kB'.format(os.path.getsize(model_dir)/1000))\n",
    "\n",
    "# Evaluation of the tflite.zlib model\n",
    "acc = load_and_evaluation(model_dir, test_ds)\n",
    "print('Accuracy of model = {:.4f}'.format(acc))"
   ]
  }
 ],
 "metadata": {
  "kernelspec": {
   "display_name": "Python 3",
   "language": "python",
   "name": "python3"
  },
  "language_info": {
   "codemirror_mode": {
    "name": "ipython",
    "version": 3
   },
   "file_extension": ".py",
   "mimetype": "text/x-python",
   "name": "python",
   "nbconvert_exporter": "python",
   "pygments_lexer": "ipython3",
   "version": "3.7.12"
  }
 },
 "nbformat": 4,
 "nbformat_minor": 5
}
