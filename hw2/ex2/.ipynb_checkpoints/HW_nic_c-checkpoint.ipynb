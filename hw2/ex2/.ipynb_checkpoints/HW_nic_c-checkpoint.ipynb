{
 "cells": [
  {
   "cell_type": "markdown",
   "id": "79ffef86",
   "metadata": {},
   "source": [
    "# **Exercise 2 - Homework 2**\n",
    "\n",
    "## Download dataset"
   ]
  },
  {
   "cell_type": "code",
   "execution_count": 1,
   "id": "0d93985f-f8ea-4761-982b-96b12a681e74",
   "metadata": {},
   "outputs": [
    {
     "name": "stderr",
     "output_type": "stream",
     "text": [
      "2022-01-03 14:04:52.768449: W tensorflow/stream_executor/platform/default/dso_loader.cc:64] Could not load dynamic library 'libcudart.so.11.0'; dlerror: libcudart.so.11.0: cannot open shared object file: No such file or directory\n",
      "2022-01-03 14:04:52.768479: I tensorflow/stream_executor/cuda/cudart_stub.cc:29] Ignore above cudart dlerror if you do not have a GPU set up on your machine.\n"
     ]
    },
    {
     "name": "stdout",
     "output_type": "stream",
     "text": [
      "2.7.0\n"
     ]
    },
    {
     "data": {
      "text/plain": [
       "'1.19.5'"
      ]
     },
     "execution_count": 1,
     "metadata": {},
     "output_type": "execute_result"
    }
   ],
   "source": [
    "import numpy as np\n",
    "import tensorflow as tf\n",
    "print(tf.__version__)\n",
    "np.version.version"
   ]
  },
  {
   "cell_type": "code",
   "execution_count": 2,
   "id": "7f8ccfbd",
   "metadata": {},
   "outputs": [],
   "source": [
    "# !pip install -U tensorflow-io==0.23.1\n",
    "import argparse \n",
    "import tensorflow_io as tfio\n",
    "from scipy import signal\n",
    "from scipy.io import wavfile\n",
    "import numpy as np\n",
    "import os\n",
    "import zlib\n",
    "import tensorflow as tf\n",
    "import tensorflow_model_optimization as tfmot\n",
    "\n",
    "# from subprocess import Popen\n",
    "# Popen('sudo sh -c \"echo performance >\" /sys/devices/system/cpu/cpufreq/policy0/scaling_governor\"',\n",
    "#       shell=True).wait()\n",
    "\n",
    "args_version = \"a\"\n",
    "args_mfcc = True\n",
    "\n",
    "seed = 42\n",
    "tf.random.set_seed(seed)\n",
    "np.random.seed(seed)\n",
    "\n",
    "zip_path = tf.keras.utils.get_file(\n",
    "    origin=\"http://storage.googleapis.com/download.tensorflow.org/data/mini_speech_commands.zip\",\n",
    "    fname='mini_speech_commands.zip',\n",
    "    extract=True,\n",
    "    cache_dir='.', cache_subdir='data')"
   ]
  },
  {
   "cell_type": "markdown",
   "id": "d8c9c657",
   "metadata": {},
   "source": [
    "## Train/validation/test splits"
   ]
  },
  {
   "cell_type": "code",
   "execution_count": 3,
   "id": "58d1ed5c",
   "metadata": {},
   "outputs": [
    {
     "name": "stderr",
     "output_type": "stream",
     "text": [
      "2022-01-03 14:05:10.486095: W tensorflow/stream_executor/platform/default/dso_loader.cc:64] Could not load dynamic library 'libcuda.so.1'; dlerror: libcuda.so.1: cannot open shared object file: No such file or directory\n",
      "2022-01-03 14:05:10.486163: W tensorflow/stream_executor/cuda/cuda_driver.cc:269] failed call to cuInit: UNKNOWN ERROR (303)\n",
      "2022-01-03 14:05:10.486206: I tensorflow/stream_executor/cuda/cuda_diagnostics.cc:156] kernel driver does not appear to be running on this host (nicola2503-N56JK): /proc/driver/nvidia/version does not exist\n",
      "2022-01-03 14:05:10.486748: I tensorflow/core/platform/cpu_feature_guard.cc:151] This TensorFlow binary is optimized with oneAPI Deep Neural Network Library (oneDNN) to use the following CPU instructions in performance-critical operations:  AVX2 FMA\n",
      "To enable them in other operations, rebuild TensorFlow with the appropriate compiler flags.\n"
     ]
    }
   ],
   "source": [
    "kws_train_split = open(\"kws_train_split.txt\", \"r\")\n",
    "train_lines = kws_train_split.read().splitlines()\n",
    "train_files = tf.convert_to_tensor(train_lines)\n",
    "num_samples_train = train_files.shape\n",
    "\n",
    "kws_val_split = open(\"kws_val_split.txt\", \"r\")\n",
    "val_lines = kws_val_split.read().splitlines()\n",
    "val_files = tf.convert_to_tensor(val_lines)\n",
    "num_samples_val = val_files.shape\n",
    "\n",
    "kws_test_split = open(\"kws_test_split.txt\", \"r\")\n",
    "test_lines = kws_test_split.read().splitlines()\n",
    "test_files = tf.convert_to_tensor(test_lines)\n",
    "num_samples_test = test_files.shape\n",
    "\n",
    "num_samples = num_samples_train[0] + num_samples_val[0] + num_samples_test[0]"
   ]
  },
  {
   "cell_type": "markdown",
   "id": "091cadcc",
   "metadata": {},
   "source": [
    "## Label mapping"
   ]
  },
  {
   "cell_type": "code",
   "execution_count": 4,
   "id": "314dd409",
   "metadata": {},
   "outputs": [],
   "source": [
    "labels = open(\"labels.txt\", \"r\")\n",
    "labels = str(labels.read())\n",
    "characters_to_remove = \"[]''\"\"  \"\n",
    "for character in characters_to_remove: \n",
    "    labels = labels.replace(character, \"\")\n",
    "LABELS = labels.split(\",\")"
   ]
  },
  {
   "cell_type": "markdown",
   "id": "dcfe1fda",
   "metadata": {},
   "source": [
    "## Classes definition"
   ]
  },
  {
   "cell_type": "code",
   "execution_count": 5,
   "id": "eba7e96d",
   "metadata": {},
   "outputs": [],
   "source": [
    "class SignalGenerator:\n",
    "    def __init__(self, labels, sampling_rate, frame_length, frame_step,\n",
    "            num_mel_bins=None, lower_frequency=None, upper_frequency=None,\n",
    "            num_coefficients=None, mfcc=False):\n",
    "        self.labels = labels\n",
    "        self.sampling_rate = sampling_rate\n",
    "        self.frame_length = frame_length\n",
    "        self.frame_step = frame_step\n",
    "        self.num_mel_bins = num_mel_bins\n",
    "        self.lower_frequency = lower_frequency\n",
    "        self.upper_frequency = upper_frequency\n",
    "        self.num_coefficients = num_coefficients\n",
    "        num_spectrogram_bins = (frame_length) // 2 + 1\n",
    "\n",
    "        if mfcc is True:\n",
    "            self.linear_to_mel_weight_matrix = tf.signal.linear_to_mel_weight_matrix(\n",
    "                    self.num_mel_bins, num_spectrogram_bins, self.sampling_rate,\n",
    "                    self.lower_frequency, self.upper_frequency)\n",
    "            self.preprocess = self.preprocess_with_mfcc\n",
    "        else:\n",
    "            self.preprocess = self.preprocess_with_stft\n",
    "\n",
    "    def read(self, file_path):\n",
    "        parts = tf.strings.split(file_path, os.path.sep)\n",
    "        label = parts[-2]\n",
    "        label_id = tf.argmax(label == self.labels)\n",
    "        audio_binary = tf.io.read_file(file_path)\n",
    "        # input_rate, audio = wavfile.read(file_path)\n",
    "        audio, _ = tf.audio.decode_wav(audio_binary)\n",
    "        audio = tfio.audio.resample(audio, 16000, self.sampling_rate)\n",
    "        audio = tf.squeeze(audio, axis=1)\n",
    "        return audio, label_id\n",
    "    \n",
    "    \n",
    "    def pad(self, audio):\n",
    "        zero_padding = tf.zeros([self.sampling_rate] - tf.shape(audio), dtype=tf.float32)\n",
    "        audio = tf.concat([audio, zero_padding], 0)\n",
    "        audio.set_shape([self.sampling_rate])\n",
    "        return audio\n",
    "\n",
    "    \n",
    "    def get_spectrogram(self, audio):\n",
    "        stft = tf.signal.stft(audio, frame_length=self.frame_length,\n",
    "                frame_step=self.frame_step, fft_length=self.frame_length)\n",
    "        spectrogram = tf.abs(stft)\n",
    "        return spectrogram\n",
    "\n",
    "    \n",
    "    def get_mfccs(self, spectrogram):\n",
    "        mel_spectrogram = tf.tensordot(spectrogram,\n",
    "                self.linear_to_mel_weight_matrix, 1)\n",
    "        log_mel_spectrogram = tf.math.log(mel_spectrogram + 1.e-6)\n",
    "        mfccs = tf.signal.mfccs_from_log_mel_spectrograms(log_mel_spectrogram)\n",
    "        mfccs = mfccs[..., :self.num_coefficients]\n",
    "        return mfccs\n",
    "\n",
    "    \n",
    "    def preprocess_with_stft(self, file_path):\n",
    "        audio, label = self.read(file_path)\n",
    "        audio = self.pad(audio)\n",
    "        spectrogram = self.get_spectrogram(audio)\n",
    "        spectrogram = tf.expand_dims(spectrogram, -1)\n",
    "        spectrogram = tf.image.resize(spectrogram, [32, 32])\n",
    "        return spectrogram, label\n",
    "\n",
    "    \n",
    "    def preprocess_with_mfcc(self, file_path):\n",
    "        audio, label = self.read(file_path)\n",
    "        audio = self.pad(audio)\n",
    "        spectrogram = self.get_spectrogram(audio)\n",
    "        mfccs = self.get_mfccs(spectrogram)\n",
    "        mfccs = tf.expand_dims(mfccs, -1)\n",
    "        return mfccs, label\n",
    "\n",
    "    \n",
    "    def make_dataset(self, files, train):\n",
    "        ds = tf.data.Dataset.from_tensor_slices(files)\n",
    "        ds = ds.map(self.preprocess, num_parallel_calls=4)\n",
    "        ds = ds.batch(32)\n",
    "        ds = ds.cache()\n",
    "        if train is True:\n",
    "            ds = ds.shuffle(100, reshuffle_each_iteration=True)\n",
    "        return ds"
   ]
  },
  {
   "cell_type": "code",
   "execution_count": 6,
   "id": "72d6312d-54fd-4ccd-98d6-79e5e7048ba6",
   "metadata": {},
   "outputs": [],
   "source": [
    "# Function for weight and activations quantization \n",
    "def representative_dataset_generator():\n",
    "    for x, _ in train_ds.take(1000):\n",
    "        yield [x]"
   ]
  },
  {
   "cell_type": "markdown",
   "id": "8435e061",
   "metadata": {},
   "source": [
    "## Options for the Signal Generator"
   ]
  },
  {
   "cell_type": "code",
   "execution_count": null,
   "id": "af18078c",
   "metadata": {},
   "outputs": [],
   "source": [
    "sampling_rate = 8000\n",
    "# frame_length = 16e-3 * sampling_rate\n",
    "# frame_step = 8e-3 * sampling_rate\n",
    "# frame_length = int(frame_length)\n",
    "# frame_step = int(frame_step)\n",
    "\n",
    "STFT_OPTIONS = {'frame_length': 256, 'frame_step': 128, 'mfcc': False}\n",
    "MFCC_OPTIONS = {'frame_length': 320, 'frame_step': 160, 'mfcc': True,\n",
    "        'lower_frequency': 20, 'upper_frequency': 4000, 'num_mel_bins': 16,\n",
    "        'num_coefficients': 10}\n",
    "    \n",
    "if args_mfcc is True:\n",
    "    options = MFCC_OPTIONS\n",
    "    print('mfcc')\n",
    "    strides = [2, 1]\n",
    "else:\n",
    "    options = STFT_OPTIONS\n",
    "    strides = [2, 2]\n",
    "    print('stft')\n",
    "    \n",
    "units = len(LABELS)"
   ]
  },
  {
   "cell_type": "markdown",
   "id": "a3e24a20",
   "metadata": {},
   "source": [
    "## Create datasets"
   ]
  },
  {
   "cell_type": "code",
   "execution_count": null,
   "id": "76e51e11",
   "metadata": {},
   "outputs": [],
   "source": [
    "generator = SignalGenerator(LABELS, sampling_rate, **options)\n",
    "train_ds = generator.make_dataset(train_files, True)\n",
    "val_ds = generator.make_dataset(val_files, False)\n",
    "test_ds = generator.make_dataset(test_files, False)"
   ]
  },
  {
   "cell_type": "markdown",
   "id": "c69a9f3e-06f5-4d4f-9775-b30d73b200d3",
   "metadata": {},
   "source": [
    "## Load and evaluation of TfLite models-"
   ]
  },
  {
   "cell_type": "code",
   "execution_count": 16,
   "id": "3a27ab7a-6973-439f-82c0-8ce94007e9e7",
   "metadata": {},
   "outputs": [],
   "source": [
    "# Load and evaluate quantized models\n",
    "def load_and_evaluation(path, dataset):\n",
    "    f = open(path, 'rb')\n",
    "    decompressed_model = zlib.decompress(f.read())\n",
    "    interpreter = tf.lite.Interpreter(model_content=decompressed_model)\n",
    "    interpreter.allocate_tensors()\n",
    "    input_details = interpreter.get_input_details()\n",
    "    output_details = interpreter.get_output_details()\n",
    "    \n",
    "    # set batch size to 1 when running inference with TFLite models\n",
    "    dataset = dataset.unbatch().batch(1)\n",
    "    \n",
    "    outputs = []\n",
    "    labels = []\n",
    "    \n",
    "    for data in dataset:\n",
    "        my_input = np.array(data[0], dtype = np.float32)\n",
    "        label = np.array(data[1], dtype = np.float32)\n",
    "        labels.append(label)\n",
    "\n",
    "        interpreter.set_tensor(input_details[0]['index'], my_input)\n",
    "        interpreter.invoke()\n",
    "        my_output = interpreter.get_tensor(output_details[0]['index'])\n",
    "        outputs.append(my_output[0])\n",
    "        \n",
    "    outputs = np.array(outputs)\n",
    "    labels = np.squeeze(np.array(labels))\n",
    "    \n",
    "    acc = sum(np.equal(labels, np.argmax(outputs, axis=1)))/len(outputs)\n",
    "                 \n",
    "    return acc"
   ]
  },
  {
   "cell_type": "markdown",
   "id": "65c915ba-0c96-4538-8f4f-fa3fc7036914",
   "metadata": {
    "jp-MarkdownHeadingCollapsed": true,
    "tags": []
   },
   "source": [
    "# Training without optimization"
   ]
  },
  {
   "cell_type": "markdown",
   "id": "5335f208",
   "metadata": {
    "tags": []
   },
   "source": [
    "## Define models"
   ]
  },
  {
   "cell_type": "code",
   "execution_count": null,
   "id": "4f650a5c",
   "metadata": {},
   "outputs": [],
   "source": [
    "mlp = tf.keras.Sequential([\n",
    "    tf.keras.layers.Flatten(),\n",
    "    tf.keras.layers.Dense(units = 256, activation='relu'),\n",
    "    tf.keras.layers.Dense(units = 256, activation='relu'),\n",
    "    tf.keras.layers.Dense(units = 256, activation='relu'),\n",
    "    tf.keras.layers.Dense(units = units)\n",
    "])\n",
    "\n",
    "cnn = tf.keras.Sequential([\n",
    "    tf.keras.layers.Conv2D(filters=128, kernel_size=[3,3], strides=strides, use_bias=False),\n",
    "    tf.keras.layers.BatchNormalization(momentum=0.1),\n",
    "    tf.keras.layers.ReLU(),\n",
    "    tf.keras.layers.Conv2D(filters=128, kernel_size=[3,3], strides=[1,1], use_bias=False),\n",
    "    tf.keras.layers.BatchNormalization(momentum=0.1),\n",
    "    tf.keras.layers.ReLU(),\n",
    "    tf.keras.layers.Conv2D(filters=128, kernel_size=[3,3], strides=[1,1], use_bias=False),\n",
    "    tf.keras.layers.BatchNormalization(momentum=0.1),\n",
    "    tf.keras.layers.ReLU(),\n",
    "    tf.keras.layers.GlobalAveragePooling2D(),\n",
    "    tf.keras.layers.Dense(units = units)\n",
    "])\n",
    "\n",
    "ds_cnn = tf.keras.Sequential([\n",
    "    tf.keras.layers.Conv2D(filters=256, kernel_size=[3,3], strides=strides, use_bias=False),\n",
    "    tf.keras.layers.BatchNormalization(momentum=0.1),\n",
    "    tf.keras.layers.ReLU(),\n",
    "    tf.keras.layers.DepthwiseConv2D(kernel_size=[3, 3], strides=[1, 1], use_bias=False),\n",
    "    tf.keras.layers.Conv2D(filters=256, kernel_size=[1,1], strides=[1,1], use_bias=False),\n",
    "    tf.keras.layers.BatchNormalization(momentum=0.1),\n",
    "    tf.keras.layers.ReLU(),\n",
    "    tf.keras.layers.DepthwiseConv2D(kernel_size=[3, 3], strides=[1, 1], use_bias=False),\n",
    "    tf.keras.layers.Conv2D(filters=256, kernel_size=[1,1], strides=[1,1], use_bias=False),\n",
    "    tf.keras.layers.BatchNormalization(momentum=0.1),\n",
    "    tf.keras.layers.ReLU(),\n",
    "    tf.keras.layers.GlobalAveragePooling2D(),\n",
    "    tf.keras.layers.Dense(units = units)\n",
    "])"
   ]
  },
  {
   "cell_type": "markdown",
   "id": "d7f879d2",
   "metadata": {},
   "source": [
    "## Parameters for training"
   ]
  },
  {
   "cell_type": "code",
   "execution_count": null,
   "id": "7b410e7f",
   "metadata": {},
   "outputs": [],
   "source": [
    "MODELS = {'b': mlp, 'b': cnn, 'a': ds_cnn}\n",
    "model = MODELS[args_version]\n",
    "\n",
    "loss = tf.losses.SparseCategoricalCrossentropy(from_logits=True)\n",
    "optimizer = tf.optimizers.Adam()\n",
    "metrics = [tf.keras.metrics.SparseCategoricalAccuracy()]"
   ]
  },
  {
   "cell_type": "markdown",
   "id": "d0a84a53-c71b-43f3-b3be-855214835109",
   "metadata": {},
   "source": [
    "## Training"
   ]
  },
  {
   "cell_type": "code",
   "execution_count": null,
   "id": "ddfff50c-63dc-44e3-90f1-1449500057ca",
   "metadata": {},
   "outputs": [],
   "source": [
    "model.compile(loss = loss, optimizer = optimizer, metrics = metrics)\n",
    "model.fit(train_ds, validation_data=val_ds, epochs=1)\n",
    "\n",
    "print(model.summary())\n",
    "\n",
    "test_loss, test_error = model.evaluate(test_ds)\n",
    "print('Test error: ', test_error)"
   ]
  },
  {
   "cell_type": "markdown",
   "id": "b9407fae-d73c-40ad-b25b-9f4a8fe73f39",
   "metadata": {
    "tags": []
   },
   "source": [
    "# Optimization of the model"
   ]
  },
  {
   "cell_type": "markdown",
   "id": "91b9e83d-98b4-4e8b-aab2-d6995c523e98",
   "metadata": {
    "tags": []
   },
   "source": [
    "## Structured pruning"
   ]
  },
  {
   "cell_type": "code",
   "execution_count": 42,
   "id": "52a5c5b9-0b9f-4534-adb0-cbe0f542a035",
   "metadata": {},
   "outputs": [],
   "source": [
    "alpha = 0.4\n",
    "\n",
    "pruned_mlp = tf.keras.Sequential([\n",
    "    tf.keras.layers.Flatten(),\n",
    "    tf.keras.layers.Dense(units = int(256*alpha), activation='relu'),\n",
    "    tf.keras.layers.Dense(units = int(256*alpha), activation='relu'),\n",
    "    tf.keras.layers.Dense(units = int(256*alpha), activation='relu'),\n",
    "    tf.keras.layers.Dense(units = units)\n",
    "])\n",
    "\n",
    "pruned_cnn = tf.keras.Sequential([\n",
    "    tf.keras.layers.Conv2D(filters=int(128*alpha), kernel_size=[3,3], strides=strides, use_bias=False),\n",
    "    tf.keras.layers.BatchNormalization(momentum=0.1),\n",
    "    tf.keras.layers.ReLU(),\n",
    "    tf.keras.layers.Conv2D(filters=int(128*alpha), kernel_size=[3,3], strides=[1,1], use_bias=False),\n",
    "    tf.keras.layers.BatchNormalization(momentum=0.1),\n",
    "    tf.keras.layers.ReLU(),\n",
    "    tf.keras.layers.Conv2D(filters=int(128*alpha), kernel_size=[3,3], strides=[1,1], use_bias=False),\n",
    "    tf.keras.layers.BatchNormalization(momentum=0.1),\n",
    "    tf.keras.layers.ReLU(),\n",
    "    tf.keras.layers.GlobalAveragePooling2D(),\n",
    "    tf.keras.layers.Dense(units = units)\n",
    "])\n",
    "\n",
    "pruned_ds_cnn = tf.keras.Sequential([\n",
    "    tf.keras.layers.Conv2D(filters=int(256*alpha), kernel_size=[3,3], strides=strides, use_bias=False),\n",
    "    tf.keras.layers.BatchNormalization(momentum=0.1),\n",
    "    tf.keras.layers.ReLU(),\n",
    "    tf.keras.layers.DepthwiseConv2D(kernel_size=[3, 3], strides=[1, 1], use_bias=False),\n",
    "    tf.keras.layers.Conv2D(filters=int(256*alpha), kernel_size=[1,1], strides=[1,1], use_bias=False),\n",
    "    tf.keras.layers.BatchNormalization(momentum=0.1),\n",
    "    tf.keras.layers.ReLU(),\n",
    "    tf.keras.layers.DepthwiseConv2D(kernel_size=[3, 3], strides=[1, 1], use_bias=False),\n",
    "    tf.keras.layers.Conv2D(filters=int(256*alpha), kernel_size=[1,1], strides=[1,1], use_bias=False),\n",
    "    tf.keras.layers.BatchNormalization(momentum=0.1),\n",
    "    tf.keras.layers.ReLU(),\n",
    "    tf.keras.layers.GlobalAveragePooling2D(),\n",
    "    tf.keras.layers.Dense(units = units)\n",
    "])"
   ]
  },
  {
   "cell_type": "code",
   "execution_count": 43,
   "id": "12e181ad-3a4d-4ebb-b552-72a048e2c881",
   "metadata": {},
   "outputs": [],
   "source": [
    "MODELS = {'b': pruned_mlp, 'b': pruned_cnn, 'a': pruned_ds_cnn}\n",
    "model = MODELS[args_version]\n",
    "\n",
    "loss = tf.losses.SparseCategoricalCrossentropy(from_logits=True)\n",
    "optimizer = tf.optimizers.Adam()\n",
    "metrics = [tf.keras.metrics.SparseCategoricalAccuracy()]"
   ]
  },
  {
   "cell_type": "code",
   "execution_count": null,
   "id": "397aecdb-43f5-4c4d-b8ee-390c1a6609c2",
   "metadata": {},
   "outputs": [],
   "source": [
    "if args_mfcc is True:\n",
    "    input_shape = [1, 32, 32, 1]\n",
    "else:\n",
    "    input_shape = [1, 49, 10, 1]\n",
    "\n",
    "# model.build(input_shape)\n",
    "\n",
    "# Early stopping callback\n",
    "es_callback = tf.keras.callbacks.EarlyStopping(monitor=\"val_loss\", mode = 'min', min_delta = 0, patience = 6,)# restore_best_weights = True)\n",
    "\n",
    "model.compile(loss = loss, optimizer = optimizer, metrics = metrics)\n",
    "model.fit(train_ds, validation_data=val_ds, epochs = 15,)#callbacks=es_callback)\n",
    "\n",
    "print(model.summary())\n",
    "\n",
    "test_loss, test_error = model.evaluate(test_ds)\n",
    "print('Test error: ', test_error)\n",
    "\n",
    "model = tfmot.sparsity.keras.strip_pruning(model)"
   ]
  },
  {
   "cell_type": "markdown",
   "id": "d38d6785-d798-4adc-b7d9-62ad9ddf0f39",
   "metadata": {
    "tags": []
   },
   "source": [
    "## Magnitude based pruning"
   ]
  },
  {
   "cell_type": "code",
   "execution_count": 44,
   "id": "22e84114-451f-4c57-95a2-4d100f48963d",
   "metadata": {},
   "outputs": [
    {
     "name": "stderr",
     "output_type": "stream",
     "text": [
      "/home/nicola2503/.local/lib/python3.9/site-packages/tensorflow_model_optimization/python/core/sparsity/keras/pruning_wrapper.py:212: UserWarning: `layer.add_variable` is deprecated and will be removed in a future version. Please use `layer.add_weight` method instead.\n",
      "  mask = self.add_variable(\n",
      "/home/nicola2503/.local/lib/python3.9/site-packages/tensorflow_model_optimization/python/core/sparsity/keras/pruning_wrapper.py:219: UserWarning: `layer.add_variable` is deprecated and will be removed in a future version. Please use `layer.add_weight` method instead.\n",
      "  threshold = self.add_variable(\n",
      "/home/nicola2503/.local/lib/python3.9/site-packages/tensorflow_model_optimization/python/core/sparsity/keras/pruning_wrapper.py:233: UserWarning: `layer.add_variable` is deprecated and will be removed in a future version. Please use `layer.add_weight` method instead.\n",
      "  self.pruning_step = self.add_variable(\n"
     ]
    },
    {
     "name": "stdout",
     "output_type": "stream",
     "text": [
      "Epoch 1/20\n",
      "200/200 [==============================] - 10s 32ms/step - loss: 1.5293 - sparse_categorical_accuracy: 0.5297 - val_loss: 1.0959 - val_sparse_categorical_accuracy: 0.6875\n",
      "Epoch 2/20\n",
      "200/200 [==============================] - 7s 33ms/step - loss: 0.9176 - sparse_categorical_accuracy: 0.7555 - val_loss: 0.7536 - val_sparse_categorical_accuracy: 0.7962\n",
      "Epoch 3/20\n",
      "200/200 [==============================] - 8s 40ms/step - loss: 0.6431 - sparse_categorical_accuracy: 0.8311 - val_loss: 0.5539 - val_sparse_categorical_accuracy: 0.8450\n",
      "Epoch 4/20\n",
      "200/200 [==============================] - 6s 31ms/step - loss: 0.5151 - sparse_categorical_accuracy: 0.8630 - val_loss: 0.5781 - val_sparse_categorical_accuracy: 0.8150\n",
      "Epoch 5/20\n",
      "200/200 [==============================] - 7s 35ms/step - loss: 0.4496 - sparse_categorical_accuracy: 0.8802 - val_loss: 0.6104 - val_sparse_categorical_accuracy: 0.8188\n",
      "Epoch 6/20\n",
      "200/200 [==============================] - 6s 30ms/step - loss: 0.4075 - sparse_categorical_accuracy: 0.8878 - val_loss: 0.4653 - val_sparse_categorical_accuracy: 0.8675\n",
      "Epoch 7/20\n",
      "200/200 [==============================] - 7s 36ms/step - loss: 0.3849 - sparse_categorical_accuracy: 0.8961 - val_loss: 0.5646 - val_sparse_categorical_accuracy: 0.8025\n",
      "Epoch 8/20\n",
      "200/200 [==============================] - 5s 27ms/step - loss: 0.3664 - sparse_categorical_accuracy: 0.8988 - val_loss: 0.4611 - val_sparse_categorical_accuracy: 0.8400\n",
      "Epoch 9/20\n",
      "200/200 [==============================] - 5s 26ms/step - loss: 0.3549 - sparse_categorical_accuracy: 0.9041 - val_loss: 0.4079 - val_sparse_categorical_accuracy: 0.8737\n",
      "Epoch 10/20\n",
      "200/200 [==============================] - 6s 28ms/step - loss: 0.3358 - sparse_categorical_accuracy: 0.9103 - val_loss: 0.4164 - val_sparse_categorical_accuracy: 0.8750\n",
      "Epoch 11/20\n",
      "200/200 [==============================] - 5s 26ms/step - loss: 0.3165 - sparse_categorical_accuracy: 0.9130 - val_loss: 0.3610 - val_sparse_categorical_accuracy: 0.8925\n",
      "Epoch 12/20\n",
      "200/200 [==============================] - 5s 26ms/step - loss: 0.2980 - sparse_categorical_accuracy: 0.9167 - val_loss: 0.3561 - val_sparse_categorical_accuracy: 0.8850\n",
      "Epoch 13/20\n",
      "200/200 [==============================] - 5s 27ms/step - loss: 0.2758 - sparse_categorical_accuracy: 0.9237 - val_loss: 0.3867 - val_sparse_categorical_accuracy: 0.8763\n",
      "Epoch 14/20\n",
      "200/200 [==============================] - 8s 42ms/step - loss: 0.2527 - sparse_categorical_accuracy: 0.9295 - val_loss: 0.2845 - val_sparse_categorical_accuracy: 0.9137\n",
      "Epoch 15/20\n",
      "200/200 [==============================] - 8s 38ms/step - loss: 0.2345 - sparse_categorical_accuracy: 0.9378 - val_loss: 0.3181 - val_sparse_categorical_accuracy: 0.9013\n",
      "Epoch 16/20\n",
      "200/200 [==============================] - 10s 52ms/step - loss: 0.2218 - sparse_categorical_accuracy: 0.9389 - val_loss: 0.2762 - val_sparse_categorical_accuracy: 0.9013\n",
      "Epoch 17/20\n",
      "200/200 [==============================] - 8s 40ms/step - loss: 0.2116 - sparse_categorical_accuracy: 0.9438 - val_loss: 0.3352 - val_sparse_categorical_accuracy: 0.9000\n",
      "Epoch 18/20\n",
      "200/200 [==============================] - 8s 39ms/step - loss: 0.2025 - sparse_categorical_accuracy: 0.9467 - val_loss: 0.2705 - val_sparse_categorical_accuracy: 0.9137\n",
      "Epoch 19/20\n",
      "200/200 [==============================] - 8s 42ms/step - loss: 0.1901 - sparse_categorical_accuracy: 0.9484 - val_loss: 0.2659 - val_sparse_categorical_accuracy: 0.9112\n",
      "Epoch 20/20\n",
      "200/200 [==============================] - 8s 40ms/step - loss: 0.1825 - sparse_categorical_accuracy: 0.9497 - val_loss: 0.2619 - val_sparse_categorical_accuracy: 0.9150\n",
      "Model: \"sequential_14\"\n",
      "_________________________________________________________________\n",
      " Layer (type)                Output Shape              Param #   \n",
      "=================================================================\n",
      " prune_low_magnitude_conv2d_  (None, 24, 8, 102)       1838      \n",
      " 27 (PruneLowMagnitude)                                          \n",
      "                                                                 \n",
      " prune_low_magnitude_batch_n  (None, 24, 8, 102)       409       \n",
      " ormalization_27 (PruneLowMa                                     \n",
      " gnitude)                                                        \n",
      "                                                                 \n",
      " prune_low_magnitude_re_lu_2  (None, 24, 8, 102)       1         \n",
      " 7 (PruneLowMagnitude)                                           \n",
      "                                                                 \n",
      " prune_low_magnitude_depthwi  (None, 22, 6, 102)       919       \n",
      " se_conv2d_8 (PruneLowMagnit                                     \n",
      " ude)                                                            \n",
      "                                                                 \n",
      " prune_low_magnitude_conv2d_  (None, 22, 6, 102)       20810     \n",
      " 28 (PruneLowMagnitude)                                          \n",
      "                                                                 \n",
      " prune_low_magnitude_batch_n  (None, 22, 6, 102)       409       \n",
      " ormalization_28 (PruneLowMa                                     \n",
      " gnitude)                                                        \n",
      "                                                                 \n",
      " prune_low_magnitude_re_lu_2  (None, 22, 6, 102)       1         \n",
      " 8 (PruneLowMagnitude)                                           \n",
      "                                                                 \n",
      " prune_low_magnitude_depthwi  (None, 20, 4, 102)       919       \n",
      " se_conv2d_9 (PruneLowMagnit                                     \n",
      " ude)                                                            \n",
      "                                                                 \n",
      " prune_low_magnitude_conv2d_  (None, 20, 4, 102)       20810     \n",
      " 29 (PruneLowMagnitude)                                          \n",
      "                                                                 \n",
      " prune_low_magnitude_batch_n  (None, 20, 4, 102)       409       \n",
      " ormalization_29 (PruneLowMa                                     \n",
      " gnitude)                                                        \n",
      "                                                                 \n",
      " prune_low_magnitude_re_lu_2  (None, 20, 4, 102)       1         \n",
      " 9 (PruneLowMagnitude)                                           \n",
      "                                                                 \n",
      " prune_low_magnitude_global_  (None, 102)              1         \n",
      " average_pooling2d_9 (PruneL                                     \n",
      " owMagnitude)                                                    \n",
      "                                                                 \n",
      " prune_low_magnitude_dense_2  (None, 8)                1642      \n",
      " 9 (PruneLowMagnitude)                                           \n",
      "                                                                 \n",
      "=================================================================\n",
      "Total params: 48,169\n",
      "Trainable params: 24,998\n",
      "Non-trainable params: 23,171\n",
      "_________________________________________________________________\n",
      "None\n",
      "25/25 [==============================] - 0s 7ms/step - loss: 0.2716 - sparse_categorical_accuracy: 0.9087\n",
      "Test error:  0.9087499976158142\n"
     ]
    }
   ],
   "source": [
    "epochs = 20\n",
    "\n",
    "pruning_params = {'pruning_schedule':\n",
    "    tfmot.sparsity.keras.PolynomialDecay(\n",
    "        initial_sparsity=0.20,\n",
    "        final_sparsity=0.75,\n",
    "        begin_step=2*len(train_ds),\n",
    "        end_step=15*len(train_ds)\n",
    "        )\n",
    "    }\n",
    "\n",
    "prune_low_magnitude = tfmot.sparsity.keras.prune_low_magnitude\n",
    "model = prune_low_magnitude(model, **pruning_params)\n",
    "\n",
    "# Early stopping callback\n",
    "es_callback = tf.keras.callbacks.EarlyStopping(monitor=\"val_loss\", mode = 'min', min_delta = 0, patience = 6,) #restore_best_weights = True)\n",
    "\n",
    "# Define the pruning callback\n",
    "callbacks = [tfmot.sparsity.keras.UpdatePruningStep(),]# es_callback]\n",
    "\n",
    "# Train the model\n",
    "# if args_mfcc is True:\n",
    "#     print('mfcc')\n",
    "#     input_shape = [1, 32, 32, 1]\n",
    "# else:\n",
    "#     input_shape = [1, 49, 10, 1]\n",
    "\n",
    "input_shape = [1, 49, 10, 1] #mfcc\n",
    "model.build(input_shape) # serve per ds_cnn\n",
    "model.compile(loss = loss, optimizer = optimizer, metrics = metrics)\n",
    "model.fit(train_ds, epochs=epochs, validation_data=val_ds, callbacks=callbacks)\n",
    "\n",
    "print(model.summary())\n",
    "\n",
    "test_loss, test_error = model.evaluate(test_ds)\n",
    "print('Test error: ', test_error)\n",
    "\n",
    "# Strip the model\n",
    "model = tfmot.sparsity.keras.strip_pruning(model)"
   ]
  },
  {
   "cell_type": "markdown",
   "id": "70d132ef-5b24-4958-9271-9795f75058b5",
   "metadata": {},
   "source": [
    "## Post Training Quantization"
   ]
  },
  {
   "cell_type": "markdown",
   "id": "43105ef3-94b2-4972-925f-bf1e603f6cdd",
   "metadata": {},
   "source": [
    "### Weight "
   ]
  },
  {
   "cell_type": "code",
   "execution_count": 45,
   "id": "48763df1-d2d0-4ca3-944c-9473ea23dd62",
   "metadata": {},
   "outputs": [],
   "source": [
    "converter = tf.lite.TFLiteConverter.from_keras_model(model)\n",
    "converter.target_spec.supported_ops = [\n",
    "  tf.lite.OpsSet.TFLITE_BUILTINS, # enable TensorFlow Lite ops.\n",
    "  tf.lite.OpsSet.SELECT_TF_OPS # enable TensorFlow ops.\n",
    "]\n",
    "\n",
    "# converter.target_spec.supported_types = [tf.float16]\n",
    "converter.optimizations = [tf.lite.Optimize.DEFAULT]"
   ]
  },
  {
   "cell_type": "markdown",
   "id": "53eb0ca3-704a-4b6d-8658-e374fe1df870",
   "metadata": {},
   "source": [
    "### Weight and activation"
   ]
  },
  {
   "cell_type": "code",
   "execution_count": 18,
   "id": "16c2aa49-7974-4a22-b03b-cc2614f50afb",
   "metadata": {},
   "outputs": [],
   "source": [
    "# integer quantization with float fallback ( Reduce too much the accuracy)\n",
    "converter = tf.lite.TFLiteConverter.from_keras_model(model)\n",
    "converter.optimizations = [tf.lite.Optimize.DEFAULT]\n",
    "converter.representative_dataset = representative_dataset_generator"
   ]
  },
  {
   "cell_type": "code",
   "execution_count": 76,
   "id": "340474ca-03e8-4175-9fb3-8e257fb1e5b4",
   "metadata": {},
   "outputs": [],
   "source": [
    "# integer only quantization (ERROR wrong input type)\n",
    "converter = tf.lite.TFLiteConverter.from_keras_model(model)\n",
    "converter.optimizations = [tf.lite.Optimize.DEFAULT]\n",
    "converter.representative_dataset = representative_dataset_generator\n",
    "converter.target_spec.supported_ops = [tf.lite.OpsSet.TFLITE_BUILTINS_INT8]\n",
    "converter.inference_input_type = tf.float32\n",
    "converter.inference_output_type = tf.float32 "
   ]
  },
  {
   "cell_type": "code",
   "execution_count": 40,
   "id": "1036954e-d407-4c78-b960-972cd323655b",
   "metadata": {},
   "outputs": [],
   "source": [
    "# convert the model to tflite and apply quantizatiom\n",
    "converter = tf.lite.TFLiteConverter.from_keras_model(model)\n",
    "# w only\n",
    "converter.optimizations = [tf.lite.Optimize.DEFAULT]\n",
    "# w+a\n",
    "converter.representative_dataset = representative_dataset_generator\n",
    "converter.inference_input_type = tf.float32\n",
    "converter.inference_output_type = tf.float32\n",
    "# experimental integer-only quantization\n",
    "converter.target_spec.supported_ops = [\n",
    "    tf.lite.OpsSet.EXPERIMENTAL_TFLITE_BUILTINS_ACTIVATIONS_INT16_WEIGHTS_INT8\n",
    "]"
   ]
  },
  {
   "cell_type": "markdown",
   "id": "84cf7671-e3ab-4a65-bed1-c4e738a019f2",
   "metadata": {},
   "source": [
    "### No quantization"
   ]
  },
  {
   "cell_type": "code",
   "execution_count": null,
   "id": "7b5e398c-635c-479f-add0-1c6e7ab0b906",
   "metadata": {},
   "outputs": [],
   "source": [
    "converter = tf.lite.TFLiteConverter.from_keras_model(model)"
   ]
  },
  {
   "cell_type": "markdown",
   "id": "b1744a4f",
   "metadata": {},
   "source": [
    "# Save model as TFLite model"
   ]
  },
  {
   "cell_type": "code",
   "execution_count": 46,
   "id": "44106a54",
   "metadata": {},
   "outputs": [
    {
     "name": "stdout",
     "output_type": "stream",
     "text": [
      "INFO:tensorflow:Assets written to: /tmp/tmptulg2adp/assets\n"
     ]
    },
    {
     "name": "stderr",
     "output_type": "stream",
     "text": [
      "INFO:tensorflow:Assets written to: /tmp/tmptulg2adp/assets\n",
      "2022-01-03 14:27:12.398499: W tensorflow/compiler/mlir/lite/python/tf_tfl_flatbuffer_helpers.cc:363] Ignored output_format.\n",
      "2022-01-03 14:27:12.398532: W tensorflow/compiler/mlir/lite/python/tf_tfl_flatbuffer_helpers.cc:366] Ignored drop_control_dependency.\n",
      "2022-01-03 14:27:12.398775: I tensorflow/cc/saved_model/reader.cc:43] Reading SavedModel from: /tmp/tmptulg2adp\n",
      "2022-01-03 14:27:12.402639: I tensorflow/cc/saved_model/reader.cc:107] Reading meta graph with tags { serve }\n",
      "2022-01-03 14:27:12.402662: I tensorflow/cc/saved_model/reader.cc:148] Reading SavedModel debug info (if present) from: /tmp/tmptulg2adp\n",
      "2022-01-03 14:27:12.414563: I tensorflow/cc/saved_model/loader.cc:210] Restoring SavedModel bundle.\n",
      "2022-01-03 14:27:12.457808: I tensorflow/cc/saved_model/loader.cc:194] Running initialization op on SavedModel bundle at path: /tmp/tmptulg2adp\n",
      "2022-01-03 14:27:12.479187: I tensorflow/cc/saved_model/loader.cc:283] SavedModel load for tags { serve }; Status: success: OK. Took 80412 microseconds.\n",
      "2022-01-03 14:27:12.583230: I tensorflow/lite/tools/optimize/quantize_weights.cc:225] Skipping quantization of tensor sequential_14/conv2d_27/Conv2D because it has fewer than 1024 elements (918).\n",
      "2022-01-03 14:27:12.583262: I tensorflow/lite/tools/optimize/quantize_weights.cc:225] Skipping quantization of tensor sequential_14/depthwise_conv2d_8/depthwise because it has fewer than 1024 elements (918).\n",
      "2022-01-03 14:27:12.583269: I tensorflow/lite/tools/optimize/quantize_weights.cc:225] Skipping quantization of tensor sequential_14/depthwise_conv2d_9/depthwise because it has fewer than 1024 elements (918).\n",
      "2022-01-03 14:27:12.583275: I tensorflow/lite/tools/optimize/quantize_weights.cc:225] Skipping quantization of tensor sequential_14/dense_29/MatMul because it has fewer than 1024 elements (816).\n"
     ]
    },
    {
     "name": "stdout",
     "output_type": "stream",
     "text": [
      "Model size version a: 24.34kB\n",
      "Accuracy of model version a = 0.912\n"
     ]
    }
   ],
   "source": [
    "tflite_model = converter.convert()\n",
    "\n",
    "if not os.path.exists('./models/'):\n",
    "    os.makedirs('./models/')\n",
    "\n",
    "model_dir = os.path.join('.', 'models', 'Group2_kws_{}.tflite.zlib'.format(args_version))\n",
    "with open(model_dir, 'wb') as fp:\n",
    "        tflite_compressed = zlib.compress(tflite_model)\n",
    "        fp.write(tflite_compressed)\n",
    "\n",
    "# Size of the final tflite.zlib model\n",
    "print('Model size version {}: {:.2f}kB'.format(args_version, os.path.getsize(model_dir)/1000))\n",
    "\n",
    "# Evaluation of the tflite.zlib model\n",
    "acc = load_and_evaluation(model_dir, test_ds)\n",
    "print('Accuracy of model version {} = {:.3f}'.format(args_version, acc))"
   ]
  }
 ],
 "metadata": {
  "kernelspec": {
   "display_name": "Python 3 (ipykernel)",
   "language": "python",
   "name": "python3"
  },
  "language_info": {
   "codemirror_mode": {
    "name": "ipython",
    "version": 3
   },
   "file_extension": ".py",
   "mimetype": "text/x-python",
   "name": "python",
   "nbconvert_exporter": "python",
   "pygments_lexer": "ipython3",
   "version": "3.9.7"
  }
 },
 "nbformat": 4,
 "nbformat_minor": 5
}
