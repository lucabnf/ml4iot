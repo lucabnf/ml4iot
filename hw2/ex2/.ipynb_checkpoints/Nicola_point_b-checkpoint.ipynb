{
 "cells": [
  {
   "cell_type": "markdown",
   "id": "79ffef86",
   "metadata": {},
   "source": [
    "# **Exercise 2 - Homework 2**\n",
    "\n",
    "## Download dataset"
   ]
  },
  {
   "cell_type": "code",
   "execution_count": 38,
   "id": "7f8ccfbd",
   "metadata": {},
   "outputs": [],
   "source": [
    "# !pip install -U tensorflow-io==0.23.1\n",
    "import argparse \n",
    "import tensorflow_io as tfio\n",
    "from scipy import signal\n",
    "from scipy.io import wavfile\n",
    "import numpy as np\n",
    "import os\n",
    "import zlib\n",
    "import tensorflow as tf\n",
    "import tensorflow_model_optimization as tfmot\n",
    "\n",
    "# from subprocess import Popen\n",
    "# Popen('sudo sh -c \"echo performance >\" /sys/devices/system/cpu/cpufreq/policy0/scaling_governor\"',\n",
    "#       shell=True).wait()\n",
    "\n",
    "# args_version = \"a\"\n",
    "args_mfcc = True\n",
    "\n",
    "seed = 42\n",
    "tf.random.set_seed(seed)\n",
    "np.random.seed(seed)\n",
    "\n",
    "zip_path = tf.keras.utils.get_file(\n",
    "    origin=\"http://storage.googleapis.com/download.tensorflow.org/data/mini_speech_commands.zip\",\n",
    "    fname='mini_speech_commands.zip',\n",
    "    extract=True,\n",
    "    cache_dir='.', cache_subdir='data')"
   ]
  },
  {
   "cell_type": "markdown",
   "id": "d8c9c657",
   "metadata": {},
   "source": [
    "## Train/validation/test splits"
   ]
  },
  {
   "cell_type": "code",
   "execution_count": 39,
   "id": "58d1ed5c",
   "metadata": {},
   "outputs": [],
   "source": [
    "kws_train_split = open(\"kws_train_split.txt\", \"r\")\n",
    "train_lines = kws_train_split.read().splitlines()\n",
    "train_files = tf.convert_to_tensor(train_lines)\n",
    "num_samples_train = train_files.shape\n",
    "\n",
    "kws_val_split = open(\"kws_val_split.txt\", \"r\")\n",
    "val_lines = kws_val_split.read().splitlines()\n",
    "val_files = tf.convert_to_tensor(val_lines)\n",
    "num_samples_val = val_files.shape\n",
    "\n",
    "kws_test_split = open(\"kws_test_split.txt\", \"r\")\n",
    "test_lines = kws_test_split.read().splitlines()\n",
    "test_files = tf.convert_to_tensor(test_lines)\n",
    "num_samples_test = test_files.shape\n",
    "\n",
    "num_samples = num_samples_train[0] + num_samples_val[0] + num_samples_test[0]"
   ]
  },
  {
   "cell_type": "markdown",
   "id": "091cadcc",
   "metadata": {},
   "source": [
    "## Label mapping"
   ]
  },
  {
   "cell_type": "code",
   "execution_count": 40,
   "id": "314dd409",
   "metadata": {},
   "outputs": [],
   "source": [
    "labels = open(\"labels.txt\", \"r\")\n",
    "labels = str(labels.read())\n",
    "characters_to_remove = \"[]''\"\"  \"\n",
    "for character in characters_to_remove: \n",
    "    labels = labels.replace(character, \"\")\n",
    "LABELS = labels.split(\",\")"
   ]
  },
  {
   "cell_type": "markdown",
   "id": "dcfe1fda",
   "metadata": {},
   "source": [
    "## Classes definition"
   ]
  },
  {
   "cell_type": "code",
   "execution_count": 41,
   "id": "94dd7bb0-4ac4-4d5d-9d50-f0369b308175",
   "metadata": {},
   "outputs": [],
   "source": [
    "def res(audio, sampling_rate):        \n",
    "    audio = signal.resample_poly(audio, 1, 16000 // sampling_rate)\n",
    "    return np.array(audio, dtype = np.float32)\n",
    "    \n",
    "def tf_function(audio, sampling_rate):\n",
    "    audio = tf.numpy_function(res, [audio, sampling_rate], tf.float32)\n",
    "    return audio"
   ]
  },
  {
   "cell_type": "code",
   "execution_count": 42,
   "id": "eba7e96d",
   "metadata": {},
   "outputs": [],
   "source": [
    "class SignalGenerator:\n",
    "    def __init__(self, labels, sampling_rate, frame_length, frame_step,\n",
    "            num_mel_bins=None, lower_frequency=None, upper_frequency=None,\n",
    "            num_coefficients=None, mfcc=False):\n",
    "        self.labels = labels\n",
    "        self.sampling_rate = sampling_rate\n",
    "        self.frame_length = frame_length\n",
    "        self.frame_step = frame_step\n",
    "        self.num_mel_bins = num_mel_bins\n",
    "        self.lower_frequency = lower_frequency\n",
    "        self.upper_frequency = upper_frequency\n",
    "        self.num_coefficients = num_coefficients\n",
    "        num_spectrogram_bins = (frame_length) // 2 + 1\n",
    "\n",
    "        if mfcc is True:\n",
    "            self.linear_to_mel_weight_matrix = tf.signal.linear_to_mel_weight_matrix(\n",
    "                    self.num_mel_bins, num_spectrogram_bins, self.sampling_rate,\n",
    "                    self.lower_frequency, self.upper_frequency)\n",
    "            self.preprocess = self.preprocess_with_mfcc\n",
    "        else:\n",
    "            self.preprocess = self.preprocess_with_stft\n",
    "    \n",
    "    def read(self, file_path):\n",
    "        parts = tf.strings.split(file_path, os.path.sep)\n",
    "        label = parts[-2]\n",
    "        label_id = tf.argmax(label == self.labels)\n",
    "        audio_binary = tf.io.read_file(file_path)\n",
    "        # input_rate, audio = wavfile.read(file_path)\n",
    "        audio, _ = tf.audio.decode_wav(audio_binary)\n",
    "        # audio = tfio.audio.resample(audio, 16000, self.sampling_rate)\n",
    "        \n",
    "        audio = tf_function(audio, sampling_rate)\n",
    "        \n",
    "        audio = tf.squeeze(audio, axis=1)\n",
    "        return audio, label_id\n",
    "    \n",
    "    \n",
    "    def pad(self, audio):\n",
    "        zero_padding = tf.zeros([self.sampling_rate] - tf.shape(audio), dtype=tf.float32)\n",
    "        audio = tf.concat([audio, zero_padding], 0)\n",
    "        audio.set_shape([self.sampling_rate])\n",
    "        return audio\n",
    "\n",
    "    \n",
    "    def get_spectrogram(self, audio):\n",
    "        stft = tf.signal.stft(audio, frame_length=self.frame_length,\n",
    "                frame_step=self.frame_step, fft_length=self.frame_length)\n",
    "        spectrogram = tf.abs(stft)\n",
    "        return spectrogram\n",
    "\n",
    "    \n",
    "    def get_mfccs(self, spectrogram):\n",
    "        mel_spectrogram = tf.tensordot(spectrogram,\n",
    "                self.linear_to_mel_weight_matrix, 1)\n",
    "        log_mel_spectrogram = tf.math.log(mel_spectrogram + 1.e-6)\n",
    "        mfccs = tf.signal.mfccs_from_log_mel_spectrograms(log_mel_spectrogram)\n",
    "        mfccs = mfccs[..., :self.num_coefficients]\n",
    "        return mfccs\n",
    "\n",
    "    \n",
    "    def preprocess_with_stft(self, file_path):\n",
    "        audio, label = self.read(file_path)\n",
    "        audio = self.pad(audio)\n",
    "        spectrogram = self.get_spectrogram(audio)\n",
    "        spectrogram = tf.expand_dims(spectrogram, -1)\n",
    "        spectrogram = tf.image.resize(spectrogram, [32, 32])\n",
    "        return spectrogram, label\n",
    "\n",
    "    \n",
    "    def preprocess_with_mfcc(self, file_path):\n",
    "        audio, label = self.read(file_path)\n",
    "        audio = self.pad(audio)\n",
    "        spectrogram = self.get_spectrogram(audio)\n",
    "        mfccs = self.get_mfccs(spectrogram)\n",
    "        mfccs = tf.expand_dims(mfccs, -1)\n",
    "        return mfccs, label\n",
    "\n",
    "    \n",
    "    def make_dataset(self, files, train):\n",
    "        ds = tf.data.Dataset.from_tensor_slices(files)\n",
    "        ds = ds.map(self.preprocess, num_parallel_calls=4)\n",
    "        ds = ds.batch(32)\n",
    "        ds = ds.cache()\n",
    "        if train is True:\n",
    "            ds = ds.shuffle(100, reshuffle_each_iteration=True)\n",
    "        return ds"
   ]
  },
  {
   "cell_type": "code",
   "execution_count": 43,
   "id": "72d6312d-54fd-4ccd-98d6-79e5e7048ba6",
   "metadata": {},
   "outputs": [],
   "source": [
    "# Function for weight and activations quantization \n",
    "def representative_dataset_generator():\n",
    "    for x, _ in train_ds.take(1000):\n",
    "        yield [x]"
   ]
  },
  {
   "cell_type": "markdown",
   "id": "8435e061",
   "metadata": {},
   "source": [
    "## Options for the Signal Generator"
   ]
  },
  {
   "cell_type": "code",
   "execution_count": 44,
   "id": "af18078c",
   "metadata": {},
   "outputs": [
    {
     "name": "stdout",
     "output_type": "stream",
     "text": [
      "mfcc\n"
     ]
    }
   ],
   "source": [
    "sampling_rate = 8000\n",
    "# frame_length = 16e-3 * sampling_rate\n",
    "# frame_step = 8e-3 * sampling_rate\n",
    "# frame_length = int(frame_length)\n",
    "# frame_step = int(frame_step)\n",
    "\n",
    "STFT_OPTIONS = {'frame_length': 256, 'frame_step': 128, 'mfcc': False}\n",
    "MFCC_OPTIONS = {'frame_length': 320, 'frame_step': 160, 'mfcc': True,\n",
    "        'lower_frequency': 20, 'upper_frequency': 4000, 'num_mel_bins': 16,\n",
    "        'num_coefficients': 10}\n",
    "    \n",
    "if args_mfcc is True:\n",
    "    options = MFCC_OPTIONS\n",
    "    print('mfcc')\n",
    "    strides = [2, 1]\n",
    "else:\n",
    "    options = STFT_OPTIONS\n",
    "    strides = [2, 2]\n",
    "    print('stft')\n",
    "    \n",
    "units = len(LABELS)"
   ]
  },
  {
   "cell_type": "markdown",
   "id": "a3e24a20",
   "metadata": {},
   "source": [
    "## Create datasets"
   ]
  },
  {
   "cell_type": "code",
   "execution_count": 45,
   "id": "76e51e11",
   "metadata": {},
   "outputs": [],
   "source": [
    "generator = SignalGenerator(LABELS, sampling_rate, **options)\n",
    "train_ds = generator.make_dataset(train_files, True)\n",
    "val_ds = generator.make_dataset(val_files, False)\n",
    "test_ds = generator.make_dataset(test_files, False)"
   ]
  },
  {
   "cell_type": "markdown",
   "id": "c69a9f3e-06f5-4d4f-9775-b30d73b200d3",
   "metadata": {},
   "source": [
    "## Load and evaluation of TfLite models-"
   ]
  },
  {
   "cell_type": "code",
   "execution_count": 33,
   "id": "3a27ab7a-6973-439f-82c0-8ce94007e9e7",
   "metadata": {},
   "outputs": [],
   "source": [
    "# Load and evaluate quantized models\n",
    "def load_and_evaluation(path, dataset):\n",
    "    f = open(path, 'rb')\n",
    "    decompressed_model = zlib.decompress(f.read())\n",
    "    interpreter = tf.lite.Interpreter(model_content=decompressed_model)\n",
    "    interpreter.allocate_tensors()\n",
    "    input_details = interpreter.get_input_details()\n",
    "    output_details = interpreter.get_output_details()\n",
    "    \n",
    "    # set batch size to 1 when running inference with TFLite models\n",
    "    dataset = dataset.unbatch().batch(1)\n",
    "    \n",
    "    outputs = []\n",
    "    labels = []\n",
    "    \n",
    "    for data in dataset:\n",
    "        my_input = np.array(data[0], dtype = np.float32)\n",
    "        label = np.array(data[1], dtype = np.float32)\n",
    "        labels.append(label)\n",
    "\n",
    "        interpreter.set_tensor(input_details[0]['index'], my_input)\n",
    "        interpreter.invoke()\n",
    "        my_output = interpreter.get_tensor(output_details[0]['index'])\n",
    "        outputs.append(my_output[0])\n",
    "        \n",
    "    outputs = np.array(outputs)\n",
    "    labels = np.squeeze(np.array(labels))\n",
    "    \n",
    "    acc = sum(np.equal(labels, np.argmax(outputs, axis=1)))/len(outputs)\n",
    "                 \n",
    "    return acc"
   ]
  },
  {
   "cell_type": "markdown",
   "id": "65c915ba-0c96-4538-8f4f-fa3fc7036914",
   "metadata": {
    "jp-MarkdownHeadingCollapsed": true,
    "tags": []
   },
   "source": [
    "# Training without optimization"
   ]
  },
  {
   "cell_type": "markdown",
   "id": "5335f208",
   "metadata": {
    "tags": []
   },
   "source": [
    "## Define models"
   ]
  },
  {
   "cell_type": "code",
   "execution_count": 27,
   "id": "4f650a5c",
   "metadata": {},
   "outputs": [],
   "source": [
    "mlp = tf.keras.Sequential([\n",
    "    tf.keras.layers.Flatten(),\n",
    "    tf.keras.layers.Dense(units = 256, activation='relu'),\n",
    "    tf.keras.layers.Dense(units = 256, activation='relu'),\n",
    "    tf.keras.layers.Dense(units = 256, activation='relu'),\n",
    "    tf.keras.layers.Dense(units = units)\n",
    "])\n",
    "\n",
    "cnn = tf.keras.Sequential([\n",
    "    tf.keras.layers.Conv2D(filters=128, kernel_size=[3,3], strides=strides, use_bias=False),\n",
    "    tf.keras.layers.BatchNormalization(momentum=0.1),\n",
    "    tf.keras.layers.ReLU(),\n",
    "    tf.keras.layers.Conv2D(filters=128, kernel_size=[3,3], strides=[1,1], use_bias=False),\n",
    "    tf.keras.layers.BatchNormalization(momentum=0.1),\n",
    "    tf.keras.layers.ReLU(),\n",
    "    tf.keras.layers.Conv2D(filters=128, kernel_size=[3,3], strides=[1,1], use_bias=False),\n",
    "    tf.keras.layers.BatchNormalization(momentum=0.1),\n",
    "    tf.keras.layers.ReLU(),\n",
    "    tf.keras.layers.GlobalAveragePooling2D(),\n",
    "    tf.keras.layers.Dense(units = units)\n",
    "])\n",
    "\n",
    "ds_cnn = tf.keras.Sequential([\n",
    "    tf.keras.layers.Conv2D(filters=256, kernel_size=[3,3], strides=strides, use_bias=False),\n",
    "    tf.keras.layers.BatchNormalization(momentum=0.1),\n",
    "    tf.keras.layers.ReLU(),\n",
    "    tf.keras.layers.DepthwiseConv2D(kernel_size=[3, 3], strides=[1, 1], use_bias=False),\n",
    "    tf.keras.layers.Conv2D(filters=256, kernel_size=[1,1], strides=[1,1], use_bias=False),\n",
    "    tf.keras.layers.BatchNormalization(momentum=0.1),\n",
    "    tf.keras.layers.ReLU(),\n",
    "    tf.keras.layers.DepthwiseConv2D(kernel_size=[3, 3], strides=[1, 1], use_bias=False),\n",
    "    tf.keras.layers.Conv2D(filters=256, kernel_size=[1,1], strides=[1,1], use_bias=False),\n",
    "    tf.keras.layers.BatchNormalization(momentum=0.1),\n",
    "    tf.keras.layers.ReLU(),\n",
    "    tf.keras.layers.GlobalAveragePooling2D(),\n",
    "    tf.keras.layers.Dense(units = units)\n",
    "])"
   ]
  },
  {
   "cell_type": "markdown",
   "id": "d7f879d2",
   "metadata": {},
   "source": [
    "## Parameters for training"
   ]
  },
  {
   "cell_type": "code",
   "execution_count": 28,
   "id": "7b410e7f",
   "metadata": {},
   "outputs": [],
   "source": [
    "MODELS = {'b': mlp, 'b': cnn, 'a': ds_cnn}\n",
    "model = MODELS[args_version]\n",
    "\n",
    "loss = tf.losses.SparseCategoricalCrossentropy(from_logits=True)\n",
    "optimizer = tf.optimizers.Adam()\n",
    "metrics = [tf.keras.metrics.SparseCategoricalAccuracy()]"
   ]
  },
  {
   "cell_type": "markdown",
   "id": "d0a84a53-c71b-43f3-b3be-855214835109",
   "metadata": {},
   "source": [
    "## Training"
   ]
  },
  {
   "cell_type": "code",
   "execution_count": 14,
   "id": "ddfff50c-63dc-44e3-90f1-1449500057ca",
   "metadata": {},
   "outputs": [
    {
     "ename": "InvalidArgumentError",
     "evalue": " 0-th value returned by pyfunc_0 is double, but expects float\n\t [[{{node PyFunc}}]]\n\t [[IteratorGetNext]] [Op:__inference_train_function_7628]",
     "output_type": "error",
     "traceback": [
      "\u001b[0;31m---------------------------------------------------------------------------\u001b[0m",
      "\u001b[0;31mInvalidArgumentError\u001b[0m                      Traceback (most recent call last)",
      "\u001b[0;32m/tmp/ipykernel_3631/2093887962.py\u001b[0m in \u001b[0;36m<module>\u001b[0;34m\u001b[0m\n\u001b[1;32m      1\u001b[0m \u001b[0mmodel\u001b[0m\u001b[0;34m.\u001b[0m\u001b[0mcompile\u001b[0m\u001b[0;34m(\u001b[0m\u001b[0mloss\u001b[0m \u001b[0;34m=\u001b[0m \u001b[0mloss\u001b[0m\u001b[0;34m,\u001b[0m \u001b[0moptimizer\u001b[0m \u001b[0;34m=\u001b[0m \u001b[0moptimizer\u001b[0m\u001b[0;34m,\u001b[0m \u001b[0mmetrics\u001b[0m \u001b[0;34m=\u001b[0m \u001b[0mmetrics\u001b[0m\u001b[0;34m)\u001b[0m\u001b[0;34m\u001b[0m\u001b[0;34m\u001b[0m\u001b[0m\n\u001b[0;32m----> 2\u001b[0;31m \u001b[0mmodel\u001b[0m\u001b[0;34m.\u001b[0m\u001b[0mfit\u001b[0m\u001b[0;34m(\u001b[0m\u001b[0mtrain_ds\u001b[0m\u001b[0;34m,\u001b[0m \u001b[0mvalidation_data\u001b[0m\u001b[0;34m=\u001b[0m\u001b[0mval_ds\u001b[0m\u001b[0;34m,\u001b[0m \u001b[0mepochs\u001b[0m\u001b[0;34m=\u001b[0m\u001b[0;36m1\u001b[0m\u001b[0;34m)\u001b[0m\u001b[0;34m\u001b[0m\u001b[0;34m\u001b[0m\u001b[0m\n\u001b[0m\u001b[1;32m      3\u001b[0m \u001b[0;34m\u001b[0m\u001b[0m\n\u001b[1;32m      4\u001b[0m \u001b[0mprint\u001b[0m\u001b[0;34m(\u001b[0m\u001b[0mmodel\u001b[0m\u001b[0;34m.\u001b[0m\u001b[0msummary\u001b[0m\u001b[0;34m(\u001b[0m\u001b[0;34m)\u001b[0m\u001b[0;34m)\u001b[0m\u001b[0;34m\u001b[0m\u001b[0;34m\u001b[0m\u001b[0m\n\u001b[1;32m      5\u001b[0m \u001b[0;34m\u001b[0m\u001b[0m\n",
      "\u001b[0;32m~/.local/lib/python3.9/site-packages/keras/utils/traceback_utils.py\u001b[0m in \u001b[0;36merror_handler\u001b[0;34m(*args, **kwargs)\u001b[0m\n\u001b[1;32m     65\u001b[0m     \u001b[0;32mexcept\u001b[0m \u001b[0mException\u001b[0m \u001b[0;32mas\u001b[0m \u001b[0me\u001b[0m\u001b[0;34m:\u001b[0m  \u001b[0;31m# pylint: disable=broad-except\u001b[0m\u001b[0;34m\u001b[0m\u001b[0;34m\u001b[0m\u001b[0m\n\u001b[1;32m     66\u001b[0m       \u001b[0mfiltered_tb\u001b[0m \u001b[0;34m=\u001b[0m \u001b[0m_process_traceback_frames\u001b[0m\u001b[0;34m(\u001b[0m\u001b[0me\u001b[0m\u001b[0;34m.\u001b[0m\u001b[0m__traceback__\u001b[0m\u001b[0;34m)\u001b[0m\u001b[0;34m\u001b[0m\u001b[0;34m\u001b[0m\u001b[0m\n\u001b[0;32m---> 67\u001b[0;31m       \u001b[0;32mraise\u001b[0m \u001b[0me\u001b[0m\u001b[0;34m.\u001b[0m\u001b[0mwith_traceback\u001b[0m\u001b[0;34m(\u001b[0m\u001b[0mfiltered_tb\u001b[0m\u001b[0;34m)\u001b[0m \u001b[0;32mfrom\u001b[0m \u001b[0;32mNone\u001b[0m\u001b[0;34m\u001b[0m\u001b[0;34m\u001b[0m\u001b[0m\n\u001b[0m\u001b[1;32m     68\u001b[0m     \u001b[0;32mfinally\u001b[0m\u001b[0;34m:\u001b[0m\u001b[0;34m\u001b[0m\u001b[0;34m\u001b[0m\u001b[0m\n\u001b[1;32m     69\u001b[0m       \u001b[0;32mdel\u001b[0m \u001b[0mfiltered_tb\u001b[0m\u001b[0;34m\u001b[0m\u001b[0;34m\u001b[0m\u001b[0m\n",
      "\u001b[0;32m~/.local/lib/python3.9/site-packages/tensorflow/python/eager/execute.py\u001b[0m in \u001b[0;36mquick_execute\u001b[0;34m(op_name, num_outputs, inputs, attrs, ctx, name)\u001b[0m\n\u001b[1;32m     56\u001b[0m   \u001b[0;32mtry\u001b[0m\u001b[0;34m:\u001b[0m\u001b[0;34m\u001b[0m\u001b[0;34m\u001b[0m\u001b[0m\n\u001b[1;32m     57\u001b[0m     \u001b[0mctx\u001b[0m\u001b[0;34m.\u001b[0m\u001b[0mensure_initialized\u001b[0m\u001b[0;34m(\u001b[0m\u001b[0;34m)\u001b[0m\u001b[0;34m\u001b[0m\u001b[0;34m\u001b[0m\u001b[0m\n\u001b[0;32m---> 58\u001b[0;31m     tensors = pywrap_tfe.TFE_Py_Execute(ctx._handle, device_name, op_name,\n\u001b[0m\u001b[1;32m     59\u001b[0m                                         inputs, attrs, num_outputs)\n\u001b[1;32m     60\u001b[0m   \u001b[0;32mexcept\u001b[0m \u001b[0mcore\u001b[0m\u001b[0;34m.\u001b[0m\u001b[0m_NotOkStatusException\u001b[0m \u001b[0;32mas\u001b[0m \u001b[0me\u001b[0m\u001b[0;34m:\u001b[0m\u001b[0;34m\u001b[0m\u001b[0;34m\u001b[0m\u001b[0m\n",
      "\u001b[0;31mInvalidArgumentError\u001b[0m:  0-th value returned by pyfunc_0 is double, but expects float\n\t [[{{node PyFunc}}]]\n\t [[IteratorGetNext]] [Op:__inference_train_function_7628]"
     ]
    }
   ],
   "source": [
    "model.compile(loss = loss, optimizer = optimizer, metrics = metrics)\n",
    "model.fit(train_ds, validation_data=val_ds, epochs=1)\n",
    "\n",
    "print(model.summary())\n",
    "\n",
    "test_loss, test_error = model.evaluate(test_ds)\n",
    "print('Test error: ', test_error)"
   ]
  },
  {
   "cell_type": "markdown",
   "id": "b9407fae-d73c-40ad-b25b-9f4a8fe73f39",
   "metadata": {
    "jp-MarkdownHeadingCollapsed": true,
    "tags": []
   },
   "source": [
    "# Optimization of the model"
   ]
  },
  {
   "cell_type": "markdown",
   "id": "91b9e83d-98b4-4e8b-aab2-d6995c523e98",
   "metadata": {
    "tags": []
   },
   "source": [
    "## Structured pruning"
   ]
  },
  {
   "cell_type": "code",
   "execution_count": 11,
   "id": "52a5c5b9-0b9f-4534-adb0-cbe0f542a035",
   "metadata": {},
   "outputs": [],
   "source": [
    "alpha = 0.7\n",
    "\n",
    "pruned_mlp = tf.keras.Sequential([\n",
    "    tf.keras.layers.Flatten(),\n",
    "    tf.keras.layers.Dense(units = int(256*alpha), activation='relu'),\n",
    "    tf.keras.layers.Dense(units = int(256*alpha), activation='relu'),\n",
    "    tf.keras.layers.Dense(units = int(256*alpha), activation='relu'),\n",
    "    tf.keras.layers.Dense(units = units)\n",
    "])\n",
    "\n",
    "pruned_cnn = tf.keras.Sequential([\n",
    "    tf.keras.layers.Conv2D(filters=int(128*alpha), kernel_size=[3,3], strides=strides, use_bias=False),\n",
    "    tf.keras.layers.BatchNormalization(momentum=0.1),\n",
    "    tf.keras.layers.ReLU(),\n",
    "    tf.keras.layers.Conv2D(filters=int(128*alpha), kernel_size=[3,3], strides=[1,1], use_bias=False),\n",
    "    tf.keras.layers.BatchNormalization(momentum=0.1),\n",
    "    tf.keras.layers.ReLU(),\n",
    "    tf.keras.layers.Conv2D(filters=int(128*alpha), kernel_size=[3,3], strides=[1,1], use_bias=False),\n",
    "    tf.keras.layers.BatchNormalization(momentum=0.1),\n",
    "    tf.keras.layers.ReLU(),\n",
    "    tf.keras.layers.GlobalAveragePooling2D(),\n",
    "    tf.keras.layers.Dense(units = units)\n",
    "])\n",
    "\n",
    "pruned_ds_cnn = tf.keras.Sequential([\n",
    "    tf.keras.layers.Conv2D(filters=int(256*alpha), kernel_size=[3,3], strides=strides, use_bias=False),\n",
    "    tf.keras.layers.BatchNormalization(momentum=0.1),\n",
    "    tf.keras.layers.ReLU(),\n",
    "    tf.keras.layers.DepthwiseConv2D(kernel_size=[3, 3], strides=[1, 1], use_bias=False),\n",
    "    tf.keras.layers.Conv2D(filters=int(256*alpha), kernel_size=[1,1], strides=[1,1], use_bias=False),\n",
    "    tf.keras.layers.BatchNormalization(momentum=0.1),\n",
    "    tf.keras.layers.ReLU(),\n",
    "    tf.keras.layers.DepthwiseConv2D(kernel_size=[3, 3], strides=[1, 1], use_bias=False),\n",
    "    tf.keras.layers.Conv2D(filters=int(256*alpha), kernel_size=[1,1], strides=[1,1], use_bias=False),\n",
    "    tf.keras.layers.BatchNormalization(momentum=0.1),\n",
    "    tf.keras.layers.ReLU(),\n",
    "    tf.keras.layers.GlobalAveragePooling2D(),\n",
    "    tf.keras.layers.Dense(units = units)\n",
    "])"
   ]
  },
  {
   "cell_type": "code",
   "execution_count": 12,
   "id": "12e181ad-3a4d-4ebb-b552-72a048e2c881",
   "metadata": {},
   "outputs": [],
   "source": [
    "MODELS = {'b': pruned_mlp, 'b': pruned_cnn, 'a': pruned_ds_cnn}\n",
    "model = MODELS[args_version]\n",
    "\n",
    "loss = tf.losses.SparseCategoricalCrossentropy(from_logits=True)\n",
    "optimizer = tf.optimizers.Adam()\n",
    "metrics = [tf.keras.metrics.SparseCategoricalAccuracy()]"
   ]
  },
  {
   "cell_type": "code",
   "execution_count": null,
   "id": "397aecdb-43f5-4c4d-b8ee-390c1a6609c2",
   "metadata": {},
   "outputs": [],
   "source": [
    "# if args_mfcc is True:\n",
    "#     input_shape = [1, 32, 32, 1]\n",
    "# else:\n",
    "#     input_shape = [1, 49, 10, 1]\n",
    "\n",
    "# # model.build(input_shape)\n",
    "\n",
    "# # Early stopping callback\n",
    "# es_callback = tf.keras.callbacks.EarlyStopping(monitor=\"val_loss\", mode = 'min', min_delta = 0, patience = 6,)# restore_best_weights = True)\n",
    "\n",
    "# model.compile(loss = loss, optimizer = optimizer, metrics = metrics)\n",
    "# model.fit(train_ds, validation_data=val_ds, epochs = 15,)#callbacks=es_callback)\n",
    "\n",
    "# print(model.summary())\n",
    "\n",
    "# test_loss, test_error = model.evaluate(test_ds)\n",
    "# print('Test error: ', test_error)\n",
    "\n",
    "# model = tfmot.sparsity.keras.strip_pruning(model)"
   ]
  },
  {
   "cell_type": "markdown",
   "id": "d38d6785-d798-4adc-b7d9-62ad9ddf0f39",
   "metadata": {
    "tags": []
   },
   "source": [
    "## Magnitude based pruning"
   ]
  },
  {
   "cell_type": "code",
   "execution_count": 13,
   "id": "22e84114-451f-4c57-95a2-4d100f48963d",
   "metadata": {},
   "outputs": [
    {
     "name": "stderr",
     "output_type": "stream",
     "text": [
      "/home/nicola2503/.local/lib/python3.9/site-packages/tensorflow_model_optimization/python/core/sparsity/keras/pruning_wrapper.py:212: UserWarning: `layer.add_variable` is deprecated and will be removed in a future version. Please use `layer.add_weight` method instead.\n",
      "  mask = self.add_variable(\n",
      "/home/nicola2503/.local/lib/python3.9/site-packages/tensorflow_model_optimization/python/core/sparsity/keras/pruning_wrapper.py:219: UserWarning: `layer.add_variable` is deprecated and will be removed in a future version. Please use `layer.add_weight` method instead.\n",
      "  threshold = self.add_variable(\n",
      "/home/nicola2503/.local/lib/python3.9/site-packages/tensorflow_model_optimization/python/core/sparsity/keras/pruning_wrapper.py:233: UserWarning: `layer.add_variable` is deprecated and will be removed in a future version. Please use `layer.add_weight` method instead.\n",
      "  self.pruning_step = self.add_variable(\n"
     ]
    },
    {
     "name": "stdout",
     "output_type": "stream",
     "text": [
      "Epoch 1/15\n"
     ]
    },
    {
     "name": "stderr",
     "output_type": "stream",
     "text": [
      "2022-01-05 16:50:35.359870: I tensorflow/core/kernels/data/shuffle_dataset_op.cc:380] Filling up shuffle buffer (this may take a while): 66 of 100\n"
     ]
    },
    {
     "name": "stdout",
     "output_type": "stream",
     "text": [
      "  1/200 [..............................] - ETA: 1:11:47 - loss: 2.0542 - sparse_categorical_accuracy: 0.1250"
     ]
    },
    {
     "name": "stderr",
     "output_type": "stream",
     "text": [
      "2022-01-05 16:50:40.913972: I tensorflow/core/kernels/data/shuffle_dataset_op.cc:405] Shuffle buffer filled.\n"
     ]
    },
    {
     "name": "stdout",
     "output_type": "stream",
     "text": [
      "200/200 [==============================] - 51s 145ms/step - loss: 1.3022 - sparse_categorical_accuracy: 0.6017 - val_loss: 0.7624 - val_sparse_categorical_accuracy: 0.7763\n",
      "Epoch 2/15\n",
      "200/200 [==============================] - 13s 64ms/step - loss: 0.6545 - sparse_categorical_accuracy: 0.8250 - val_loss: 0.5560 - val_sparse_categorical_accuracy: 0.8263\n",
      "Epoch 3/15\n",
      "200/200 [==============================] - 14s 72ms/step - loss: 0.4497 - sparse_categorical_accuracy: 0.8834 - val_loss: 0.4260 - val_sparse_categorical_accuracy: 0.8825\n",
      "Epoch 4/15\n",
      "200/200 [==============================] - 15s 74ms/step - loss: 0.3622 - sparse_categorical_accuracy: 0.9033 - val_loss: 0.3947 - val_sparse_categorical_accuracy: 0.8800\n",
      "Epoch 5/15\n",
      "200/200 [==============================] - 11s 55ms/step - loss: 0.3162 - sparse_categorical_accuracy: 0.9141 - val_loss: 0.4421 - val_sparse_categorical_accuracy: 0.8587\n",
      "Epoch 6/15\n",
      "200/200 [==============================] - 11s 57ms/step - loss: 0.2894 - sparse_categorical_accuracy: 0.9203 - val_loss: 0.3418 - val_sparse_categorical_accuracy: 0.8938\n",
      "Epoch 7/15\n",
      "200/200 [==============================] - 12s 59ms/step - loss: 0.2692 - sparse_categorical_accuracy: 0.9269 - val_loss: 0.3569 - val_sparse_categorical_accuracy: 0.8900\n",
      "Epoch 8/15\n",
      "200/200 [==============================] - 16s 78ms/step - loss: 0.2587 - sparse_categorical_accuracy: 0.9309 - val_loss: 0.4026 - val_sparse_categorical_accuracy: 0.8863\n",
      "Epoch 9/15\n",
      "200/200 [==============================] - 14s 68ms/step - loss: 0.2421 - sparse_categorical_accuracy: 0.9352 - val_loss: 0.3118 - val_sparse_categorical_accuracy: 0.8963\n",
      "Epoch 10/15\n",
      "200/200 [==============================] - 12s 58ms/step - loss: 0.2253 - sparse_categorical_accuracy: 0.9408 - val_loss: 0.3628 - val_sparse_categorical_accuracy: 0.8763\n",
      "Epoch 11/15\n",
      "200/200 [==============================] - 12s 58ms/step - loss: 0.2159 - sparse_categorical_accuracy: 0.9408 - val_loss: 0.3573 - val_sparse_categorical_accuracy: 0.8900\n",
      "Epoch 12/15\n",
      "200/200 [==============================] - 13s 65ms/step - loss: 0.1955 - sparse_categorical_accuracy: 0.9477 - val_loss: 0.3022 - val_sparse_categorical_accuracy: 0.9025\n",
      "Epoch 13/15\n",
      "200/200 [==============================] - 12s 57ms/step - loss: 0.1720 - sparse_categorical_accuracy: 0.9539 - val_loss: 0.2609 - val_sparse_categorical_accuracy: 0.9175\n",
      "Epoch 14/15\n",
      "200/200 [==============================] - 11s 57ms/step - loss: 0.1553 - sparse_categorical_accuracy: 0.9606 - val_loss: 0.2299 - val_sparse_categorical_accuracy: 0.9250\n",
      "Epoch 15/15\n",
      "200/200 [==============================] - 12s 58ms/step - loss: 0.1367 - sparse_categorical_accuracy: 0.9641 - val_loss: 0.2239 - val_sparse_categorical_accuracy: 0.9262\n",
      "Model: \"sequential_2\"\n",
      "_________________________________________________________________\n",
      " Layer (type)                Output Shape              Param #   \n",
      "=================================================================\n",
      " prune_low_magnitude_conv2d_  (None, 24, 8, 179)       3224      \n",
      " 3 (PruneLowMagnitude)                                           \n",
      "                                                                 \n",
      " prune_low_magnitude_batch_n  (None, 24, 8, 179)       717       \n",
      " ormalization_3 (PruneLowMag                                     \n",
      " nitude)                                                         \n",
      "                                                                 \n",
      " prune_low_magnitude_re_lu_3  (None, 24, 8, 179)       1         \n",
      "  (PruneLowMagnitude)                                            \n",
      "                                                                 \n",
      " prune_low_magnitude_depthwi  (None, 22, 6, 179)       1612      \n",
      " se_conv2d (PruneLowMagnitud                                     \n",
      " e)                                                              \n",
      "                                                                 \n",
      " prune_low_magnitude_conv2d_  (None, 22, 6, 179)       64084     \n",
      " 4 (PruneLowMagnitude)                                           \n",
      "                                                                 \n",
      " prune_low_magnitude_batch_n  (None, 22, 6, 179)       717       \n",
      " ormalization_4 (PruneLowMag                                     \n",
      " nitude)                                                         \n",
      "                                                                 \n",
      " prune_low_magnitude_re_lu_4  (None, 22, 6, 179)       1         \n",
      "  (PruneLowMagnitude)                                            \n",
      "                                                                 \n",
      " prune_low_magnitude_depthwi  (None, 20, 4, 179)       1612      \n",
      " se_conv2d_1 (PruneLowMagnit                                     \n",
      " ude)                                                            \n",
      "                                                                 \n",
      " prune_low_magnitude_conv2d_  (None, 20, 4, 179)       64084     \n",
      " 5 (PruneLowMagnitude)                                           \n",
      "                                                                 \n",
      " prune_low_magnitude_batch_n  (None, 20, 4, 179)       717       \n",
      " ormalization_5 (PruneLowMag                                     \n",
      " nitude)                                                         \n",
      "                                                                 \n",
      " prune_low_magnitude_re_lu_5  (None, 20, 4, 179)       1         \n",
      "  (PruneLowMagnitude)                                            \n",
      "                                                                 \n",
      " prune_low_magnitude_global_  (None, 179)              1         \n",
      " average_pooling2d_1 (PruneL                                     \n",
      " owMagnitude)                                                    \n",
      "                                                                 \n",
      " prune_low_magnitude_dense_5  (None, 8)                2874      \n",
      "  (PruneLowMagnitude)                                            \n",
      "                                                                 \n",
      "=================================================================\n",
      "Total params: 139,645\n",
      "Trainable params: 71,429\n",
      "Non-trainable params: 68,216\n",
      "_________________________________________________________________\n",
      "None\n",
      "25/25 [==============================] - 5s 207ms/step - loss: 0.2384 - sparse_categorical_accuracy: 0.9287\n",
      "Test error:  0.9287499785423279\n"
     ]
    }
   ],
   "source": [
    "epochs = 15\n",
    "\n",
    "pruning_params = {'pruning_schedule':\n",
    "    tfmot.sparsity.keras.PolynomialDecay(\n",
    "        initial_sparsity=0.20,\n",
    "        final_sparsity=0.75,\n",
    "        begin_step=2*len(train_ds),\n",
    "        end_step=15*len(train_ds)\n",
    "        )\n",
    "    }\n",
    "\n",
    "prune_low_magnitude = tfmot.sparsity.keras.prune_low_magnitude\n",
    "model = prune_low_magnitude(model, **pruning_params)\n",
    "\n",
    "# Early stopping callback\n",
    "es_callback = tf.keras.callbacks.EarlyStopping(monitor=\"val_loss\", mode = 'min', min_delta = 0, patience = 6,) #restore_best_weights = True)\n",
    "\n",
    "# Define the pruning callback\n",
    "callbacks = [tfmot.sparsity.keras.UpdatePruningStep(),]# es_callback]\n",
    "\n",
    "# Train the model\n",
    "# if args_mfcc is True:\n",
    "#     print('mfcc')\n",
    "#     input_shape = [1, 32, 32, 1]\n",
    "# else:\n",
    "#     input_shape = [1, 49, 10, 1]\n",
    "\n",
    "input_shape = [1, 49, 10, 1] #mfcc\n",
    "model.build(input_shape) # serve per ds_cnn\n",
    "model.compile(loss = loss, optimizer = optimizer, metrics = metrics)\n",
    "model.fit(train_ds, epochs=epochs, validation_data=val_ds, callbacks=callbacks)\n",
    "\n",
    "print(model.summary())\n",
    "\n",
    "test_loss, test_error = model.evaluate(test_ds)\n",
    "print('Test error: ', test_error)\n",
    "\n",
    "# Strip the model\n",
    "model = tfmot.sparsity.keras.strip_pruning(model)"
   ]
  },
  {
   "cell_type": "markdown",
   "id": "70d132ef-5b24-4958-9271-9795f75058b5",
   "metadata": {},
   "source": [
    "## Post Training Quantization"
   ]
  },
  {
   "cell_type": "markdown",
   "id": "43105ef3-94b2-4972-925f-bf1e603f6cdd",
   "metadata": {},
   "source": [
    "### Weight "
   ]
  },
  {
   "cell_type": "code",
   "execution_count": 12,
   "id": "48763df1-d2d0-4ca3-944c-9473ea23dd62",
   "metadata": {},
   "outputs": [],
   "source": [
    "converter = tf.lite.TFLiteConverter.from_keras_model(model)\n",
    "converter.target_spec.supported_ops = [\n",
    "  tf.lite.OpsSet.TFLITE_BUILTINS, # enable TensorFlow Lite ops.\n",
    "  tf.lite.OpsSet.SELECT_TF_OPS # enable TensorFlow ops.\n",
    "]\n",
    "\n",
    "# converter.target_spec.supported_types = [tf.float16]\n",
    "converter.optimizations = [tf.lite.Optimize.DEFAULT]"
   ]
  },
  {
   "cell_type": "markdown",
   "id": "53eb0ca3-704a-4b6d-8658-e374fe1df870",
   "metadata": {},
   "source": [
    "### Weight and activation"
   ]
  },
  {
   "cell_type": "code",
   "execution_count": null,
   "id": "16c2aa49-7974-4a22-b03b-cc2614f50afb",
   "metadata": {},
   "outputs": [],
   "source": [
    "# # integer quantization with float fallback ( Reduce too much the accuracy)\n",
    "# converter = tf.lite.TFLiteConverter.from_keras_model(model)\n",
    "# converter.optimizations = [tf.lite.Optimize.DEFAULT]\n",
    "# converter.representative_dataset = representative_dataset_generator"
   ]
  },
  {
   "cell_type": "code",
   "execution_count": 14,
   "id": "340474ca-03e8-4175-9fb3-8e257fb1e5b4",
   "metadata": {},
   "outputs": [],
   "source": [
    "# integer only quantization (ERROR wrong input type)\n",
    "converter = tf.lite.TFLiteConverter.from_keras_model(model)\n",
    "converter.optimizations = [tf.lite.Optimize.DEFAULT]\n",
    "converter.representative_dataset = representative_dataset_generator\n",
    "converter.target_spec.supported_ops = [tf.lite.OpsSet.TFLITE_BUILTINS_INT8]\n",
    "converter.inference_input_type = tf.float32\n",
    "converter.inference_output_type = tf.float32 "
   ]
  },
  {
   "cell_type": "code",
   "execution_count": null,
   "id": "1036954e-d407-4c78-b960-972cd323655b",
   "metadata": {},
   "outputs": [],
   "source": [
    "# experimental integer-only quantization\n",
    "converter = tf.lite.TFLiteConverter.from_keras_model(model)\n",
    "converter.optimizations = [tf.lite.Optimize.DEFAULT]\n",
    "converter.representative_dataset = representative_dataset_generator\n",
    "converter.inference_input_type = tf.float32\n",
    "converter.inference_output_type = tf.float32\n",
    "converter.target_spec.supported_ops = [\n",
    "    tf.lite.OpsSet.EXPERIMENTAL_TFLITE_BUILTINS_ACTIVATIONS_INT16_WEIGHTS_INT8\n",
    "]"
   ]
  },
  {
   "cell_type": "markdown",
   "id": "84cf7671-e3ab-4a65-bed1-c4e738a019f2",
   "metadata": {},
   "source": [
    "### No quantization"
   ]
  },
  {
   "cell_type": "code",
   "execution_count": null,
   "id": "7b5e398c-635c-479f-add0-1c6e7ab0b906",
   "metadata": {},
   "outputs": [],
   "source": [
    "# converter = tf.lite.TFLiteConverter.from_keras_model(model)"
   ]
  },
  {
   "cell_type": "markdown",
   "id": "b1744a4f",
   "metadata": {},
   "source": [
    "# Save model as TFLite model"
   ]
  },
  {
   "cell_type": "code",
   "execution_count": 46,
   "id": "44106a54",
   "metadata": {},
   "outputs": [
    {
     "name": "stdout",
     "output_type": "stream",
     "text": [
      "Model size version a: 24.72kB\n",
      "Accuracy of model version a = 0.907\n"
     ]
    }
   ],
   "source": [
    "# tflite_model = converter.convert()\n",
    "\n",
    "# if not os.path.exists('./models/'):\n",
    "#     os.makedirs('./models/')\n",
    "\n",
    "model_dir = os.path.join('.', 'models', 'drive_C_notOK.zlib')\n",
    "# with open(model_dir, 'wb') as fp:\n",
    "#         tflite_compressed = zlib.compress(tflite_model)\n",
    "#         fp.write(tflite_compressed)\n",
    "\n",
    "# Size of the final tflite.zlib model\n",
    "print('Model size version {}: {:.2f}kB'.format('a', os.path.getsize(model_dir)/1000))\n",
    "\n",
    "# Evaluation of the tflite.zlib model\n",
    "acc = load_and_evaluation(model_dir, test_ds)\n",
    "print('Accuracy of model version {} = {:.3f}'.format(args_version, acc))"
   ]
  }
 ],
 "metadata": {
  "kernelspec": {
   "display_name": "Python 3 (ipykernel)",
   "language": "python",
   "name": "python3"
  },
  "language_info": {
   "codemirror_mode": {
    "name": "ipython",
    "version": 3
   },
   "file_extension": ".py",
   "mimetype": "text/x-python",
   "name": "python",
   "nbconvert_exporter": "python",
   "pygments_lexer": "ipython3",
   "version": "3.9.7"
  }
 },
 "nbformat": 4,
 "nbformat_minor": 5
}
